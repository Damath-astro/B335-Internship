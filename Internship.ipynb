{
 "cells": [
  {
   "cell_type": "code",
   "execution_count": 23,
   "id": "e793d228",
   "metadata": {},
   "outputs": [],
   "source": [
    "import pylab as pl\n",
    "import astropy as py\n",
    "import aplpy\n",
    "from astropy.io import fits\n",
    "from astropy.coordinates import SkyCoord\n",
    "from astropy import constants\n",
    "from scipy import constants as const\n",
    "import numpy as np\n",
    "from matplotlib import cm\n",
    "import astropy.units as u\n",
    "from astropy.wcs import WCS\n",
    "from astropy.nddata.utils import Cutout2D \n",
    "from astropy.utils.data import get_pkg_data_filename\n",
    "import matplotlib.pyplot as plt\n",
    "from spectral_cube import SpectralCube\n",
    "import pyspeckit\n",
    "from pvextractor import extract_pv_slice, Path, PathFromCenter\n",
    "from radio_beam import Beam\n",
    "%matplotlib inline\n",
    "plt.rcParams[\"figure.figsize\"] = (12,6)\n",
    "plt.rcParams[\"axes.labelsize\"] = 'xx-large'\n",
    "plt.rcParams['axes.titlesize'] = 'xx-large'\n",
    "plt.rcParams['xtick.labelsize'] = 'xx-large'\n",
    "plt.rcParams['ytick.labelsize'] = 'xx-large'\n",
    "plt.rcParams.update({\"text.usetex\": False,\n",
    "                     \"font.family\": \"serif\",\n",
    "                     'xtick.direction': 'out',\n",
    "                     'ytick.direction': 'in'})"
   ]
  },
  {
   "cell_type": "code",
   "execution_count": 24,
   "id": "a6805a0c",
   "metadata": {},
   "outputs": [],
   "source": [
    "vlsr = 8.3\n",
    "\n",
    "position = SkyCoord(\"19h37m0.9s\",\"7d34m9.6s\")\n",
    "cutout_size = u.Quantity((5.0, 5.0), u.arcsec)\n",
    "\n",
    "file_cube_SO_vel = 'Documents/Cube_SO_vel.fits'\n",
    "file_SO_fit = 'Documents/Spec_SO_vel_fit.fits'\n",
    "file_cont = 'Downloads/member.uid___A001_X145_X2b3.CB199.cont.pbcor.fits'\n",
    "file_cont_squeeze = 'Documents/B335_cont.fits'\n",
    "file_subcube_SO_vel = 'Documents/Sub_Cube_SO.fits'\n",
    "file_par = 'Documents/Spec_SO_vel_fit_clean.fits'\n",
    "\n",
    "file_subcube_C18O_vel = 'Documents/Sub_Cube_C18O.fits'\n",
    "\n",
    "file_N2Hp = 'Documents/B335/B335_N2Hp_v1_thick_fitted_parameters_snr3.fits'\n",
    "file_N2Hp_TdV = 'Documents/B335/data/B335_N2H+_10_v1_Tpeak.fits'\n",
    "\n",
    "levels_SO = np.arange(3, 9, 3) * 2.1e-3\n",
    "\n",
    "levels_C18O = np.arange(5, 200, 10) * 1.4e-3"
   ]
  },
  {
   "cell_type": "code",
   "execution_count": null,
   "id": "a2ef25a3",
   "metadata": {},
   "outputs": [],
   "source": []
  },
  {
   "cell_type": "markdown",
   "id": "3d50b46a",
   "metadata": {},
   "source": [
    "# Continuum Subtraction"
   ]
  },
  {
   "cell_type": "code",
   "execution_count": 25,
   "id": "94cf1d23",
   "metadata": {},
   "outputs": [],
   "source": [
    "Cube = SpectralCube.read('Documents/CS/B335_Combine_CS_rob05_fit1_015kms_003cell_2sigma_self_clean.fits').with_spectral_unit(u.km/u.s, velocity_convention='radio', rest_value=342.8828503 * u.GHz)\n",
    "spectral_axis = Cube.spectral_axis\n",
    "good_channels = (spectral_axis < 0*u.km/u.s) | (spectral_axis > 16*u.km/u.s)  \n",
    "masked_cube = Cube.with_mask(good_channels[:, np.newaxis, np.newaxis]) "
   ]
  },
  {
   "cell_type": "code",
   "execution_count": 26,
   "id": "f21457cf",
   "metadata": {},
   "outputs": [
    {
     "ename": "KeyboardInterrupt",
     "evalue": "",
     "output_type": "error",
     "traceback": [
      "\u001b[0;31m---------------------------------------------------------------------------\u001b[0m",
      "\u001b[0;31mKeyboardInterrupt\u001b[0m                         Traceback (most recent call last)",
      "\u001b[0;32m/var/folders/6m/n1jjf0yj4x1635jmn9zkj949q6vf84/T/ipykernel_29762/1668290698.py\u001b[0m in \u001b[0;36m<module>\u001b[0;34m\u001b[0m\n\u001b[1;32m      1\u001b[0m \u001b[0mCube\u001b[0m\u001b[0;34m.\u001b[0m\u001b[0mallow_huge_operations\u001b[0m\u001b[0;34m=\u001b[0m\u001b[0;32mTrue\u001b[0m\u001b[0;34m\u001b[0m\u001b[0;34m\u001b[0m\u001b[0m\n\u001b[0;32m----> 2\u001b[0;31m \u001b[0mmed\u001b[0m \u001b[0;34m=\u001b[0m \u001b[0mmasked_cube\u001b[0m\u001b[0;34m.\u001b[0m\u001b[0mmedian\u001b[0m\u001b[0;34m(\u001b[0m\u001b[0maxis\u001b[0m\u001b[0;34m=\u001b[0m\u001b[0;36m0\u001b[0m\u001b[0;34m)\u001b[0m\u001b[0;34m\u001b[0m\u001b[0;34m\u001b[0m\u001b[0m\n\u001b[0m\u001b[1;32m      3\u001b[0m \u001b[0mmed_sub_cube\u001b[0m \u001b[0;34m=\u001b[0m \u001b[0mCube\u001b[0m \u001b[0;34m-\u001b[0m \u001b[0mmed\u001b[0m\u001b[0;34m\u001b[0m\u001b[0;34m\u001b[0m\u001b[0m\n",
      "\u001b[0;32m~/opt/anaconda3/lib/python3.9/site-packages/spectral_cube/spectral_cube.py\u001b[0m in \u001b[0;36mmedian\u001b[0;34m(self, axis, iterate_rays, **kwargs)\u001b[0m\n\u001b[1;32m   1165\u001b[0m         \u001b[0;32mif\u001b[0m \u001b[0mbnok\u001b[0m \u001b[0;32mand\u001b[0m \u001b[0;32mnot\u001b[0m \u001b[0miterate_rays\u001b[0m \u001b[0;32mand\u001b[0m \u001b[0;32mnot\u001b[0m \u001b[0misinstance\u001b[0m\u001b[0;34m(\u001b[0m\u001b[0maxis\u001b[0m\u001b[0;34m,\u001b[0m \u001b[0;34m(\u001b[0m\u001b[0mlist\u001b[0m\u001b[0;34m,\u001b[0m \u001b[0mtuple\u001b[0m\u001b[0;34m)\u001b[0m\u001b[0;34m)\u001b[0m\u001b[0;34m:\u001b[0m\u001b[0;34m\u001b[0m\u001b[0;34m\u001b[0m\u001b[0m\n\u001b[1;32m   1166\u001b[0m             \u001b[0mlog\u001b[0m\u001b[0;34m.\u001b[0m\u001b[0mdebug\u001b[0m\u001b[0;34m(\u001b[0m\u001b[0;34m\"Using bottleneck nanmedian\"\u001b[0m\u001b[0;34m)\u001b[0m\u001b[0;34m\u001b[0m\u001b[0;34m\u001b[0m\u001b[0m\n\u001b[0;32m-> 1167\u001b[0;31m             result = self.apply_numpy_function(nanmedian, axis=axis,\n\u001b[0m\u001b[1;32m   1168\u001b[0m                                                \u001b[0mprojection\u001b[0m\u001b[0;34m=\u001b[0m\u001b[0;32mTrue\u001b[0m\u001b[0;34m,\u001b[0m \u001b[0munit\u001b[0m\u001b[0;34m=\u001b[0m\u001b[0mself\u001b[0m\u001b[0;34m.\u001b[0m\u001b[0munit\u001b[0m\u001b[0;34m,\u001b[0m\u001b[0;34m\u001b[0m\u001b[0;34m\u001b[0m\u001b[0m\n\u001b[1;32m   1169\u001b[0m                                                \u001b[0mhow\u001b[0m\u001b[0;34m=\u001b[0m\u001b[0;34m'cube'\u001b[0m\u001b[0;34m,\u001b[0m \u001b[0mcheck_endian\u001b[0m\u001b[0;34m=\u001b[0m\u001b[0;32mTrue\u001b[0m\u001b[0;34m,\u001b[0m\u001b[0;34m\u001b[0m\u001b[0;34m\u001b[0m\u001b[0m\n",
      "\u001b[0;32m~/opt/anaconda3/lib/python3.9/site-packages/spectral_cube/spectral_cube.py\u001b[0m in \u001b[0;36mapply_numpy_function\u001b[0;34m(self, function, fill, reduce, how, projection, unit, check_endian, progressbar, includemask, **kwargs)\u001b[0m\n\u001b[1;32m    439\u001b[0m \u001b[0;34m\u001b[0m\u001b[0m\n\u001b[1;32m    440\u001b[0m         \u001b[0;32mif\u001b[0m \u001b[0mout\u001b[0m \u001b[0;32mis\u001b[0m \u001b[0;32mNone\u001b[0m\u001b[0;34m:\u001b[0m\u001b[0;34m\u001b[0m\u001b[0;34m\u001b[0m\u001b[0m\n\u001b[0;32m--> 441\u001b[0;31m             out = function(self._get_filled_data(fill=fill,\n\u001b[0m\u001b[1;32m    442\u001b[0m                                                  check_endian=check_endian),\n\u001b[1;32m    443\u001b[0m                            **kwargs)\n",
      "\u001b[0;32m~/opt/anaconda3/lib/python3.9/site-packages/spectral_cube/base_class.py\u001b[0m in \u001b[0;36m_get_filled_data\u001b[0;34m(self, view, fill, check_endian, use_memmap)\u001b[0m\n\u001b[1;32m    403\u001b[0m             \u001b[0muse_memmap\u001b[0m \u001b[0;34m=\u001b[0m \u001b[0mself\u001b[0m\u001b[0;34m.\u001b[0m\u001b[0m_is_huge\u001b[0m\u001b[0;34m\u001b[0m\u001b[0;34m\u001b[0m\u001b[0m\n\u001b[1;32m    404\u001b[0m \u001b[0;34m\u001b[0m\u001b[0m\n\u001b[0;32m--> 405\u001b[0;31m         return self._mask._filled(data=data, wcs=self._wcs, fill=fill,\n\u001b[0m\u001b[1;32m    406\u001b[0m                                   \u001b[0mview\u001b[0m\u001b[0;34m=\u001b[0m\u001b[0mview\u001b[0m\u001b[0;34m,\u001b[0m \u001b[0mwcs_tolerance\u001b[0m\u001b[0;34m=\u001b[0m\u001b[0mself\u001b[0m\u001b[0;34m.\u001b[0m\u001b[0m_wcs_tolerance\u001b[0m\u001b[0;34m,\u001b[0m\u001b[0;34m\u001b[0m\u001b[0;34m\u001b[0m\u001b[0m\n\u001b[1;32m    407\u001b[0m                                   \u001b[0muse_memmap\u001b[0m\u001b[0;34m=\u001b[0m\u001b[0muse_memmap\u001b[0m\u001b[0;34m\u001b[0m\u001b[0;34m\u001b[0m\u001b[0m\n",
      "\u001b[0;32m~/opt/anaconda3/lib/python3.9/site-packages/spectral_cube/masks.py\u001b[0m in \u001b[0;36m_filled\u001b[0;34m(self, data, wcs, fill, view, use_memmap, **kwargs)\u001b[0m\n\u001b[1;32m    232\u001b[0m             sliced_data = np.memmap(ntf, mode='w+', shape=data[view].shape,\n\u001b[1;32m    233\u001b[0m                                     dtype=dt)\n\u001b[0;32m--> 234\u001b[0;31m             \u001b[0msliced_data\u001b[0m\u001b[0;34m[\u001b[0m\u001b[0;34m:\u001b[0m\u001b[0;34m]\u001b[0m \u001b[0;34m=\u001b[0m \u001b[0mdata\u001b[0m\u001b[0;34m[\u001b[0m\u001b[0mview\u001b[0m\u001b[0;34m]\u001b[0m\u001b[0;34m\u001b[0m\u001b[0;34m\u001b[0m\u001b[0m\n\u001b[0m\u001b[1;32m    235\u001b[0m         \u001b[0;32melse\u001b[0m\u001b[0;34m:\u001b[0m\u001b[0;34m\u001b[0m\u001b[0;34m\u001b[0m\u001b[0m\n\u001b[1;32m    236\u001b[0m             \u001b[0msliced_data\u001b[0m \u001b[0;34m=\u001b[0m \u001b[0mdata\u001b[0m\u001b[0;34m[\u001b[0m\u001b[0mview\u001b[0m\u001b[0;34m]\u001b[0m\u001b[0;34m.\u001b[0m\u001b[0mastype\u001b[0m\u001b[0;34m(\u001b[0m\u001b[0mdt\u001b[0m\u001b[0;34m)\u001b[0m\u001b[0;34m\u001b[0m\u001b[0;34m\u001b[0m\u001b[0m\n",
      "\u001b[0;31mKeyboardInterrupt\u001b[0m: "
     ]
    }
   ],
   "source": [
    "Cube.allow_huge_operations=True\n",
    "med = masked_cube.median(axis=0)  \n",
    "med_sub_cube = Cube - med"
   ]
  },
  {
   "cell_type": "code",
   "execution_count": null,
   "id": "2f0e1dad",
   "metadata": {},
   "outputs": [],
   "source": [
    "masked_cube.allow_huge_operations=True\n",
    "std=masked_cube.std()"
   ]
  },
  {
   "cell_type": "code",
   "execution_count": null,
   "id": "b4d5300b",
   "metadata": {},
   "outputs": [],
   "source": [
    "std"
   ]
  },
  {
   "cell_type": "code",
   "execution_count": null,
   "id": "2874dc85",
   "metadata": {},
   "outputs": [],
   "source": [
    "TdV = med_sub_cube.moment(axis=0,order=0)"
   ]
  },
  {
   "cell_type": "code",
   "execution_count": null,
   "id": "b10f63be",
   "metadata": {},
   "outputs": [],
   "source": [
    "TdV[450,450]"
   ]
  },
  {
   "cell_type": "code",
   "execution_count": null,
   "id": "65e71b9e",
   "metadata": {},
   "outputs": [],
   "source": [
    "fits.writeto('Documents/CS/B335_CS_mom0.fits', TdV.data, TdV.header, overwrite=True)"
   ]
  },
  {
   "cell_type": "code",
   "execution_count": null,
   "id": "a0a71ab1",
   "metadata": {},
   "outputs": [],
   "source": [
    "med_sub_cube.write('Documents/CS/B335_CS_medsub.fits', overwrite=True)"
   ]
  },
  {
   "cell_type": "code",
   "execution_count": null,
   "id": "fce8f05d",
   "metadata": {},
   "outputs": [],
   "source": [
    "x = 455\n",
    "y = 446\n",
    "\n",
    "Cube[:,x,y].quicklook()\n",
    "med_sub_cube[:,x,y].quicklook(label='medsub')\n",
    "plt.legend()\n",
    "plt.hlines(0,-5,22)"
   ]
  },
  {
   "cell_type": "code",
   "execution_count": 38,
   "id": "63306f71",
   "metadata": {},
   "outputs": [],
   "source": [
    "TdV = Cube.moment(axis=0, order=0)"
   ]
  },
  {
   "cell_type": "code",
   "execution_count": 94,
   "id": "636b7408",
   "metadata": {},
   "outputs": [],
   "source": [
    "M = 0.05 * u.M_sun\n",
    "R = 10 * u.au"
   ]
  },
  {
   "cell_type": "code",
   "execution_count": 95,
   "id": "a4564fa0",
   "metadata": {},
   "outputs": [],
   "source": [
    "j = np.sqrt(M.to(u.kg)*R.to(u.m)*constants.G)"
   ]
  },
  {
   "cell_type": "code",
   "execution_count": 96,
   "id": "6395ce7d",
   "metadata": {},
   "outputs": [
    {
     "data": {
      "text/latex": [
       "$0.0001021064 \\; \\mathrm{\\frac{km\\,pc}{s}}$"
      ],
      "text/plain": [
       "<Quantity 0.00010211 km pc / s>"
      ]
     },
     "execution_count": 96,
     "metadata": {},
     "output_type": "execute_result"
    }
   ],
   "source": [
    "j.to(u.pc*u.km/u.s)"
   ]
  },
  {
   "cell_type": "code",
   "execution_count": 90,
   "id": "d7f11c60",
   "metadata": {},
   "outputs": [],
   "source": [
    "Mdot = 10e-6 * u.M_sun/u.year\n",
    "tff = 96e3 * u.year\n",
    "R = 10 * u.au"
   ]
  },
  {
   "cell_type": "code",
   "execution_count": 91,
   "id": "f73d548c",
   "metadata": {},
   "outputs": [],
   "source": [
    "j = np.sqrt((Mdot*tff).to(u.kg)*R.to(u.m)*constants.G)"
   ]
  },
  {
   "cell_type": "code",
   "execution_count": 92,
   "id": "59bd6eaf",
   "metadata": {},
   "outputs": [
    {
     "data": {
      "text/latex": [
       "$0.00044740784 \\; \\mathrm{\\frac{km\\,pc}{s}}$"
      ],
      "text/plain": [
       "<Quantity 0.00044741 km pc / s>"
      ]
     },
     "execution_count": 92,
     "metadata": {},
     "output_type": "execute_result"
    }
   ],
   "source": [
    "j.to(u.pc*u.km/u.s)"
   ]
  },
  {
   "cell_type": "code",
   "execution_count": 72,
   "id": "90845ed2",
   "metadata": {},
   "outputs": [],
   "source": [
    "tff = np.sqrt(R.to(u.m)**3/(constants.G*(3.2*u.M_sun).to(u.kg))).to(u.year)"
   ]
  },
  {
   "cell_type": "code",
   "execution_count": 100,
   "id": "6dffc1ee",
   "metadata": {},
   "outputs": [],
   "source": [
    "file_cube = 'Documents/SO/B335_SO_medsub.fits'\n",
    "\n",
    "#freq_line = rest_freq = 260.25533900 * u.GHz\n",
    "freq_line = rest_freq = 261.84368400 * u.GHz"
   ]
  },
  {
   "cell_type": "code",
   "execution_count": 110,
   "id": "626ae4d4",
   "metadata": {},
   "outputs": [],
   "source": [
    "Cube1 = SpectralCube.read('Documents/SO/B335_Combine_SO_rob05_fit1_3sigma_self_clean.fits').with_spectral_unit(u.km/u.s, velocity_convention='radio', \n",
    "                                                  rest_value=rest_freq)\n",
    "Cube2 = SpectralCube.read(file_cube).with_spectral_unit(u.km/u.s, velocity_convention='radio', \n",
    "                                                  rest_value=rest_freq)"
   ]
  },
  {
   "cell_type": "code",
   "execution_count": 111,
   "id": "db54c892",
   "metadata": {},
   "outputs": [
    {
     "data": {
      "image/png": "[encoded data removed]",
      "text/plain": [
       "<Figure size 864x432 with 1 Axes>"
      ]
     },
     "metadata": {
      "needs_background": "light"
     },
     "output_type": "display_data"
    }
   ],
   "source": [
    "Cube1[:,588,610].quicklook()\n",
    "Cube2[:,588,610].quicklook()"
   ]
  },
  {
   "cell_type": "code",
   "execution_count": 108,
   "id": "924f7612",
   "metadata": {},
   "outputs": [
    {
     "name": "stderr",
     "output_type": "stream",
     "text": [
      "invalid value encountered in true_divide\n"
     ]
    }
   ],
   "source": [
    "test = Cube1.moment(axis=0,order=1)"
   ]
  },
  {
   "cell_type": "code",
   "execution_count": 109,
   "id": "2d86b1ad",
   "metadata": {},
   "outputs": [],
   "source": [
    "fits.writeto('test.fits', test.data, test.header)"
   ]
  },
  {
   "cell_type": "code",
   "execution_count": null,
   "id": "a22ea8ca",
   "metadata": {},
   "outputs": [],
   "source": []
  },
  {
   "cell_type": "code",
   "execution_count": null,
   "id": "c70221e6",
   "metadata": {},
   "outputs": [],
   "source": []
  },
  {
   "cell_type": "markdown",
   "id": "71a8c8f5",
   "metadata": {},
   "source": [
    "# arcsec to AU"
   ]
  },
  {
   "cell_type": "code",
   "execution_count": 27,
   "id": "fb515d5c",
   "metadata": {},
   "outputs": [],
   "source": [
    "def arcsec_au(d,theta) :\n",
    "    return (d*theta*u.au).value\n",
    "\n",
    "\n",
    "\n"
   ]
  },
  {
   "cell_type": "code",
   "execution_count": 28,
   "id": "b231893c",
   "metadata": {},
   "outputs": [
    {
     "data": {
      "text/plain": [
       "7567.0"
      ]
     },
     "execution_count": 28,
     "metadata": {},
     "output_type": "execute_result"
    }
   ],
   "source": [
    "arcsec_au(164.5, 46)"
   ]
  },
  {
   "cell_type": "code",
   "execution_count": null,
   "id": "cc8313f4",
   "metadata": {},
   "outputs": [],
   "source": [
    "R = []\n",
    "for i in range(len(Offset)) :\n",
    "    \n",
    "    R.append(arcsec_au(164.5,Offset[i]))\n"
   ]
  },
  {
   "cell_type": "markdown",
   "id": "b2e34dcc",
   "metadata": {},
   "source": [
    "# Keplerian Profile"
   ]
  },
  {
   "cell_type": "code",
   "execution_count": null,
   "id": "52802700",
   "metadata": {},
   "outputs": [],
   "source": [
    "def Keplerian(dist, mass, v0=0., r0=0.):\n",
    "\n",
    "    v = np.sign(dist - r0) * np.sqrt(constants.G * mass * constants.M_sun / np.abs(dist - r0)/u.au).to(u.km/u.s).value + v0\n",
    "    return v"
   ]
  },
  {
   "cell_type": "code",
   "execution_count": null,
   "id": "2b169719",
   "metadata": {},
   "outputs": [],
   "source": [
    "Vel_kep = []\n",
    "for i in range(len(R)) :\n",
    "    \n",
    "    Vel_kep.append(Keplerian(dist=R[i],mass=0.05, v0=vlsr, r0=0))"
   ]
  },
  {
   "cell_type": "code",
   "execution_count": null,
   "id": "11bda3c6",
   "metadata": {},
   "outputs": [],
   "source": [
    "#from astropy.visualization import quantity_support\n",
    "#quantity_support()\n",
    "plt.plot(R,Vel_kep)"
   ]
  },
  {
   "cell_type": "code",
   "execution_count": null,
   "id": "5b0521ac",
   "metadata": {},
   "outputs": [],
   "source": [
    "R = np.arange(1e4,20e4,1)\n",
    "M=0.05*1.99e30"
   ]
  },
  {
   "cell_type": "code",
   "execution_count": null,
   "id": "82caff56",
   "metadata": {},
   "outputs": [],
   "source": [
    "Vel_kep = []\n",
    "Pos = []\n",
    "M=0.05*1.99e30\n",
    "for i in range(len(R)):\n",
    "    \n",
    "    Vel_kep.append(Vel_kepler(R[i],M))\n",
    "    Pos.append(i)"
   ]
  },
  {
   "cell_type": "markdown",
   "id": "0d40f794",
   "metadata": {},
   "source": [
    "# Cutout"
   ]
  },
  {
   "cell_type": "code",
   "execution_count": null,
   "id": "7159baea",
   "metadata": {},
   "outputs": [],
   "source": [
    "def load_cutout(file_in, is_hdu=False) : \n",
    "    if is_hdu == False :\n",
    "        hdu = fits.open(file_in)[0]\n",
    "    else : \n",
    "        hdu = file_in\n",
    "    cutout = Cutout2D(hdu.data, position=center_map, size=cutout_size, wcs = WCS(hdu.header))\n",
    "    hdu.data = cutout.data\n",
    "    hdu.header.update(cutout.wcs.to_header())\n",
    "    return hdu"
   ]
  },
  {
   "cell_type": "code",
   "execution_count": null,
   "id": "9c73cbc2",
   "metadata": {},
   "outputs": [],
   "source": [
    "Cube_SO = SpectralCube.read(filename=\"Documents/B335_Combine_SO_rob05_fit1_2sigma_self_clean.fits\")\n",
    "Cube_SO_vel = Cube_SO.with_spectral_unit(u.km/u.s, velocity_convention='radio', rest_value=261.84368400 * u.GHz)\n",
    "Cube_SO_vel.write('Documents/SO/Cube_SO_vel.fits', overwrite=True)"
   ]
  },
  {
   "cell_type": "code",
   "execution_count": null,
   "id": "166f28a5",
   "metadata": {},
   "outputs": [],
   "source": [
    "Cube_C18O = SpectralCube.read(filename=\"Documents/C18O/B335_Combine_C18O_HRA_rob05_fit1_01kms_3sigma_self_clean.fits\")\n",
    "Cube_C18O_vel = Cube_C18O.with_spectral_unit(u.km/u.s, velocity_convention='radio', rest_value=219.56035410 * u.GHz)\n",
    "Cube_C18O_vel.write('Documents/C18O/Cube_C18O_vel_01kms.fits', overwrite=True)"
   ]
  },
  {
   "cell_type": "code",
   "execution_count": null,
   "id": "c7457d4e",
   "metadata": {},
   "outputs": [],
   "source": [
    "Cube_CS = SpectralCube.read(filename=\"Documents/CS/B335_Combine_CS_rob05_fit1_3sigma_self_clean.fits\")\n",
    "Cube_CS_vel = Cube_CS.with_spectral_unit(u.km/u.s, velocity_convention='radio', rest_value=342.8828503 * u.GHz)\n",
    "Cube_CS_vel.write('Documents/CS/Cube_CS_vel.fits', overwrite=True)"
   ]
  },
  {
   "cell_type": "code",
   "execution_count": null,
   "id": "658c4485",
   "metadata": {},
   "outputs": [],
   "source": [
    "CS_TdV = Cube_CS_vel.moment(order=0,axis=0)"
   ]
  },
  {
   "cell_type": "code",
   "execution_count": null,
   "id": "56a3aa61",
   "metadata": {},
   "outputs": [],
   "source": [
    "fits.writeto('Documents/CS/B335_CS_mom0.fits', CS_TdV.data, CS_TdV.header, overwrite=True)"
   ]
  },
  {
   "cell_type": "code",
   "execution_count": null,
   "id": "bb8e293b",
   "metadata": {},
   "outputs": [],
   "source": [
    "Cube_C18O_vel = SpectralCube.read(filename=\"Documents/C18O/Cube_C18O_vel_01kms.fits\")"
   ]
  },
  {
   "cell_type": "code",
   "execution_count": null,
   "id": "e4fad82b",
   "metadata": {},
   "outputs": [],
   "source": [
    "Cube_C18O_HD = SpectralCube.read(filename=\"Downloads/HD_163296_C18O_220GHz.robust_0.5.image.fits\")"
   ]
  },
  {
   "cell_type": "code",
   "execution_count": null,
   "id": "af478ce2",
   "metadata": {},
   "outputs": [],
   "source": [
    "length = 6 * u.arcsec\n",
    "angle = 45 * u.deg\n",
    "width = 1\n",
    "Coords_HD163296 = SkyCoord(\"17h56m21.29s\", \"-21d57m22.5s\")\n",
    "\n",
    "PV_cut = PathFromCenter(center=Coords_HD163296, length=length, angle=angle, width=width)\n",
    "\n",
    "ax = pl.subplot(111, projection=Cube_C18O_HD.wcs.celestial)\n",
    "ax.imshow(Cube_C18O_HD[60].value)\n",
    "PV_cut.show_on_axis(ax, spacing=1, color='r')\n",
    "ax.set_xlabel(f\"Right Ascension [{Cube_C18O_HD.wcs.wcs.radesys}]\")\n",
    "ax.set_ylabel(f\"Declination [{Cube_C18O_HD.wcs.wcs.radesys}]\")"
   ]
  },
  {
   "cell_type": "code",
   "execution_count": null,
   "id": "5c454542",
   "metadata": {},
   "outputs": [],
   "source": []
  },
  {
   "cell_type": "code",
   "execution_count": null,
   "id": "341ce8c2",
   "metadata": {},
   "outputs": [],
   "source": []
  },
  {
   "cell_type": "code",
   "execution_count": null,
   "id": "f469dda1",
   "metadata": {},
   "outputs": [],
   "source": []
  },
  {
   "cell_type": "code",
   "execution_count": null,
   "id": "ba563228",
   "metadata": {},
   "outputs": [],
   "source": [
    "from astropy.coordinates import FK5\n",
    "\n",
    "Center = SkyCoord(\"19h37m0.9s\",\"7d34m9.6s\")\n",
    "#skypath = Path(SkyCoord(['19h37m00.89s', '19h37m00.89s'], ['7d34m9s', '7d34m10s'], frame=FK5))\n",
    "#skypath = Path(SkyCoord(['19h37m00.875s', '19h37m00.905s'], ['7d34m9.2s', '7d34m10s'], frame=FK5))\n",
    "#skypath = PathFromCenter(center=Center, length = 1 * u.arcsec, angle = 30 * u.deg)\n",
    "skypath = PathFromCenter(center=position, length = 6 * u.arcsec, angle = 0 * u.deg, width = 1)"
   ]
  },
  {
   "cell_type": "code",
   "execution_count": null,
   "id": "cf4c8ccf",
   "metadata": {},
   "outputs": [],
   "source": [
    "path = Path([(625,625), (625,650)])\n",
    "#path = Path([(620,580), (635,580)])\n",
    "\n",
    "ax = pl.subplot(111, projection=Cube_SO_vel.wcs.celestial)\n",
    "ax.imshow(Cube_SO_vel[90].value)\n",
    "#skypath.show_on_axis(ax, spacing=1, color='r')\n",
    "ax.set_xlabel(f\"Right Ascension [{Cube_SO_vel.wcs.wcs.radesys}]\")\n",
    "ax.set_ylabel(f\"Declination [{Cube_SO_vel.wcs.wcs.radesys}]\")"
   ]
  },
  {
   "cell_type": "code",
   "execution_count": null,
   "id": "00d8239d",
   "metadata": {},
   "outputs": [],
   "source": [
    "ax1 = plt.subplot2grid(shape=(2,2), loc=(0,0), projection=Cube_C18O_vel.wcs.celestial)\n",
    "ax2 = plt.subplot2grid((2,2), (0,1), projection=Cube_C18O_vel.wcs.celestial)\n",
    "ax3 = plt.subplot2grid((2,2), (1,0), projection=Cube_C18O_vel.wcs.celestial)\n",
    "\n",
    "ax1.contour(Cube_C18O[12].value, levels_C18O)\n",
    "ax2.contour(Cube_C18O[13].value, levels_C18O)\n",
    "ax3.contour(Cube_C18O[13].value, levels_C18O)\n",
    "ax1.set_xlabel(f\"Right Ascension [{Cube_SO_vel.wcs.wcs.radesys}]\")\n",
    "ax1.set_ylabel(f\"Declination [{Cube_SO_vel.wcs.wcs.radesys}]\")\n",
    "plt.tight_layout()"
   ]
  },
  {
   "cell_type": "markdown",
   "id": "72cc66e5",
   "metadata": {},
   "source": [
    "# PV Diagram"
   ]
  },
  {
   "cell_type": "code",
   "execution_count": null,
   "id": "14c50ec6",
   "metadata": {},
   "outputs": [],
   "source": [
    "file = 'Documents/B335_Combine_SO_rob05_fit1_2sigma_self_clean.fits'\n",
    "\n",
    "spectral_ax = 'Normal'\n",
    "\n",
    "#rest_freq = 219.56035410 * u.GHz\n",
    "rest_freq = 261.84368400 * u.GHz\n",
    "\n",
    "Cube = SpectralCube.read(file).with_spectral_unit(u.km/u.s, velocity_convention='radio', \n",
    "                                                  rest_value=rest_freq)\n",
    "\n",
    "skypath = PathFromCenter(center=position, length = 2 * u.arcsec, angle = 0* u.deg, width = 1)\n",
    "pvdiagram = extract_pv_slice(cube=Cube, path=skypath, spacing=1)"
   ]
  },
  {
   "cell_type": "code",
   "execution_count": null,
   "id": "1adcd823",
   "metadata": {
    "scrolled": true
   },
   "outputs": [],
   "source": [
    "plt.plot(Cube_C18O_vel.spectral_axis, pvdiagram.data)\n",
    "plt.axvline(8.34, color = 'black', linestyle = 'dashed')"
   ]
  },
  {
   "cell_type": "code",
   "execution_count": null,
   "id": "18db719b",
   "metadata": {},
   "outputs": [],
   "source": [
    "pvdiagram.writeto('Documents/H13CO/PVDiagram_H13CO_10as_Odeg.fits')"
   ]
  },
  {
   "cell_type": "code",
   "execution_count": null,
   "id": "c5a7d763",
   "metadata": {},
   "outputs": [],
   "source": [
    "import matplotlib.ticker as ticker\n",
    "\n",
    "ww = WCS(pvdiagram.header)\n",
    "ww.wcs.cdelt[1] /= 1000.0\n",
    "ww.wcs.crval[1] /= 1000.0\n",
    "ww.wcs.cunit[1] = u.km/u.s\n",
    "ww.wcs.cdelt[0] *= 3600\n",
    "ww.wcs.cunit[0] = u.arcsec\n",
    "ww.wcs.crval[0] -= 1\n",
    "\n",
    "ax = pl.subplot(111, projection=ww)\n",
    "im = ax.imshow(pvdiagram.data)\n",
    "#im = ax.contour(pvdiagram.data, levels=levels_C18O, colors='black', linewidths=1, alpha=0.5)\n",
    "#cb = pl.colorbar(mappable=im)\n",
    "#cb.set_label(\"Intensity (Jy/beam)\")\n",
    "\n",
    "#plt.scatter(Pix, Max_vel, marker = '.', color = 'blue')\n",
    "#plt.plot(Pos,Vel_kep)\n",
    "\n",
    "#ax.hlines(110.5, -0.5, 165.5, color = 'red', linestyle = 'dotted')\n",
    "#ax.axvline(83, color = 'black', linestyle = 'dashed')\n",
    "#ax.axvline(83.5, color = 'black', linestyle = 'dashed')\n",
    "#ax.hlines(12.5, -0.5, 165.5, color = 'red', linestyle = 'dotted')\n",
    "\n",
    "ax0 = ax.coords[0]\n",
    "ax0.set_format_unit(u.arcsec)\n",
    "ax0.set_major_formatter('x.x')\n",
    "#ax0.set_ticks([-4,-2,0,2,4]*u.arcsec)\n",
    "ax1 = ax.coords[1]\n",
    "ax1.set_format_unit(u.km/u.s)\n",
    "#ax.set_ylim(70,150)\n",
    "ax.set_aspect(0.1)\n",
    "ax.set_ylabel(\"Velocity (km/s)\")\n",
    "ax.set_xlabel(\"Offset ('')\")\n",
    "#ax.invert_yaxis()\n",
    "plt.tight_layout()"
   ]
  },
  {
   "cell_type": "code",
   "execution_count": null,
   "id": "eac24fda",
   "metadata": {},
   "outputs": [],
   "source": [
    "Offset = []\n",
    "offset = 0\n",
    "for i in range(ww.array_shape[1]) :\n",
    "            \n",
    "    Offset.append(offset-5)\n",
    "        \n",
    "    offset += ww.wcs.cdelt[0]\n"
   ]
  },
  {
   "cell_type": "code",
   "execution_count": null,
   "id": "e8f55a59",
   "metadata": {
    "scrolled": true
   },
   "outputs": [],
   "source": [
    "Max_vel = []\n",
    "Pix = []\n",
    "offset = 0\n",
    "rms = 0.002269\n",
    "snr = 5*rms\n",
    "\n",
    "for i in range(ww.array_shape[1]) :\n",
    "    \n",
    "    for j in range(len(pvdiagram.data)) :\n",
    "    #for j in range(20,34) :\n",
    "        \n",
    "        if pvdiagram.data[j][i] >= snr :\n",
    "            \n",
    "            #Max_vel.append(Cube_SO_vel.spectral_axis[j])\n",
    "            Max_vel.append(j)\n",
    "            Pix.append(offset)\n",
    "            #print(Cube_C18O_vel.spectral_axis[j])\n",
    "            break\n",
    "        \n",
    "    offset += 1\n"
   ]
  },
  {
   "cell_type": "code",
   "execution_count": null,
   "id": "736c7920",
   "metadata": {},
   "outputs": [],
   "source": [
    "Spec_SO = Sub_Cube_SO[:, 200,200]\n",
    "vel_ax =Cube_SO_vel.spectral_axis "
   ]
  },
  {
   "cell_type": "code",
   "execution_count": null,
   "id": "e2a04fde",
   "metadata": {
    "scrolled": false
   },
   "outputs": [],
   "source": [
    "plt.plot(vel_ax, Spec_SO)"
   ]
  },
  {
   "cell_type": "markdown",
   "id": "61c07222",
   "metadata": {},
   "source": [
    "# Fit"
   ]
  },
  {
   "cell_type": "markdown",
   "id": "819a7575",
   "metadata": {
    "scrolled": true
   },
   "source": [
    "data_dir = 'data/'\n",
    "fit_dir = 'fit/'\n",
    "\n",
    "file_in = 'Documents/Sub_Cube_C18O.fits'\n",
    "#rms_file \n",
    "file_par = 'Documents/Spec_C18O_fit_3snr_300pix.fits'\n",
    "\n",
    "\n",
    "#SO\n",
    "#freq_line = 261.84368400 * u.GHz\n",
    "\n",
    "#C18O\n",
    "\n",
    "freq_line = 219.56035410 * u.GHz\n",
    "\n",
    "\n",
    "snr_min = 3.0\n",
    "xmax = 150; ymax = 150\n",
    "# range of parameters\n",
    "vmin = 2.5; vmax = 13\n",
    "tpeak_min = 0.0; tpeak_max = 500e-3\n",
    "dv_min = 0.02; dv_max = 6.0\n",
    "\n",
    "# Load cube and setup the spectral axis\n",
    "cube = pyspeckit.Cube(file_in)\n",
    "cube.xarr.refX = freq_line\n",
    "cube.xarr.velocity_convention = 'radio'\n",
    "cube.xarr.convert_to_unit('km/s')\n",
    "\n",
    "err_map = np.ones((300, 300))*1.4e-3\n",
    "# Initial guess value\n",
    "guesses = np.array([50e-3, 8.34, 1])\n",
    "\n",
    "cube.fiteach(guesses=guesses,\n",
    "    start_from_point=(xmax, ymax),\n",
    "    fittype='gaussian', blank_value=np.nan,verbose_level=0,\n",
    "    use_neighbor_as_guess=True,\n",
    "    limitedmax=[True, True, True],\n",
    "    limitedmin=[True, True, False],\n",
    "    maxpars=[tpeak_max, vmax, dv_max],\n",
    "    minpars=[tpeak_min, vmin, dv_min],\n",
    "    multicore=5, errmap=err_map, signal_cut=snr_min)\n",
    "\n",
    "cube.write_fit(file_par, overwrite=True)"
   ]
  },
  {
   "cell_type": "code",
   "execution_count": null,
   "id": "db412bb2",
   "metadata": {
    "scrolled": true
   },
   "outputs": [],
   "source": [
    "Cube_H13CO = SpectralCube.read(filename=\"Documents/H13CO/B335_Combine_H13COp_32_rob05_2sigma_self_clean.fits\")\n",
    "Cube_H13CO_vel = Cube_H13CO.with_spectral_unit(u.km/u.s, velocity_convention='radio', rest_value=260.25533900 * u.GHz)\n",
    "Cube_H13CO_vel.write('Documents/H13CO/Cube_H13CO_32_vel.fits', overwrite=True)"
   ]
  },
  {
   "cell_type": "code",
   "execution_count": null,
   "id": "e3ee1d00",
   "metadata": {
    "scrolled": true
   },
   "outputs": [],
   "source": [
    "file_par = 'Documents/CS/Spec_CS_fit_5snr.fits'\n",
    "\n",
    "data, hd = fits.getdata(file_par, header=True)\n",
    "\n",
    "hd_2d = hd.copy()\n",
    "key_list = ['NAXIS3', 'CRPIX3', 'SPECSYS', 'CDELT3', 'CUNIT3', 'CTYPE3', 'CRVAL3']\n",
    "for key_i in key_list:\n",
    "    hd_2d.remove(key_i)\n",
    "hd_2d['NAXIS'] = 2\n",
    "hd_2d['WCSAXES'] = 2\n",
    "hd_2d['BITPIX'] = 8\n",
    "file_vc_N2Hp_thick = 'Documents/B335_N2Hp_vlsr.fits'\n",
    "#file_bright = 'Documents/B335_SO_brightness.fits'\n",
    "file_dv_N2Hp_thick = 'Documents/B335_N2Hp_dv.fits'\n",
    "\n",
    "file_vc_N2Hp_thin = 'Documents/B335_N2Hp_vlsr_thin.fits'\n",
    "#file_bright = 'Documents/B335_SO_brightness.fits'\n",
    "file_dv_N2Hp_thin = 'Documents/B335_N2Hp_dv_thin.fits'\n",
    "\n",
    "\n",
    "file_dv_SO = 'Documents/SO/B335_SO_dv_5snr_014kms.fits'\n",
    "file_vc_SO_1st = 'Documents/SO/B335_SO_vlsr_5snr_014kms_1st.fits'\n",
    "file_vc_SO_2nd = 'Documents/SO/B335_SO_vlsr_5snr_014kms_2nd.fits'\n",
    "file_vc_SO_3rd = 'Documents/SO/B335_SO_vlsr_5snr_014kms_3rd.fits'\n",
    "\n",
    "\n",
    "file_vc_CS = 'Documents/CS/B335_CS_vlsr_5snr.fits'\n",
    "file_dv_CS = 'Documents/CS/B335_CS_dv_5snr.fits'\n",
    "\n",
    "file_vc_H13CO = 'Documents/H13CO/B335_H13CO_32_vlsr_1comp_5snr.fits'\n",
    "file_dv_H13CO = 'Documents/H13CO/B335_H13CO_32_dv_1comp_5snr.fits'\n",
    "\n",
    "file_vc_H13CO_blueshift = 'Documents/H13CO/B335_H13CO_32_vlsr_5snr_blueshift_noconstraints.fits'\n",
    "file_dv_H13CO_blueshift = 'Documents/H13CO/B335_H13CO_32_dv_5snr_blueshift_noconstraints.fits'\n",
    "\n",
    "file_vc_H13CO_redshift = 'Documents/H13CO/B335_H13CO_32_vlsr_5snr_redshift_noconstraints.fits'\n",
    "file_dv_H13CO_redshift = 'Documents/H13CO/B335_H13CO_32_dv_5snr_redshift_noconstraints.fits'\n",
    "\n",
    "#file_TdV_C18O = 'Documents/C18O/B335_C18O_TdV_5snr_50pix.fits'\n",
    "file_vc_C18O = 'Documents/C18O/B335_C18O_vlsr_01kms_5snr.fits'\n",
    "file_dv_C18O = 'Documents/C18O/B335_C18O_dv_01kms_5snr.fits'\n",
    "\n",
    "hd_2d['BUNIT'] = 'km/s'\n",
    "fits.writeto(file_vc_CS, np.squeeze(data[1, :, :]), hd_2d, overwrite=True)"
   ]
  },
  {
   "cell_type": "code",
   "execution_count": null,
   "id": "5b917285",
   "metadata": {},
   "outputs": [],
   "source": [
    "data, hd = fits.getdata(file_cont, header=True)\n",
    "\n",
    "hd_2d = hd.copy()\n",
    "key_list = ['NAXIS3', 'CRPIX3', 'SPECSYS', 'CDELT3', 'CUNIT3', 'CTYPE3', 'CRVAL3', \n",
    "            'NAXIS4', 'CRPIX4', 'CDELT4', 'CUNIT4', 'CTYPE4', 'CRVAL4',\n",
    "           'PC01_03', 'PC02_03', 'PC03_03', 'PC04_03', 'PC01_04', 'PC02_04', 'PC03_04', 'PC04_04',\n",
    "           'PC03_01', 'PC04_01', 'PC03_02', 'PC04_02']\n",
    "for key_i in key_list:\n",
    "    hd_2d.remove(key_i)\n",
    "hd_2d['NAXIS'] = 2\n",
    "hd_2d['WCSAXES'] = 2\n",
    "hd_2d['BITPIX']=8\n",
    "file_vc = 'Documents/B335_SO_vlsr.fits'\n",
    "file_bright = 'Documents/B335_SO_brightness.fits'\n",
    "file_dv = 'Documents/B335_SO_dv.fits'\n",
    "\n",
    "hd_2d['BUNIT'] = 'km/s'\n",
    "#fits.writeto(file_cont_squeeze, np.squeeze(data[0, :, :]), hd_2d, overwrite=True)"
   ]
  },
  {
   "cell_type": "markdown",
   "id": "4a078c01",
   "metadata": {},
   "source": [
    "# Peak Brightness map"
   ]
  },
  {
   "cell_type": "code",
   "execution_count": null,
   "id": "89596476",
   "metadata": {},
   "outputs": [],
   "source": [
    "frame = 0\n",
    "hdu_SO_vel = fits.open(file_par)[0]\n",
    "cmap = cm.get_cmap('magma').copy()\n",
    "cmap.set_bad('0.9')\n",
    "#plt.imshow(projection=WCS(hdu_SO_vel.header), slices=('x', 'y', frame))\n",
    "plt.imshow(hdu_SO_vel.data[frame, :, :], cmap=cmap, vmin=0)\n",
    "plt.gca().invert_yaxis()\n",
    "cbar = plt. colorbar()\n",
    "cbar.set_label('Intensity (Jy/beam)', rotation=270)"
   ]
  },
  {
   "cell_type": "code",
   "execution_count": null,
   "id": "1c969510",
   "metadata": {},
   "outputs": [],
   "source": [
    "hdu_bright = load_cutout(file_dv)\n",
    "cmap_bright = cm.get_cmap('magma').copy()\n",
    "cmap_bright.set_bad('0.9')\n",
    "#ax = plt.subplot(projection=WCS(hdu.header))\n",
    "plt.imshow(hdu_bright.data, origin = \"lower\", cmap=cmap_bright)\n",
    "cbar = plt. colorbar()\n",
    "#cbar.set_label('Brightness (Jy/beam)', rotation=270)\n",
    "plt.show()"
   ]
  },
  {
   "cell_type": "code",
   "execution_count": null,
   "id": "e8b99604",
   "metadata": {},
   "outputs": [],
   "source": [
    "hdu = load_cutout('Documents/B335/data/B335_N2H+_10_v1_Tpeak.fits')\n",
    "cmap = cm.get_cmap('RdYlBu_r').copy()\n",
    "cmap.set_bad('0.7')\n",
    "#ax = plt.subplot(projection=WCS(hdu.header))\n",
    "plt.imshow(hdu.data, origin = \"lower\", cmap=cmap)\n",
    "cbar = plt. colorbar()\n",
    "#cbar.set_label('Velocity (km/s)', rotation=270)\n",
    "plt.show()"
   ]
  },
  {
   "cell_type": "code",
   "execution_count": null,
   "id": "2dfcf9d5",
   "metadata": {
    "scrolled": false
   },
   "outputs": [],
   "source": [
    "frame = 1\n",
    "vlsr=8.34\n",
    "cmap = cm.get_cmap('RdYlBu_r').copy()\n",
    "cmap.set_bad('0.7')\n",
    "#ax = plt.subplot(projection=WCS(hdu_SO_vel.header), slices=('x', 'y', frame))\n",
    "plt.imshow(hdu_SO_vel.data[frame, :, :], origin = 'lower', cmap=cmap, vmin=vlsr-1, vmax=vlsr+1)\n",
    "cbar = plt.colorbar()\n",
    "plt.show()"
   ]
  },
  {
   "cell_type": "markdown",
   "id": "c5397cc4",
   "metadata": {},
   "source": []
  },
  {
   "cell_type": "code",
   "execution_count": null,
   "id": "42313a63",
   "metadata": {},
   "outputs": [],
   "source": []
  },
  {
   "cell_type": "code",
   "execution_count": null,
   "id": "24ed74bc",
   "metadata": {},
   "outputs": [],
   "source": [
    "frame = 2\n",
    "cmap = cm.get_cmap('magma').copy()\n",
    "cmap.set_bad('0.9')\n",
    "#ax = plt.subplot(projection=WCS(hdu_SO_vel.header), slices=('x', 'y', frame))\n",
    "plt.imshow(hdu_SO_vel.data[frame, :, :], origin = 'lower', cmap=cmap, vmin = 0)\n",
    "cbar = plt.colorbar()\n",
    "plt.show()"
   ]
  },
  {
   "cell_type": "code",
   "execution_count": null,
   "id": "2c24c338",
   "metadata": {},
   "outputs": [],
   "source": [
    "frame = 1\n",
    "cmap = cm.get_cmap('magma').copy()\n",
    "cmap.set_bad('0.9')\n",
    "#ax = plt.subplot(projection=WCS(hdu_SO_vel.header), slices=('x', 'y', frame))\n",
    "plt.imshow(hdu_SO_vel.data[frame, :, :], origin = 'lower', cmap=cmap, vmin = 0)\n",
    "cbar = plt.colorbar()\n",
    "plt.show()"
   ]
  },
  {
   "cell_type": "code",
   "execution_count": null,
   "id": "fe720a91",
   "metadata": {},
   "outputs": [],
   "source": [
    "hdu_SO_vel.header"
   ]
  },
  {
   "cell_type": "code",
   "execution_count": null,
   "id": "f17ab40f",
   "metadata": {},
   "outputs": [],
   "source": [
    "Cube_C18O_vel[:, 450, 450].quicklook()"
   ]
  },
  {
   "cell_type": "code",
   "execution_count": null,
   "id": "20390a7d",
   "metadata": {},
   "outputs": [],
   "source": [
    "C18O_TdV = Cube_C18O_vel.moment(order=0, axis=0)"
   ]
  },
  {
   "cell_type": "code",
   "execution_count": null,
   "id": "7c792d68",
   "metadata": {},
   "outputs": [],
   "source": [
    "Cube_C18O_vel.allow_huge_operations=True"
   ]
  },
  {
   "cell_type": "code",
   "execution_count": null,
   "id": "d469508f",
   "metadata": {},
   "outputs": [],
   "source": [
    "Tp = Cube_C18O_vel.max(axis=0)"
   ]
  },
  {
   "cell_type": "code",
   "execution_count": null,
   "id": "15875b3e",
   "metadata": {},
   "outputs": [],
   "source": [
    "Tp"
   ]
  },
  {
   "cell_type": "code",
   "execution_count": null,
   "id": "ed9a2709",
   "metadata": {},
   "outputs": [],
   "source": [
    "fits.writeto('Documents/C18O/B335_C18O_mom0.fits', C18O_TdV.data, C18O_TdV.header, overwrite=True)"
   ]
  },
  {
   "cell_type": "code",
   "execution_count": null,
   "id": "43f54078",
   "metadata": {},
   "outputs": [],
   "source": [
    "N2Hp_Vlsr = Cube_N2Hp.moment(order=1, axis=0)"
   ]
  },
  {
   "cell_type": "code",
   "execution_count": null,
   "id": "139cc6a1",
   "metadata": {},
   "outputs": [],
   "source": [
    "SO_TdV = Cube_SO_vel.moment(order=0,axis=0)"
   ]
  },
  {
   "cell_type": "code",
   "execution_count": null,
   "id": "621c4f0b",
   "metadata": {},
   "outputs": [],
   "source": []
  },
  {
   "cell_type": "code",
   "execution_count": null,
   "id": "15573fb3",
   "metadata": {},
   "outputs": [],
   "source": [
    "def load_myCube( file_in):\n",
    "    cube = pyspeckit.Cube(file_in)\n",
    "    cube.xarr.refX = freq_line\n",
    "    cube.xarr.velocity_convention = 'radio'\n",
    "    cube.xarr.convert_to_unit('km/s')\n",
    "    return cube"
   ]
  },
  {
   "cell_type": "code",
   "execution_count": null,
   "id": "12b0b818",
   "metadata": {},
   "outputs": [],
   "source": [
    "file_cube = 'Documents/B335/data/B335_N2H+_10_K_v1.fits'\n",
    "\n",
    "freq_line = rest_freq = 86.7542884 * u.GHz\n",
    "\n",
    "Cube = SpectralCube.read(file_cube).with_spectral_unit(u.km/u.s, velocity_convention='radio', \n",
    "                                                  rest_value=rest_freq)\n",
    "\n",
    "cube = load_myCube(file_cube)\n",
    "cube.Registry.add_fitter('n2hp_vtau', pyspeckit.models.n2hp.n2hp_vtau_fitter, 4)"
   ]
  },
  {
   "cell_type": "code",
   "execution_count": null,
   "id": "545deb5c",
   "metadata": {},
   "outputs": [],
   "source": [
    "x = xpix = 226\n",
    "y = ypix = 223\n",
    "Spec = cube.get_spectrum(ypix,xpix)\n"
   ]
  },
  {
   "cell_type": "code",
   "execution_count": null,
   "id": "a653f0e1",
   "metadata": {},
   "outputs": [],
   "source": [
    "snr_min = 5.\n",
    "F = False\n",
    "T = True\n",
    "\n",
    "# range of parameters\n",
    "vmin = 7.5; vmax = 9\n",
    "tpeak_min = 0; tpeak_max = 500e-3\n",
    "dv_min = 0.05; dv_max = 6.0"
   ]
  },
  {
   "cell_type": "code",
   "execution_count": null,
   "id": "988664e2",
   "metadata": {},
   "outputs": [],
   "source": [
    "guesses=[250, 0.1, 8.3, 0.1, 100, 0.1, 8.6, 0.1]\n",
    "#guesses=[7.0, 2.0, 8.3, 0.1]\n",
    "\n",
    "Spec.specfit(fittype='n2hp_vtau', guesses=guesses,\n",
    "             limitedmin=[T,T,T,T,T,T,T,T],\n",
    "             limitedmax=[T,F,T,T,T,F,T,T],\n",
    "             fixed = [F,T,F,F,F,T,F,F],\n",
    "             minpars=[ 0.1,  0,vmin,0.05,0.1,  0,vmin,0.05],\n",
    "             maxpars=[270,0,vmax,1.0,270.0,0,vmax,1.0])"
   ]
  },
  {
   "cell_type": "code",
   "execution_count": null,
   "id": "84521725",
   "metadata": {},
   "outputs": [],
   "source": [
    "Spec.plotter()\n",
    "Spec.specfit.plot_fit()\n",
    "Spec.specfit.plot_components()\n",
    "Spec.specfit.plotresiduals(axis=Spec.plotter.axis, clear=False, label=False)"
   ]
  },
  {
   "cell_type": "code",
   "execution_count": null,
   "id": "e2750089",
   "metadata": {},
   "outputs": [],
   "source": [
    "data, hd = fits.getdata('Documents/B335/B335_N2Hp_v1_thick_fitted_parameters_2comp_3snr.fits', header=True)"
   ]
  },
  {
   "cell_type": "code",
   "execution_count": null,
   "id": "ec25a03d",
   "metadata": {},
   "outputs": [],
   "source": [
    "#test_2nd = (data[0, xpix, ypix] - T_CMB) * (1 - np.exp(-data[1, xpix, ypix]))\n",
    "\n",
    "Cube[:,xpix,ypix].quicklook(label = 'Data')\n",
    "\n",
    "#plt.step(Cube.spectral_axis.value,test_2nd, label = '2comp') \n",
    "\n",
    "plt.legend()"
   ]
  },
  {
   "cell_type": "code",
   "execution_count": null,
   "id": "021da9fb",
   "metadata": {},
   "outputs": [],
   "source": [
    "\n",
    "\n",
    "freq_dict_cen ={\n",
    "                'J1-0':  93173.7637e6,\n",
    "               }\n",
    "\n",
    "voff_lines_dict={\n",
    "    ####### J 1-0\n",
    "    'J1-0_01': -7.9930,\n",
    "    'J1-0_02': -7.9930,\n",
    "    'J1-0_03': -7.9930,\n",
    "    'J1-0_04': -0.6112,\n",
    "    'J1-0_05': -0.6112,\n",
    "    'J1-0_06': -0.6112,\n",
    "    'J1-0_07': 0.0000,\n",
    "    'J1-0_08': 0.9533,\n",
    "    'J1-0_09': 0.9533,\n",
    "    'J1-0_10': 5.5371,\n",
    "    'J1-0_11': 5.5371,\n",
    "    'J1-0_12': 5.5371,\n",
    "    'J1-0_13': 5.9704,\n",
    "    'J1-0_14': 5.9704,\n",
    "    'J1-0_15': 6.9238,\n",
    "    }\n",
    "\n",
    "line_strength_dict = {\n",
    "    ####### J 1-0\n",
    "    'J1-0_01': 0.025957,\n",
    "    'J1-0_02': 0.065372,\n",
    "    'J1-0_03': 0.019779,\n",
    "    'J1-0_04': 0.004376,\n",
    "    'J1-0_05': 0.034890,\n",
    "    'J1-0_06': 0.071844,\n",
    "    'J1-0_07': 0.259259,\n",
    "    'J1-0_08': 0.156480,\n",
    "    'J1-0_09': 0.028705,\n",
    "    'J1-0_10': 0.041361,\n",
    "    'J1-0_11': 0.013309,\n",
    "    'J1-0_12': 0.056442,\n",
    "    'J1-0_13': 0.156482,\n",
    "    'J1-0_14': 0.028705,\n",
    "    'J1-0_15': 0.037038,\n",
    "}\n",
    "\n",
    "# Get frequency dictionary in Hz based on the offset velocity and rest frequency\n",
    "conv_J10=u.doppler_radio(freq_dict_cen['J1-0']*u.Hz)\n",
    "freq_dict = {\n",
    "    name: ((voff_lines_dict[name]*u.km/u.s).to(u.Hz, equivalencies=conv_J10).value) for name in voff_lines_dict.keys() if \"J1-0\" in name\n",
    "    }\n",
    "\n",
    "# relative_strength_total_degeneracy is not used in the CLASS implementation\n",
    "# of the hfs fit. It is the sum of the degeneracy values for all hyperfines\n",
    "# for a given line; it gives the relative weights between lines.\n",
    "# Hyperfine weights are treated as normalized within one rotational transition.\n",
    "w10 = sum(val for name,val in line_strength_dict.items() if 'J1-0' in name)\n",
    "relative_strength_total_degeneracy = {\n",
    "    name : w10 for name  in line_strength_dict.keys() if \"J1-0\" in name\n",
    "    }\n",
    "# Get the list of line names from the previous lists\n",
    "line_names = [name for name in voff_lines_dict.keys()]\n",
    "\n",
    "n2hp_vtau = pyspeckit.models.hyperfine.hyperfinemodel(line_names, voff_lines_dict, freq_dict,\n",
    "                                     line_strength_dict,\n",
    "                                     relative_strength_total_degeneracy)"
   ]
  },
  {
   "cell_type": "code",
   "execution_count": null,
   "id": "dee9ec61",
   "metadata": {},
   "outputs": [],
   "source": [
    "test = n2hp_vtau(Cube.spectral_axis, Tex=data[0,xpix,ypix], tau=data[1,xpix,ypix],xoff_v=data[2,xpix,ypix], width=data[3,xpix,ypix]) + \n",
    "n2hp_vtau(Cube.spectral_axis, Tex=data[4,xpix,ypix], tau=data[5,xpix,ypix],xoff_v=data[6,xpix,ypix], width=data[7,xpix,ypix])"
   ]
  },
  {
   "cell_type": "code",
   "execution_count": null,
   "id": "f6464152",
   "metadata": {},
   "outputs": [],
   "source": [
    "Cube[:,xpix,ypix].quicklook()\n",
    "plt.step(Cube.spectral_axis.value,test)"
   ]
  },
  {
   "cell_type": "code",
   "execution_count": null,
   "id": "6952fc67",
   "metadata": {},
   "outputs": [],
   "source": []
  },
  {
   "cell_type": "code",
   "execution_count": null,
   "id": "acd6087d",
   "metadata": {},
   "outputs": [],
   "source": [
    "T = 118 * u.K\n",
    "m = 48.06 * 1.66054e-27 * u.kg\n",
    "k = constants.k_B"
   ]
  },
  {
   "cell_type": "code",
   "execution_count": null,
   "id": "41e66bf9",
   "metadata": {
    "scrolled": true
   },
   "outputs": [],
   "source": [
    "D = np.sqrt(8*np.log(2)*k*T/m).to(u.km/u.s)"
   ]
  },
  {
   "cell_type": "code",
   "execution_count": null,
   "id": "4aa28cb1",
   "metadata": {},
   "outputs": [],
   "source": [
    "D*2.4"
   ]
  }
 ],
 "metadata": {
  "kernelspec": {
   "display_name": "Python 3 (ipykernel)",
   "language": "python",
   "name": "python3"
  },
  "language_info": {
   "codemirror_mode": {
    "name": "ipython",
    "version": 3
   },
   "file_extension": ".py",
   "mimetype": "text/x-python",
   "name": "python",
   "nbconvert_exporter": "python",
   "pygments_lexer": "ipython3",
   "version": "3.9.7"
  }
 },
 "nbformat": 4,
 "nbformat_minor": 5
}
