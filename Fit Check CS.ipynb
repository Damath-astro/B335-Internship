{
 "cells": [
  {
   "cell_type": "code",
   "execution_count": 168,
   "id": "52da9114",
   "metadata": {},
   "outputs": [],
   "source": [
    "import matplotlib.pyplot as plt\n",
    "import numpy as np\n",
    "import pylab as pl\n",
    "import astropy as py\n",
    "import pyspeckit\n",
    "import astropy.units as u\n",
    "import pandas as pd\n",
    "\n",
    "from iminuit.cost import LeastSquares\n",
    "from iminuit import Minuit\n",
    "\n",
    "from astropy.io import fits\n",
    "from astropy.coordinates import SkyCoord\n",
    "from astropy.modeling.models import custom_model\n",
    "from astropy.modeling.fitting import LevMarLSQFitter\n",
    "from astropy import constants\n",
    "from astropy.wcs import WCS\n",
    "from astropy.nddata.utils import Cutout2D\n",
    "from astropy.stats import akaike_info_criterion\n",
    "\n",
    "from scipy import constants as const\n",
    "from scipy import optimize\n",
    "from scipy.stats import chisquare\n",
    "from scipy.stats import norm\n",
    "from scipy.stats import gaussian_kde\n",
    "\n",
    "from RegscorePy.aic import aic\n",
    "\n",
    "from spectral_cube import SpectralCube\n",
    "\n",
    "from pvextractor import extract_pv_slice, Path, PathFromCenter\n",
    "\n",
    "from pyspeckit.cubes.mapplot import MapPlotter\n",
    "\n",
    "%matplotlib inline\n",
    "plt.rcParams[\"figure.figsize\"] = (14,8)\n",
    "plt.rcParams[\"axes.labelsize\"] = 'xx-large'\n",
    "plt.rcParams['axes.titlesize'] = 'xx-large'\n",
    "plt.rcParams['xtick.labelsize'] = 'xx-large'\n",
    "plt.rcParams['ytick.labelsize'] = 'xx-large'\n",
    "plt.rcParams.update({\"text.usetex\": False,\n",
    "                     \"font.family\": \"serif\",\n",
    "                     'xtick.direction': 'out',\n",
    "                     'ytick.direction': 'in'})\n",
    "\n",
    "my_figsize = (5, 5)"
   ]
  },
  {
   "cell_type": "code",
   "execution_count": 220,
   "id": "6d943778",
   "metadata": {},
   "outputs": [],
   "source": [
    "rms = 0.001568\n",
    "\n",
    "vlsr = 8.3"
   ]
  },
  {
   "cell_type": "markdown",
   "id": "0f0e7935",
   "metadata": {},
   "source": [
    "# Gaussian"
   ]
  },
  {
   "cell_type": "code",
   "execution_count": 170,
   "id": "1d78dea4",
   "metadata": {},
   "outputs": [],
   "source": [
    "def Gaussian(x, A, mu, width):\n",
    "    return A*np.exp(-(x-mu)**2/(2.0*width**2))"
   ]
  },
  {
   "cell_type": "code",
   "execution_count": 171,
   "id": "0aa6668c",
   "metadata": {},
   "outputs": [],
   "source": [
    "def Gaussian_2comp(x, A1, mu1, width1, A2, mu2, width2):\n",
    "    return A1*np.exp(-(x-mu1)**2/(2.0*width1**2)) + A2*np.exp(-(x-mu2)**2/(2.0*width2**2))"
   ]
  },
  {
   "cell_type": "code",
   "execution_count": 172,
   "id": "8e6869b7",
   "metadata": {},
   "outputs": [],
   "source": [
    "def Gaussian_3comp(x, A1, mu1, width1, A2, mu2, width2, A3, mu3, width3):\n",
    "    return A1*np.exp(-(x-mu1)**2/(2.0*width1**2)) + A2*np.exp(-(x-mu2)**2/(2.0*width2**2)) + A3*np.exp(-(x-mu3)**2/(2.0*width3**2))"
   ]
  },
  {
   "cell_type": "markdown",
   "id": "e056fdbc",
   "metadata": {},
   "source": [
    "# Load Cube"
   ]
  },
  {
   "cell_type": "code",
   "execution_count": 173,
   "id": "299277b8",
   "metadata": {},
   "outputs": [],
   "source": [
    "#file_cube = 'Documents/H13CO/B335_Combine_H13COp_32_rob05_2sigma_self_clean.fits'\n",
    "file_cube = 'Documents/CS/B335_CS_medsub.fits'\n",
    "\n",
    "freq_line = rest_freq = 342.8828503 * u.GHz\n",
    "\n",
    "Cube = SpectralCube.read(file_cube).with_spectral_unit(u.km/u.s, velocity_convention='radio', \n",
    "                                                  rest_value=rest_freq)"
   ]
  },
  {
   "cell_type": "code",
   "execution_count": 174,
   "id": "82817635",
   "metadata": {},
   "outputs": [],
   "source": [
    "def load_myCube( file_in):\n",
    "    cube = pyspeckit.Cube(file_in)\n",
    "    cube.xarr.refX = freq_line\n",
    "    cube.xarr.velocity_convention = 'radio'\n",
    "    cube.xarr.convert_to_unit('km/s')\n",
    "    return cube"
   ]
  },
  {
   "cell_type": "code",
   "execution_count": 175,
   "id": "a556c213",
   "metadata": {},
   "outputs": [],
   "source": [
    "cube = load_myCube(file_cube)"
   ]
  },
  {
   "cell_type": "code",
   "execution_count": 282,
   "id": "019286cd",
   "metadata": {},
   "outputs": [],
   "source": [
    "x = xpix = 433\n",
    "y = ypix = 442\n",
    "\n",
    "Spec = cube.get_spectrum(ypix, xpix)"
   ]
  },
  {
   "cell_type": "code",
   "execution_count": 283,
   "id": "c28d6ef2",
   "metadata": {},
   "outputs": [],
   "source": [
    "vmin = 2.5; vmax = 13\n",
    "tpeak_min = 3*rms; tpeak_max = 200e-3\n",
    "dv_min = 0.05; dv_max = 6.0\n",
    "F = False\n",
    "T = True"
   ]
  },
  {
   "cell_type": "code",
   "execution_count": 285,
   "id": "b6612aa1",
   "metadata": {
    "scrolled": true
   },
   "outputs": [
    {
     "name": "stdout",
     "output_type": "stream",
     "text": [
      "INFO: Left region selection unchanged.  xminpix, xmaxpix: 0,170 [pyspeckit.spectrum.interactive]\n"
     ]
    }
   ],
   "source": [
    "#guesses = np.array([10e-3, 6.2, 1.5, 25e-3, 6.8, 0.3, 25e-3, 7.8, 1])\n",
    "#guesses = [2e-3, 8.32, 0.2, 2e-3, 8, 0.5, 0.004, 8.7, 1.0, 0.006, 11, 1.0]\n",
    "#guesses = [23e-3, 8.0, 0.7, 15e-3, 6.7, 0.6, 7.0e-3, 5.2, 1.0]\n",
    "#guesses = [0.012, 7.8, 0.2, 0.015, 8.5, 0.2]\n",
    "#guesses = [0.02, 7.9, 0.6, 0.008, 7.5, 3, 0.02, 9.9, 0.5]\n",
    "\n",
    "guesses = [0.012, 7.8, 0.2]\n",
    "\n",
    "Spec.specfit(fittype='gaussian', guesses=guesses,\n",
    "             limits=[(tpeak_min,tpeak_max), (vmin,vmax), (dv_min,dv_max)],\n",
    "            limited=[(T,T), (T,T), (T,T)])"
   ]
  },
  {
   "cell_type": "code",
   "execution_count": 286,
   "id": "4c9ef7f1",
   "metadata": {
    "scrolled": false
   },
   "outputs": [
    {
     "name": "stderr",
     "output_type": "stream",
     "text": [
      "support for accessing str attributes such as 'lower' from PhysicalType instances is deprecated since 4.3 and will be removed in a subsequent release.\n",
      "support for accessing str attributes such as 'title' from PhysicalType instances is deprecated since 4.3 and will be removed in a subsequent release.\n",
      "support for accessing str attributes such as 'lower' from PhysicalType instances is deprecated since 4.3 and will be removed in a subsequent release.\n"
     ]
    },
    {
     "data": {
      "image/png": "[encoded data removed]",
      "text/plain": [
       "<Figure size 1008x576 with 1 Axes>"
      ]
     },
     "metadata": {
      "needs_background": "light"
     },
     "output_type": "display_data"
    }
   ],
   "source": [
    "Spec.plotter()\n",
    "Spec.specfit.plot_fit()\n",
    "Spec.specfit.plot_components()\n",
    "Spec.specfit.plotresiduals(axis=Spec.plotter.axis, clear=False, label=False)\n",
    "#plt.savefig('Documents/Figures/Fit_SO_3comp_report.pdf', dpi=200)"
   ]
  },
  {
   "cell_type": "code",
   "execution_count": 182,
   "id": "08ab19bd",
   "metadata": {},
   "outputs": [
    {
     "data": {
      "text/plain": [
       "<matplotlib.legend.Legend at 0x7fb4ab8b9e20>"
      ]
     },
     "execution_count": 182,
     "metadata": {},
     "output_type": "execute_result"
    },
    {
     "data": {
      "image/png": "[encoded data removed]",
      "text/plain": [
       "<Figure size 1008x576 with 1 Axes>"
      ]
     },
     "metadata": {
      "needs_background": "light"
     },
     "output_type": "display_data"
    }
   ],
   "source": [
    "test_JEP = Gaussian(Cube.spectral_axis.value, 0.01, 5.4, 0.8)\n",
    "test_JEP1 = Gaussian(Cube.spectral_axis.value, 0.034, 7.4, 1.)\n",
    "test_JEP2 = Gaussian(Cube.spectral_axis.value, 0.008, 8.8, 0.8)\n",
    "\n",
    "Cube[:,xpix,ypix].quicklook(label='Data')\n",
    "plt.step(Cube.spectral_axis.value, test_JEP, label='1st comp')\n",
    "plt.step(Cube.spectral_axis.value, test_JEP1, label='2nd comp')\n",
    "plt.step(Cube.spectral_axis.value, test_JEP2, label='3rd comp')\n",
    "plt.step(Cube.spectral_axis.value, test_JEP + test_JEP1 + test_JEP2, label='sum')\n",
    "plt.legend()"
   ]
  },
  {
   "cell_type": "markdown",
   "id": "f09605cc",
   "metadata": {},
   "source": [
    "# Load fit parameters for both model"
   ]
  },
  {
   "cell_type": "code",
   "execution_count": 183,
   "id": "b957144e",
   "metadata": {},
   "outputs": [],
   "source": [
    "#file_1comp = 'Documents/H13CO/Spec_H13CO_32_1comp_5snr.fits'\n",
    "#file_2comp = 'Documents/H13CO/Spec_H13CO_32_fit_2comp_5snr.fits'\n",
    "\n",
    "file_1comp = 'Documents/CS/Spec_CS_fit_5snr_1comp.fits'\n",
    "file_2comp = 'Documents/CS/Spec_CS_fit_5snr_2comp.fits'\n",
    "file_3comp = 'Documents/CS/Spec_CS_fit_5snr_3comp.fits'"
   ]
  },
  {
   "cell_type": "code",
   "execution_count": 287,
   "id": "028b03ac",
   "metadata": {},
   "outputs": [],
   "source": [
    "data_1comp, hd_1comp = fits.getdata(file_1comp, header=True)\n",
    "data_2comp, hd_2comp = fits.getdata(file_2comp, header=True)\n",
    "data_3comp, hd_3comp = fits.getdata(file_3comp, header=True)"
   ]
  },
  {
   "cell_type": "code",
   "execution_count": 288,
   "id": "c370c6ab",
   "metadata": {},
   "outputs": [],
   "source": [
    "\n",
    "test = Gaussian(Cube.spectral_axis.value,\n",
    "                          data_3comp[0,xpix,ypix],\n",
    "                          data_3comp[1,xpix,ypix],\n",
    "                          data_3comp[2,xpix,ypix])\n",
    "test1 = Gaussian(Cube.spectral_axis.value,\n",
    "                          data_3comp[3,xpix,ypix],\n",
    "                          data_3comp[4,xpix,ypix],\n",
    "                          data_3comp[5,xpix,ypix])\n",
    "test2 = Gaussian(Cube.spectral_axis.value,\n",
    "                          data_3comp[6,xpix,ypix],\n",
    "                          data_3comp[7,xpix,ypix],\n",
    "                          data_3comp[8,xpix,ypix])"
   ]
  },
  {
   "cell_type": "code",
   "execution_count": 289,
   "id": "fc03fee1",
   "metadata": {
    "scrolled": false
   },
   "outputs": [
    {
     "data": {
      "image/png": "[encoded data removed]",
      "text/plain": [
       "<Figure size 1008x576 with 1 Axes>"
      ]
     },
     "metadata": {
      "needs_background": "light"
     },
     "output_type": "display_data"
    }
   ],
   "source": [
    "Cube[:,xpix,ypix].quicklook(label = 'Data')\n",
    "#plt.step(Cube.spectral_axis.value, test, label='1st comp')\n",
    "#plt.step(Cube.spectral_axis.value, test1, label='2nd comp')\n",
    "#plt.step(Cube.spectral_axis.value, test2, label='3rd comp')\n",
    "#plt.step(Cube.spectral_axis.value, test + test1 + test2 , label='sum')\n",
    "#plt.legend()\n",
    "plt.ylabel('Intensity (Jy/beam)')\n",
    "plt.xlabel('Velocity (km/s)')\n",
    "plt.axvline(8.3, linestyle = 'dashed', color = 'black', label = 'Systemic velocity')\n",
    "plt.legend()\n",
    "\n",
    "plt.savefig('Documents/Figures/CS_spec.pdf', dpi = 200)"
   ]
  },
  {
   "cell_type": "markdown",
   "id": "a3b2c661",
   "metadata": {},
   "source": [
    "# Akaike Information Criterion"
   ]
  },
  {
   "cell_type": "code",
   "execution_count": 290,
   "id": "38b13ffb",
   "metadata": {},
   "outputs": [],
   "source": [
    "def chi2(y_data, y_model, err) :\n",
    "    return np.sum(np.square(y_data - y_model)/err**2)"
   ]
  },
  {
   "cell_type": "code",
   "execution_count": 291,
   "id": "75c19d61",
   "metadata": {},
   "outputs": [],
   "source": [
    "def AIC(chi2_low, chi2_high, Delta_k = 3.) :\n",
    "    return 2*Delta_k + chi2_low - chi2_high"
   ]
  },
  {
   "cell_type": "code",
   "execution_count": 292,
   "id": "aa36ad25",
   "metadata": {},
   "outputs": [],
   "source": [
    "chi2_0comp=chi2(Cube[:,x,y].value, 0, rms)"
   ]
  },
  {
   "cell_type": "code",
   "execution_count": 293,
   "id": "6d00c8c7",
   "metadata": {},
   "outputs": [],
   "source": [
    "chi2_1comp=chi2(Cube[:,x,y].value, Gaussian(Cube.spectral_axis.value,\n",
    "                                            data_1comp[0,x,y],\n",
    "                                            data_1comp[1,x,y],\n",
    "                                            data_1comp[2,x,y]), rms)"
   ]
  },
  {
   "cell_type": "code",
   "execution_count": 294,
   "id": "4b160b60",
   "metadata": {},
   "outputs": [
    {
     "data": {
      "text/plain": [
       "-672.1020486431405"
      ]
     },
     "execution_count": 294,
     "metadata": {},
     "output_type": "execute_result"
    }
   ],
   "source": [
    "AIC(chi2_1comp, chi2_0comp, Delta_k=3.)"
   ]
  },
  {
   "cell_type": "code",
   "execution_count": 295,
   "id": "28897a98",
   "metadata": {},
   "outputs": [],
   "source": [
    "chi2_2comp=chi2(Cube[:,x,y].value,Gaussian_2comp(Cube.spectral_axis.value,\n",
    "                                                 data_2comp[0,x,y],\n",
    "                                                 data_2comp[1,x,y],\n",
    "                                                 data_2comp[2,x,y],\n",
    "                                                 data_2comp[3,x,y],\n",
    "                                                 data_2comp[4,x,y],\n",
    "                                                 data_2comp[5,x,y]), rms)"
   ]
  },
  {
   "cell_type": "code",
   "execution_count": 296,
   "id": "5f22ea9d",
   "metadata": {},
   "outputs": [
    {
     "data": {
      "text/plain": [
       "-79.61654521619965"
      ]
     },
     "execution_count": 296,
     "metadata": {},
     "output_type": "execute_result"
    }
   ],
   "source": [
    "AIC(chi2_2comp, chi2_1comp, Delta_k=3.)"
   ]
  },
  {
   "cell_type": "code",
   "execution_count": 297,
   "id": "46b90425",
   "metadata": {},
   "outputs": [],
   "source": [
    "chi2_3comp=chi2(Cube[:,x,y].value,Gaussian_3comp(Cube.spectral_axis.value,\n",
    "                                                 data_3comp[0,x,y],\n",
    "                                                 data_3comp[1,x,y],\n",
    "                                                 data_3comp[2,x,y],\n",
    "                                                 data_3comp[3,x,y],\n",
    "                                                 data_3comp[4,x,y],\n",
    "                                                 data_3comp[5,x,y],\n",
    "                                                 data_3comp[6,x,y],\n",
    "                                                 data_3comp[7,x,y],\n",
    "                                                 data_3comp[8,x,y]), rms)"
   ]
  },
  {
   "cell_type": "code",
   "execution_count": 298,
   "id": "7dbfbb92",
   "metadata": {},
   "outputs": [
    {
     "data": {
      "text/plain": [
       "-1.379103960976778"
      ]
     },
     "execution_count": 298,
     "metadata": {},
     "output_type": "execute_result"
    }
   ],
   "source": [
    "AIC(chi2_3comp, chi2_2comp, Delta_k=3.)"
   ]
  },
  {
   "cell_type": "code",
   "execution_count": 260,
   "id": "dc2038c4",
   "metadata": {},
   "outputs": [
    {
     "data": {
      "text/plain": [
       "<matplotlib.legend.Legend at 0x7fb4b0460370>"
      ]
     },
     "execution_count": 260,
     "metadata": {},
     "output_type": "execute_result"
    },
    {
     "data": {
      "image/png": "[encoded data removed]",
      "text/plain": [
       "<Figure size 1008x576 with 1 Axes>"
      ]
     },
     "metadata": {
      "needs_background": "light"
     },
     "output_type": "display_data"
    }
   ],
   "source": [
    "test_1st = Gaussian(Cube.spectral_axis.value,\n",
    "                    data_1comp[0,xpix,ypix],\n",
    "                    data_1comp[1,xpix,ypix],\n",
    "                    data_1comp[2,xpix,ypix])\n",
    "\n",
    "test_2nd = Gaussian_2comp(Cube.spectral_axis.value,\n",
    "                          data_2comp[0,xpix,ypix],\n",
    "                          data_2comp[1,xpix,ypix],\n",
    "                          data_2comp[2,xpix,ypix],\n",
    "                          data_2comp[3,xpix,ypix],\n",
    "                          data_2comp[4,xpix,ypix],\n",
    "                          data_2comp[5,xpix,ypix])\n",
    "\n",
    "test_3rd = Gaussian_3comp(Cube.spectral_axis.value,\n",
    "                          data_3comp[0,xpix,ypix],\n",
    "                          data_3comp[1,xpix,ypix],\n",
    "                          data_3comp[2,xpix,ypix],\n",
    "                          data_3comp[3,xpix,ypix],\n",
    "                          data_3comp[4,xpix,ypix],\n",
    "                          data_3comp[5,xpix,ypix],\n",
    "                          data_3comp[6,xpix,ypix],\n",
    "                          data_3comp[7,xpix,ypix],\n",
    "                          data_3comp[8,xpix,ypix])\n",
    "\n",
    "\n",
    "Cube[:,xpix,ypix].quicklook(label = 'Data')\n",
    "plt.step(Cube.spectral_axis.value,test_1st, label = '1comp')\n",
    "plt.step(Cube.spectral_axis.value,test_2nd, label = '2comp')\n",
    "plt.step(Cube.spectral_axis.value,test_3rd, label = '3comp')\n",
    "plt.legend()"
   ]
  },
  {
   "cell_type": "code",
   "execution_count": 197,
   "id": "b45e00f3",
   "metadata": {},
   "outputs": [],
   "source": [
    "zoom_size = 450\n",
    "\n",
    "#bestparam = [[[] for j in range(250)] for i in range(250)]\n",
    "Image = np.zeros(shape=(zoom_size, zoom_size))\n",
    "bestparam = np.zeros(shape=(15, zoom_size, zoom_size))\n",
    "i_zoom = 250\n",
    "j_zoom = 250\n",
    "\n",
    "for n in range(zoom_size):\n",
    "    \n",
    "    i = n + i_zoom\n",
    "\n",
    "    for p in range(zoom_size):\n",
    "        \n",
    "        j = p + j_zoom\n",
    "        \n",
    "        chi2_0comp=chi2(Cube[:, i, j].value, 0, rms)\n",
    "        \n",
    "        chi2_1comp=chi2(Cube[:, i, j].value, Gaussian(Cube.spectral_axis.value,\n",
    "                                                    data_1comp[0, i, j],\n",
    "                                                    data_1comp[1, i, j],\n",
    "                                                    data_1comp[2, i, j]), rms)\n",
    "        \n",
    "        \n",
    "        aic_test1 = AIC(chi2_1comp, chi2_0comp, Delta_k=3.)\n",
    "        \n",
    "        if aic_test1 < -10 : \n",
    "            \n",
    "            #1 comp model better than 0 comp model \n",
    "            \n",
    "            bestparam[0:3, n, p] = data_1comp[0:3, i, j]\n",
    "            bestparam[9:12, n, p] = data_1comp[3:6, i, j]\n",
    "            \n",
    "            Image[n, p] = 1\n",
    "            \n",
    "            chi2_2comp=chi2(Cube[:, i, j].value, Gaussian_2comp(Cube.spectral_axis.value,\n",
    "                                                         data_2comp[0, i, j],\n",
    "                                                         data_2comp[1, i, j],\n",
    "                                                         data_2comp[2, i, j],\n",
    "                                                         data_2comp[3, i, j],\n",
    "                                                         data_2comp[4, i, j],\n",
    "                                                         data_2comp[5, i, j]), rms)\n",
    "            \n",
    "            aic_test2 = AIC(chi2_2comp, chi2_1comp, Delta_k=3.)\n",
    "                \n",
    "            \n",
    "            if aic_test2 < -10 and np.abs(data_2comp[1, i, j] - data_2comp[4, i, j]) > 0.1 :\n",
    "                \n",
    "                #2 comp model better than 1 comp model \n",
    "                \n",
    "                bestparam[0:6, n, p] = data_2comp[0:6, i, j]\n",
    "                bestparam[6:12, n, p] = data_2comp[6:12, i, j]\n",
    "                \n",
    "                Image[n, p] = 2\n",
    "                \n",
    "                chi2_3comp=chi2(Cube[:, i, j].value, Gaussian_3comp(Cube.spectral_axis.value,\n",
    "                                                         data_3comp[0, i, j],\n",
    "                                                         data_3comp[1, i, j],\n",
    "                                                         data_3comp[2, i, j],\n",
    "                                                         data_3comp[3, i, j],\n",
    "                                                         data_3comp[4, i, j],\n",
    "                                                         data_3comp[5, i, j],\n",
    "                                                         data_3comp[6, i, j],\n",
    "                                                         data_3comp[7, i, j],\n",
    "                                                         data_3comp[8, i, j]), rms)\n",
    "                \n",
    "                aic_test3 = AIC(chi2_3comp, chi2_2comp, Delta_k=3.)\n",
    "                \n",
    "                if aic_test3 < -10 and np.abs(data_2comp[1, i, j] - data_2comp[4, i, j]) > 0.1 and np.abs(data_2comp[1, i, j] - data_2comp[7, i, j]) > 0.1 and np.abs(data_2comp[7, i, j] - data_2comp[4, i, j]) > 0.1:\n",
    "                    \n",
    "                    #3 comp model better than 2 comp model \n",
    "                    \n",
    "                    bestparam[0:9, n, p] = data_3comp[0:9, i, j]\n",
    "                    bestparam[9:15, n, p] = data_3comp[9:15, i, j]\n",
    "                \n",
    "                    Image[n, p] = 3\n",
    "                    "
   ]
  },
  {
   "cell_type": "code",
   "execution_count": 198,
   "id": "de33cf98",
   "metadata": {
    "scrolled": false
   },
   "outputs": [
    {
     "data": {
      "image/png": "[encoded data removed]",
      "text/plain": [
       "<Figure size 1008x576 with 1 Axes>"
      ]
     },
     "metadata": {
      "needs_background": "light"
     },
     "output_type": "display_data"
    }
   ],
   "source": [
    "import matplotlib.cm as cm\n",
    "fig = plt.figure()\n",
    "ax2 = fig.add_subplot(121)\n",
    "ax2.imshow(Image, interpolation='nearest', cmap=cm.Greys_r)\n",
    "ax2.invert_yaxis()\n",
    "#plt.ylim(25,175)\n",
    "#plt.xlim(50, 175)\n",
    "\n",
    "#plt.ylim(80,120)\n",
    "#plt.xlim(100,110)"
   ]
  },
  {
   "cell_type": "code",
   "execution_count": 235,
   "id": "a99a614d",
   "metadata": {},
   "outputs": [],
   "source": [
    "Line_width_min_blue = bestparam[0, :, :] * np.nan\n",
    "Vel_min_width_blue = bestparam[0, :, :] * np.nan\n",
    "Amp_min_blue = bestparam[0, :, :] * np.nan\n",
    "Image_min_blue = np.zeros(shape=(zoom_size, zoom_size))\n",
    "width_narrow = 5\n",
    "vel_min = 7\n",
    "overlaps = 0\n",
    "\n",
    "for i in range(zoom_size) : \n",
    "    \n",
    "    for j in range(zoom_size) :\n",
    "        \n",
    "            \n",
    "        if vel_min < bestparam[1, i, j] < vlsr and bestparam[2, i, j] < width_narrow :\n",
    "                \n",
    "            Line_width_min_blue[i, j] = bestparam[2, i, j]\n",
    "            Vel_min_width_blue[i, j] = bestparam[1, i, j]\n",
    "            Amp_min_blue[i, j] = bestparam[0, i, j]\n",
    "            Image_min_blue[i, j] = Image[i, j]\n",
    "                \n",
    "        if Image[i, j] == 2.0 :\n",
    "            \n",
    "            if vel_min < bestparam[4, i, j] < vlsr and bestparam[5, i, j] < width_narrow :\n",
    "                \n",
    "                if (bestparam[1, i, j] < vlsr and bestparam[4, i, j] > bestparam[1, i, j]) or bestparam[1, i, j] > vlsr :\n",
    "                \n",
    "                    Line_width_min_blue[i, j] = bestparam[5, i, j]\n",
    "                    Vel_min_width_blue[i, j] = bestparam[4, i, j]\n",
    "                    Amp_min_blue[i, j] = bestparam[3, i, j]\n",
    "                    Image_min_blue[i, j] = Image[i, j]\n",
    "                \n",
    "                    if vel_min < bestparam[1, i, j] < vlsr and bestparam[2, i, j] < width_narrow :\n",
    "                    \n",
    "                        overlaps +=1\n",
    "                \n",
    "        if Image[i, j] == 3.0 :\n",
    "            \n",
    "            if vel_min < bestparam[4, i, j] < vlsr and bestparam[5, i, j] < width_narrow :\n",
    "                \n",
    "                if (bestparam[1, i, j] < vlsr and bestparam[4, i, j] > bestparam[1, i, j]) or bestparam[1, i, j] > vlsr :\n",
    "                \n",
    "                    Line_width_min_blue[i, j] = bestparam[5, i, j]\n",
    "                    Vel_min_width_blue[i, j] = bestparam[4, i, j]\n",
    "                    Amp_min_blue[i, j] = bestparam[3, i, j]\n",
    "                    Image_min_blue[i, j] = Image[i, j]\n",
    "                \n",
    "                    if vel_min < bestparam[7, i, j] < vlsr and bestparam[8, i, j] < width_narrow and bestparam[7, i, j] > bestparam[1, i, j] :\n",
    "                    \n",
    "                        Line_width_min_blue[i, j] = bestparam[8, i, j]\n",
    "                        Vel_min_width_blue[i, j] = bestparam[7, i, j]\n",
    "                        Amp_min_blue[i, j] = bestparam[6, i, j]\n",
    "                    \n",
    "                    overlaps +=1\n",
    "                    \n",
    "            elif vel_min < bestparam[7, i, j] < vlsr and bestparam[8, i, j] < width_narrow :\n",
    "                \n",
    "                if (bestparam[1, i, j] < vlsr and bestparam[7, i, j] > bestparam[1, i, j]) or bestparam[1, i, j] > vlsr :\n",
    "                \n",
    "                    Line_width_min_blue[i, j] = bestparam[8, i, j]\n",
    "                    Vel_min_width_blue[i, j] = bestparam[7, i, j]\n",
    "                    Amp_min_blue[i, j] = bestparam[6, i, j]\n",
    "                    Image_min_blue[i, j] = Image[i, j]\n",
    "                \n",
    "                    if vel_min < bestparam[1, i, j] < vlsr and bestparam[2, i, j] < width_narrow :\n",
    "                    \n",
    "                        overlaps +=1"
   ]
  },
  {
   "cell_type": "code",
   "execution_count": 236,
   "id": "748ba170",
   "metadata": {},
   "outputs": [
    {
     "data": {
      "text/plain": [
       "626"
      ]
     },
     "execution_count": 236,
     "metadata": {},
     "output_type": "execute_result"
    }
   ],
   "source": [
    "overlaps"
   ]
  },
  {
   "cell_type": "code",
   "execution_count": 237,
   "id": "b1b0999e",
   "metadata": {},
   "outputs": [],
   "source": [
    "test = np.zeros(shape=(zoom_size, zoom_size))\n",
    "\n",
    "for i in range(zoom_size) : \n",
    "    \n",
    "    for j in range(zoom_size) :\n",
    "              \n",
    "        if Image[i, j] == 2.0 :\n",
    "            \n",
    "            if vel_min < bestparam[4, i, j] < vlsr and bestparam[5, i, j] < width_narrow :\n",
    "                \n",
    "                if (vel_min < bestparam[1, i, j] < vlsr and bestparam[4, i, j] > bestparam[1, i, j] and bestparam[2, i, j] < width_narrow):\n",
    "                    \n",
    "                    test[i, j] = 1\n",
    "                    \n",
    "                "
   ]
  },
  {
   "cell_type": "code",
   "execution_count": 238,
   "id": "22b96c03",
   "metadata": {},
   "outputs": [
    {
     "data": {
      "image/png": "[encoded data removed]",
      "text/plain": [
       "<Figure size 1008x576 with 1 Axes>"
      ]
     },
     "metadata": {
      "needs_background": "light"
     },
     "output_type": "display_data"
    }
   ],
   "source": [
    "import matplotlib.cm as cm\n",
    "from mpl_toolkits.axes_grid1 import make_axes_locatable\n",
    "\n",
    "fig = plt.figure()\n",
    "ax2 = fig.add_subplot(122)\n",
    "ax2.imshow(test, interpolation='nearest', cmap=cm.RdYlBu_r)\n",
    "ax2.invert_yaxis()"
   ]
  },
  {
   "cell_type": "code",
   "execution_count": 239,
   "id": "e415ada7",
   "metadata": {},
   "outputs": [],
   "source": [
    "Line_width_min_red = bestparam[0, :, :] * np.nan\n",
    "Vel_min_width_red = bestparam[0, :, :] * np.nan\n",
    "Amp_min_red = bestparam[0, :, :] * np.nan\n",
    "Image_min_red = np.zeros(shape=(zoom_size, zoom_size))\n",
    "width_narrow = 5\n",
    "vel_max = 10\n",
    "overlaps = 0\n",
    "\n",
    "for i in range(zoom_size) : \n",
    "    \n",
    "    for j in range(zoom_size) :\n",
    "        \n",
    "            \n",
    "        if vel_max > bestparam[1, i, j] > vlsr and bestparam[2, i, j] < width_narrow :\n",
    "                \n",
    "            Line_width_min_red[i, j] = bestparam[2, i, j]\n",
    "            Vel_min_width_red[i, j] = bestparam[1, i, j]\n",
    "            Amp_min_red[i, j] = bestparam[0, i, j]\n",
    "            Image_min_red[i, j] = Image[i, j]\n",
    "                \n",
    "        if Image[i, j] == 2.0 :\n",
    "            \n",
    "            if vel_max > bestparam[4, i, j] > vlsr and bestparam[5, i, j] < width_narrow :\n",
    "                \n",
    "                if (bestparam[1, i, j] > vlsr and bestparam[4, i, j] < bestparam[1, i, j]) or bestparam[1, i, j] < vlsr :\n",
    "                \n",
    "                    Line_width_min_red[i, j] = bestparam[5, i, j]\n",
    "                    Vel_min_width_red[i, j] = bestparam[4, i, j]\n",
    "                    Amp_min_red[i, j] = bestparam[3, i, j]\n",
    "                    Image_min_red[i, j] = Image[i, j]\n",
    "                \n",
    "                    if vel_max > bestparam[1, i, j] > vlsr and bestparam[2, i, j] < width_narrow :\n",
    "                    \n",
    "                        overlaps +=1\n",
    "                \n",
    "        if Image[i, j] == 3.0 :\n",
    "            \n",
    "            if vel_max > bestparam[4, i, j] > vlsr and bestparam[5, i, j] < width_narrow :\n",
    "                \n",
    "                if (bestparam[1, i, j] > vlsr and bestparam[4, i, j] < bestparam[1, i, j]) or bestparam[1, i, j] < vlsr :\n",
    "                \n",
    "                    Line_width_min_red[i, j] = bestparam[5, i, j]\n",
    "                    Vel_min_width_red[i, j] = bestparam[4, i, j]\n",
    "                    Amp_min_red[i, j] = bestparam[3, i, j]\n",
    "                    Image_min_red[i, j] = Image[i, j]\n",
    "                \n",
    "                    if vel_max > bestparam[7, i, j] > vlsr and bestparam[8, i, j] < width_narrow :\n",
    "                        \n",
    "                        if bestparam[7, i, j] < bestparam[4, i, j] :\n",
    "                    \n",
    "                            Line_width_min_red[i, j] = bestparam[8, i, j]\n",
    "                            Vel_min_width_red[i, j] = bestparam[7, i, j]\n",
    "                            Amp_min_red[i, j] = bestparam[6, i, j]\n",
    "                    \n",
    "                    overlaps +=1\n",
    "                    \n",
    "            elif vel_max > bestparam[7, i, j] > vlsr and bestparam[8, i, j] < width_narrow :\n",
    "                \n",
    "                if (bestparam[1, i, j] > vlsr and bestparam[7, i, j] < bestparam[1, i, j]) or bestparam[1, i, j] < vlsr :\n",
    "                \n",
    "                    Line_width_min_red[i, j] = bestparam[8, i, j]\n",
    "                    Vel_min_width_red[i, j] = bestparam[7, i, j]\n",
    "                    Amp_min_red[i, j] = bestparam[6, i, j]\n",
    "                    Image_min_red[i, j] = Image[i, j]\n",
    "                \n",
    "                    if vel_max > bestparam[1, i, j] > vlsr and bestparam[2, i, j] < width_narrow :\n",
    "                    \n",
    "                        overlaps +=1"
   ]
  },
  {
   "cell_type": "code",
   "execution_count": 240,
   "id": "8934afd9",
   "metadata": {},
   "outputs": [
    {
     "data": {
      "text/plain": [
       "313"
      ]
     },
     "execution_count": 240,
     "metadata": {},
     "output_type": "execute_result"
    }
   ],
   "source": [
    "overlaps"
   ]
  },
  {
   "cell_type": "code",
   "execution_count": 205,
   "id": "78d1e117",
   "metadata": {},
   "outputs": [],
   "source": [
    "Line_width_max_blue = bestparam[0, :, :] * np.nan\n",
    "Vel_max_width_blue = bestparam[0, :, :] * np.nan\n",
    "Amp_max_blue = bestparam[0, :, :] * np.nan\n",
    "Image_max_blue = np.zeros(shape=(zoom_size, zoom_size))\n",
    "width_narrow = 0.5\n",
    "vel_max = 5\n",
    "overlaps = 0\n",
    "\n",
    "for i in range(zoom_size) : \n",
    "    \n",
    "    for j in range(zoom_size) :\n",
    "        \n",
    "            \n",
    "        if vel_max < bestparam[1, i, j] < vlsr and bestparam[2, i, j] > width_narrow :\n",
    "                \n",
    "            Line_width_max_blue[i, j] = bestparam[2, i, j]\n",
    "            Vel_max_width_blue[i, j] = bestparam[1, i, j]\n",
    "            Amp_max_blue[i, j] = bestparam[0, i, j]\n",
    "            Image_max_blue[i, j] = Image[i, j]\n",
    "                \n",
    "        if Image[i, j] == 2.0 :\n",
    "            \n",
    "            if vel_max < bestparam[4, i, j] < vlsr and bestparam[5, i, j] > width_narrow :\n",
    "                \n",
    "                if (bestparam[1, i, j] < vlsr and bestparam[4, i, j] > bestparam[1, i, j]) or bestparam[1, i, j] > vlsr :\n",
    "                \n",
    "                    Line_width_max_blue[i, j] = bestparam[5, i, j]\n",
    "                    Vel_max_width_blue[i, j] = bestparam[4, i, j]\n",
    "                    Amp_max_blue[i, j] = bestparam[3, i, j]\n",
    "                    Image_max_blue[i, j] = Image[i, j]\n",
    "                \n",
    "                    if vel_max < bestparam[1, i, j] < vlsr and bestparam[2, i, j] > width_narrow :\n",
    "                    \n",
    "                        overlaps +=1\n",
    "                \n",
    "        if Image[i, j] == 3.0 :\n",
    "            \n",
    "            if vel_max < bestparam[4, i, j] < vlsr and bestparam[5, i, j] > width_narrow :\n",
    "                \n",
    "                if (bestparam[1, i, j] < vlsr and bestparam[4, i, j] > bestparam[1, i, j]) or bestparam[1, i, j] > vlsr :\n",
    "                \n",
    "                    Line_width_max_blue[i, j] = bestparam[5, i, j]\n",
    "                    Vel_max_width_blue[i, j] = bestparam[4, i, j]\n",
    "                    Amp_max_blue[i, j] = bestparam[3, i, j]\n",
    "                    Image_max_blue[i, j] = Image[i, j]\n",
    "                \n",
    "                    if vel_max < bestparam[7, i, j] < vlsr and bestparam[8, i, j] > width_narrow and bestparam[7, i, j] > bestparam[1, i, j] :\n",
    "                    \n",
    "                        Line_width_max_blue[i, j] = bestparam[8, i, j]\n",
    "                        Vel_max_width_blue[i, j] = bestparam[7, i, j]\n",
    "                        Amp_max_blue[i, j] = bestparam[6, i, j]\n",
    "                    \n",
    "                    overlaps +=1\n",
    "                    \n",
    "            elif vel_max < bestparam[7, i, j] < vlsr and bestparam[8, i, j] > width_narrow :\n",
    "                \n",
    "                if (bestparam[1, i, j] < vlsr and bestparam[7, i, j] > bestparam[1, i, j]) or bestparam[1, i, j] > vlsr :\n",
    "                \n",
    "                    Line_width_max_blue[i, j] = bestparam[8, i, j]\n",
    "                    Vel_max_width_blue[i, j] = bestparam[7, i, j]\n",
    "                    Amp_max_blue[i, j] = bestparam[6, i, j]\n",
    "                    Image_max_blue[i, j] = Image[i, j]\n",
    "                \n",
    "                    if vel_max < bestparam[1, i, j] < vlsr and bestparam[2, i, j] > width_narrow :\n",
    "                    \n",
    "                        overlaps +=1"
   ]
  },
  {
   "cell_type": "code",
   "execution_count": 223,
   "id": "f298edef",
   "metadata": {},
   "outputs": [],
   "source": [
    "Line_width_max_red = bestparam[0, :, :] * np.nan\n",
    "Vel_max_width_red = bestparam[0, :, :] * np.nan\n",
    "Amp_max_red = bestparam[0, :, :] * np.nan\n",
    "Image_max_red = np.zeros(shape=(zoom_size, zoom_size))\n",
    "width_narrow = 0.5\n",
    "vel_max = 11\n",
    "overlaps = 0\n",
    "\n",
    "for i in range(zoom_size) : \n",
    "    \n",
    "    for j in range(zoom_size) :\n",
    "        \n",
    "            \n",
    "        if vel_max > bestparam[1, i, j] > vlsr and bestparam[2, i, j] > width_narrow :\n",
    "                \n",
    "            Line_width_max_red[i, j] = bestparam[2, i, j]\n",
    "            Vel_max_width_red[i, j] = bestparam[1, i, j]\n",
    "            Amp_max_red[i, j] = bestparam[0, i, j]\n",
    "            Image_max_red[i, j] = Image[i, j]\n",
    "                \n",
    "        if Image[i, j] == 2.0 :\n",
    "            \n",
    "            if vel_max > bestparam[4, i, j] > vlsr and bestparam[5, i, j] > width_narrow :\n",
    "                \n",
    "                if (bestparam[1, i, j] > vlsr and bestparam[4, i, j] < bestparam[1, i, j]) or bestparam[1, i, j] < vlsr :\n",
    "                \n",
    "                    Line_width_max_red[i, j] = bestparam[5, i, j]\n",
    "                    Vel_max_width_red[i, j] = bestparam[4, i, j]\n",
    "                    Amp_max_red[i, j] = bestparam[3, i, j]\n",
    "                    Image_max_red[i, j] = Image[i, j]\n",
    "                \n",
    "                    if vel_max > bestparam[1, i, j] > vlsr and bestparam[2, i, j] > width_narrow :\n",
    "                    \n",
    "                        overlaps +=1\n",
    "                \n",
    "        if Image[i, j] == 3.0 :\n",
    "            \n",
    "            if vel_max > bestparam[4, i, j] > vlsr and bestparam[5, i, j] > width_narrow :\n",
    "                \n",
    "                if (bestparam[1, i, j] > vlsr and bestparam[4, i, j] < bestparam[1, i, j]) or bestparam[1, i, j] < vlsr :\n",
    "                \n",
    "                    Line_width_max_red[i, j] = bestparam[5, i, j]\n",
    "                    Vel_max_width_red[i, j] = bestparam[4, i, j]\n",
    "                    Amp_max_red[i, j] = bestparam[3, i, j]\n",
    "                    Image_max_red[i, j] = Image[i, j]\n",
    "                \n",
    "                    if vel_max > bestparam[7, i, j] > vlsr and bestparam[8, i, j] > width_narrow :\n",
    "                        \n",
    "                        if bestparam[7, i, j] < bestparam[4, i, j] :\n",
    "                    \n",
    "                            Line_width_max_red[i, j] = bestparam[8, i, j]\n",
    "                            Vel_max_width_red[i, j] = bestparam[7, i, j]\n",
    "                            Amp_max_red[i, j] = bestparam[6, i, j]\n",
    "                    \n",
    "                    overlaps +=1\n",
    "                    \n",
    "            elif vel_max > bestparam[7, i, j] > vlsr and bestparam[8, i, j] > width_narrow :\n",
    "                \n",
    "                if (bestparam[1, i, j] > vlsr and bestparam[7, i, j] < bestparam[1, i, j]) or bestparam[1, i, j] < vlsr :\n",
    "                \n",
    "                    Line_width_max_red[i, j] = bestparam[8, i, j]\n",
    "                    Vel_max_width_red[i, j] = bestparam[7, i, j]\n",
    "                    Amp_max_red[i, j] = bestparam[6, i, j]\n",
    "                    Image_max_red[i, j] = Image[i, j]\n",
    "                \n",
    "                    if vel_max > bestparam[1, i, j] > vlsr and bestparam[2, i, j] > width_narrow :\n",
    "                    \n",
    "                        overlaps +=1"
   ]
  },
  {
   "cell_type": "code",
   "execution_count": 207,
   "id": "b448eed3",
   "metadata": {},
   "outputs": [],
   "source": [
    "Line_width_other = bestparam[0, :, :] * np.nan\n",
    "Vel_other_width = bestparam[0, :, :] * np.nan\n",
    "Amp_other = bestparam[0, :, :] * np.nan\n",
    "Image_other = np.zeros(shape=(zoom_size, zoom_size))\n",
    "width_other = 0.5\n",
    "\n",
    "for i in range(zoom_size) : \n",
    "    \n",
    "    for j in range(zoom_size) :\n",
    "            \n",
    "        if bestparam[2, i, j] != Line_width_max_red[i, j] and bestparam[2, i, j] != Line_width_max_blue[i, j] and bestparam[2, i, j] != Line_width_min_blue[i, j] and bestparam[2, i, j] != Line_width_min_red[i, j] :\n",
    "                \n",
    "            Line_width_other[i, j] = bestparam[2, i, j]\n",
    "            Vel_other_width[i, j] = bestparam[1, i, j]\n",
    "            Amp_other[i, j] = bestparam[0, i, j]\n",
    "            Image_other[i, j] = Image[i, j]\n",
    "            \n",
    "        if Image[i, j] == 2.0 :\n",
    "            \n",
    "            if bestparam[5, i, j] != Line_width_max_red[i, j] and bestparam[5, i, j] != Line_width_max_blue[i, j] and bestparam[5, i, j] != Line_width_min_blue[i, j] and bestparam[5, i, j] != Line_width_min_red[i, j] and bestparam[3, i, j] > bestparam[0, i, j] :\n",
    "                \n",
    "                Line_width_other[i, j] = bestparam[5, i, j]\n",
    "                Vel_other_width[i, j] = bestparam[4, i, j]\n",
    "                Amp_other[i, j] = bestparam[3, i, j]\n",
    "                Image_other[i, j] = Image[i, j]\n",
    "                \n",
    "        if Image[i, j] == 3.0 :\n",
    "            \n",
    "            if bestparam[5, i, j] != Line_width_max_red[i, j] and bestparam[5, i, j] != Line_width_max_blue[i, j] and bestparam[5, i, j] != Line_width_min_blue[i, j] and bestparam[5, i, j] != Line_width_min_red[i, j] and bestparam[3, i, j] > bestparam[0, i, j] :\n",
    "                \n",
    "                Line_width_other[i, j] = bestparam[5, i, j]\n",
    "                Vel_other_width[i, j] = bestparam[4, i, j]\n",
    "                Amp_other[i, j] = bestparam[3, i, j]\n",
    "                Image_other[i, j] = Image[i, j]\n",
    "                \n",
    "                if bestparam[8, i, j] != Line_width_max_red[i, j] and bestparam[8, i, j] != Line_width_max_blue[i, j] and bestparam[8, i, j] != Line_width_min_blue[i, j] and bestparam[8, i, j] != Line_width_min_red[i, j] and bestparam[6, i, j] > bestparam[3, i, j] :\n",
    "                \n",
    "                    Line_width_other[i, j] = bestparam[8, i, j]\n",
    "                    Vel_other_width[i, j] = bestparam[7, i, j]\n",
    "                    Amp_other[i, j] = bestparam[6, i, j]\n",
    "                    Image_other[i, j] = Image[i, j]\n",
    "                \n",
    "            elif bestparam[8, i, j] != Line_width_max_red[i, j] and bestparam[8, i, j] != Line_width_max_blue[i, j] and bestparam[8, i, j] != Line_width_min_blue[i, j] and bestparam[8, i, j] != Line_width_min_red[i, j] and bestparam[6, i, j] > bestparam[0, i, j] :\n",
    "                \n",
    "                Line_width_other[i, j] = bestparam[8, i, j]\n",
    "                Vel_other_width[i, j] = bestparam[7, i, j]\n",
    "                Amp_other[i, j] = bestparam[6, i, j]\n",
    "                Image_other[i, j] = Image[i, j]"
   ]
  },
  {
   "cell_type": "code",
   "execution_count": 208,
   "id": "de435797",
   "metadata": {},
   "outputs": [],
   "source": [
    "Line_width_max = bestparam[0, :, :] * np.nan\n",
    "Line_width_min = bestparam[0, :, :] * np.nan\n",
    "Line_width_inter = bestparam[0, :, :] * np.nan\n",
    "Vel_min_width = bestparam[0, :, :] * np.nan\n",
    "Vel_max_width = bestparam[0, :, :] * np.nan\n",
    "Vel_inter_width = bestparam[0, :, :] * np.nan\n",
    "Amp_min = bestparam[0, :, :] * np.nan\n",
    "Amp_max = bestparam[0, :, :] * np.nan\n",
    "\n",
    "for i in range(zoom_size) : \n",
    "    \n",
    "    for j in range(zoom_size) :\n",
    "        \n",
    "        if Image[i, j] == 1.0 :\n",
    "            \n",
    "            if bestparam[2, i, j] < 1 :\n",
    "            \n",
    "                Line_width_min[i, j] = bestparam[2, i, j]\n",
    "                Vel_min_width[i, j] = bestparam[1, i, j]\n",
    "                Amp_min[i, j] = bestparam[0, i, j]\n",
    "            \n",
    "            elif 5 > bestparam[2, i, j] > 1 :\n",
    "                \n",
    "                Line_width_max[i, j] = bestparam[2, i, j]\n",
    "                Vel_max_width[i, j] = bestparam[1, i, j]\n",
    "                Amp_max[i, j] = bestparam[0, i, j]\n",
    "            \n",
    "        elif Image[i, j] == 2.0 :\n",
    "            \n",
    "            if max(bestparam[2, i, j], bestparam[5, i, j]) == bestparam[2, i, j] :\n",
    "                \n",
    "                Line_width_max[i, j] = bestparam[2, i, j]\n",
    "                Line_width_min[i, j] = bestparam[5, i, j]\n",
    "                Vel_max_width[i, j] = bestparam[1, i, j]\n",
    "                Vel_min_width[i, j] = bestparam[4, i, j]\n",
    "                Amp_min[i, j] = bestparam[3, i, j]\n",
    "                Amp_max[i, j] = bestparam[0, i, j]\n",
    "\n",
    "            else :\n",
    "                \n",
    "                Line_width_max[i, j] = bestparam[5, i, j]\n",
    "                Line_width_min[i, j] = bestparam[2, i, j]\n",
    "                Vel_max_width[i, j] = bestparam[4, i, j]\n",
    "                Vel_min_width[i, j] = bestparam[1, i, j]\n",
    "                Amp_min[i, j] = bestparam[0, i, j]\n",
    "                Amp_max[i, j] = bestparam[3, i, j]\n",
    "            \n",
    "        elif Image[i][j] == 3.0 :\n",
    "            \n",
    "            if max(bestparam[2, i, j], bestparam[5, i, j], bestparam[8, i, j]) == bestparam[2, i, j] :\n",
    "            \n",
    "                Line_width_max[i, j] = bestparam[2, i, j]\n",
    "                Vel_max_width[i, j] = bestparam[1, i, j]\n",
    "                Amp_max[i, j] = bestparam[0, i, j]\n",
    "                \n",
    "                if min(bestparam[5, i, j], bestparam[8, i, j]) == bestparam[5, i, j] :\n",
    "                    \n",
    "                    Line_width_min[i, j] = bestparam[5, i, j]\n",
    "                    Vel_min_width[i, j] = bestparam[4, i, j]\n",
    "                    Amp_min[i, j] = bestparam[3, i, j]\n",
    "                    Line_width_inter[i, j] = bestparam[8, i, j]\n",
    "                    Vel_inter_width[i, j] = bestparam[7, i, j]\n",
    "                \n",
    "                else :\n",
    "                    \n",
    "                    Line_width_min[i, j] = bestparam[8, i, j]\n",
    "                    Vel_min_width[i, j] = bestparam[7, i, j]\n",
    "                    Amp_min[i, j] = bestparam[6, i, j]\n",
    "                    Line_width_inter[i, j] = bestparam[5, i, j]\n",
    "                    Vel_inter_width[i, j] = bestparam[4, i, j]\n",
    "            \n",
    "            elif max(bestparam[2, i, j], bestparam[5, i, j], bestparam[8, i, j]) == bestparam[5, i, j] :\n",
    "                \n",
    "            \n",
    "                Line_width_max[i, j] = bestparam[5, i, j]\n",
    "                Vel_max_width[i, j] = bestparam[4, i, j]\n",
    "                Amp_max[i, j] = bestparam[3, i, j]\n",
    "                \n",
    "                if min(bestparam[2, i, j], bestparam[8, i, j]) == bestparam[2, i, j] :\n",
    "                    \n",
    "                    Line_width_min[i, j] = bestparam[2, i, j]\n",
    "                    Vel_min_width[i, j] = bestparam[1, i, j]\n",
    "                    Amp_min[i, j] = bestparam[0, i, j]\n",
    "                    Line_width_inter[i, j] = bestparam[8, i, j]\n",
    "                    Vel_inter_width[i, j] = bestparam[7, i, j]\n",
    "                \n",
    "                else :\n",
    "                    \n",
    "                    Line_width_min[i, j] = bestparam[8, i, j]\n",
    "                    Vel_min_width[i, j] = bestparam[7, i, j]\n",
    "                    Amp_min[i, j] = bestparam[6, i, j]\n",
    "                    Line_width_inter[i, j] = bestparam[2, i, j]\n",
    "                    Vel_inter_width[i, j] = bestparam[1, i, j]\n",
    "                    \n",
    "            else :\n",
    "                \n",
    "                Line_width_max[i, j] = bestparam[8, i, j]\n",
    "                Vel_max_width[i, j] = bestparam[7, i, j]\n",
    "                Amp_max[i, j] = bestparam[6, i, j]\n",
    "                \n",
    "                if min(bestparam[2, i, j], bestparam[5, i, j]) == bestparam[2, i, j] :\n",
    "                    \n",
    "                    Line_width_min[i, j] = bestparam[2, i, j]\n",
    "                    Vel_min_width[i, j] = bestparam[1, i, j]\n",
    "                    Amp_min[i, j] = bestparam[0, i, j]\n",
    "                    Line_width_inter[i, j] = bestparam[5, i, j]\n",
    "                    Vel_inter_width[i, j] = bestparam[4, i, j]\n",
    "                \n",
    "                else :\n",
    "                    \n",
    "                    Line_width_min[i, j] = bestparam[5, i, j]\n",
    "                    Vel_min_width[i, j] = bestparam[4, i, j]\n",
    "                    Amp_min[i, j] = bestparam[3, i, j]\n",
    "                    Line_width_inter[i, j] = bestparam[2, i, j]\n",
    "                    Vel_inter_width[i, j] = bestparam[1, i, j]"
   ]
  },
  {
   "cell_type": "code",
   "execution_count": 209,
   "id": "a8aa52fc",
   "metadata": {},
   "outputs": [],
   "source": [
    "Combined_vel = bestparam[0, :, :] * np.nan\n",
    "\n",
    "for i in range(200) : \n",
    "    \n",
    "    for j in range(zoom_size) :\n",
    "        \n",
    "        Combined_vel[i, j] = Vel_min_width_blue[i, j]\n",
    "        \n",
    "for i in range(200, zoom_size) : \n",
    "    \n",
    "    for j in range(zoom_size) :       \n",
    "        \n",
    "        Combined_vel[i, j] = Vel_min_width_red[i, j]"
   ]
  },
  {
   "cell_type": "code",
   "execution_count": 210,
   "id": "aec0d036",
   "metadata": {},
   "outputs": [
    {
     "data": {
      "text/plain": [
       "nan"
      ]
     },
     "execution_count": 210,
     "metadata": {},
     "output_type": "execute_result"
    }
   ],
   "source": [
    "Vel_min_width_red[197,193]"
   ]
  },
  {
   "cell_type": "code",
   "execution_count": 211,
   "id": "9d8262fb",
   "metadata": {},
   "outputs": [
    {
     "data": {
      "text/plain": [
       "array([2.12070606e-02, 8.72802444e+00, 1.22264718e+00, 0.00000000e+00,\n",
       "       0.00000000e+00, 0.00000000e+00, 0.00000000e+00, 0.00000000e+00,\n",
       "       0.00000000e+00, 5.05241159e-04, 3.36349213e-02, 3.36349212e-02,\n",
       "       0.00000000e+00, 0.00000000e+00, 0.00000000e+00])"
      ]
     },
     "execution_count": 211,
     "metadata": {},
     "output_type": "execute_result"
    }
   ],
   "source": [
    "bestparam[:,197,193]"
   ]
  },
  {
   "cell_type": "code",
   "execution_count": 212,
   "id": "f88fd83a",
   "metadata": {},
   "outputs": [
    {
     "data": {
      "text/plain": [
       "(150.0, 250.0)"
      ]
     },
     "execution_count": 212,
     "metadata": {},
     "output_type": "execute_result"
    },
    {
     "data": {
      "image/png": "[encoded data removed]",
      "text/plain": [
       "<Figure size 1008x576 with 1 Axes>"
      ]
     },
     "metadata": {
      "needs_background": "light"
     },
     "output_type": "display_data"
    }
   ],
   "source": [
    "import matplotlib.cm as cm\n",
    "from mpl_toolkits.axes_grid1 import make_axes_locatable\n",
    "\n",
    "fig = plt.figure()\n",
    "ax2 = fig.add_subplot(122)\n",
    "ax2.imshow(Combined_vel, interpolation='nearest', cmap=cm.RdYlBu_r)\n",
    "ax2.invert_yaxis()\n",
    "\n",
    "plt.ylim(150,250)\n",
    "plt.xlim(150,250)"
   ]
  },
  {
   "cell_type": "code",
   "execution_count": 231,
   "id": "d58bbe8a",
   "metadata": {},
   "outputs": [],
   "source": [
    "file_dv_CS_min_width_blue = 'Documents/CS/B335_CS_vlsr_5snr_min_width_blue.fits'\n",
    "file_dv_CS_min_width_red = 'Documents/CS/B335_CS_vlsr_5snr_min_width_red.fits'\n",
    "file_vc_CS_min_vel_blue = 'Documents/CS/B335_CS_vlsr_5snr_min_vel_blue.fits'\n",
    "file_vc_CS_min_vel_red = 'Documents/CS/B335_CS_vlsr_5snr_min_vel_red.fits'\n",
    "\n",
    "file_dv_CS_max_width_blue = 'Documents/CS/B335_CS_vlsr_5snr_max_width_blue.fits'\n",
    "file_dv_CS_max_width_red = 'Documents/CS/B335_CS_vlsr_5snr_max_width_red.fits'\n",
    "file_vc_CS_max_vel_blue = 'Documents/CS/B335_CS_vlsr_5snr_max_vel_blue.fits'\n",
    "file_vc_CS_max_vel_red = 'Documents/CS/B335_CS_vlsr_5snr_max_vel_red.fits'\n",
    "\n",
    "file_dv_CS_min_width = 'Documents/CS/B335_CS_vlsr_5snr_min_width.fits'\n",
    "file_dv_CS_max_width = 'Documents/CS/B335_CS_vlsr_5snr_max_width.fits'\n",
    "file_vc_CS_min_vel = 'Documents/CS/B335_CS_vlsr_5snr_min_vel.fits'\n",
    "file_vc_CS_max_vel = 'Documents/CS/B335_CS_vlsr_5snr_max_vel.fits'\n",
    "\n",
    "file_vc_CS_combined_vel = 'Documents/CS/B335_CS_vlsr_combined.fits'\n",
    "\n",
    "file_dv_CS_inter_width = 'Documents/CS/B335_CS_vlsr_5snr_inter_width.fits'\n",
    "file_dv_CS_max_width = 'Documents/CS/B335_CS_vlsr_5snr_max_width.fits'\n",
    "file_vc_CS_min_vel = 'Documents/CS/B335_CS_vlsr_5snr_min_vel.fits'\n",
    "file_vc_CS_inter_vel = 'Documents/CS/B335_CS_vlsr_5snr_inter_vel.fits'\n",
    "file_vc_CS_max_vel = 'Documents/CS/B335_CS_vlsr_5snr_max_vel.fits'\n",
    "file_Image = 'Documents/CS/B335_CS_howmanycomp.fits'\n",
    "file_Image_max = 'Documents/CS/B335_CS_howmanycomp_broad.fits'\n",
    "file_Image_min = 'Documents/CS/B335_CS_howmanycomp_narrow.fits'\n",
    "\n",
    "file_dv_CS_other_width = 'Documents/CS/B335_CS_vlsr_5snr_other_width.fits'\n",
    "file_vc_CS_other_vel = 'Documents/CS/B335_CS_vlsr_5snr_other_vel.fits'\n",
    "file_Image_other = 'Documents/CS/B335_CS_howmanycomp_other.fits'"
   ]
  },
  {
   "cell_type": "code",
   "execution_count": 241,
   "id": "4a84cfed",
   "metadata": {},
   "outputs": [],
   "source": [
    "file_par = 'Documents/CS/Spec_CS_fit_5snr_3comp.fits'\n",
    "data, hd = fits.getdata(file_par, header=True)\n",
    "hd_2d = hd.copy()\n",
    "key_list = ['NAXIS3', 'CRPIX3', 'SPECSYS', 'CDELT3', 'CUNIT3', 'CTYPE3', 'CRVAL3']\n",
    "for key_i in key_list:\n",
    "    hd_2d.remove(key_i)\n",
    "hd_2d['NAXIS'] = 2\n",
    "hd_2d['WCSAXES'] = 2\n",
    "hd_2d['BITPIX'] = 8\n",
    "hd_2d['BUNIT'] = 'km/s'\n",
    "\n",
    "data[:,:,:] = 0.0\n",
    "\n",
    "for n in range(zoom_size) : \n",
    "    \n",
    "    i = n + i_zoom\n",
    "    \n",
    "    for p in range(zoom_size) :\n",
    "        \n",
    "        j = p + j_zoom\n",
    "        \n",
    "        data[9, i, j] = Image[n, p]\n",
    "        #data[10, i, j] = Image_max[n, p]\n",
    "        #data[11, i, j]  = Image_min[n, p]\n",
    "        data[11, i, j] = Combined_vel[n, p]\n",
    "            \n",
    "        data[15, i, j] = Vel_min_width_blue[n, p]\n",
    "        data[16, i, j] = Line_width_min_blue[n, p]\n",
    "            \n",
    "            \n",
    "        data[17, i, j] = Vel_min_width_red[n, p]\n",
    "        data[12, i, j] = Line_width_min_red[n, p]\n",
    "        \n",
    "            \n",
    "        data[8,i,j] = Line_width_max_blue[n, p]\n",
    "        data[7,i,j] = Line_width_max_red[n, p]\n",
    "        \n",
    "        data[4,i,j] = np.abs(Line_width_other[n, p])\n",
    "        data[3,i,j] = Vel_other_width[n, p]\n",
    "        \n",
    "        data[2, i, j] = Vel_max_width_blue[n, p]\n",
    "        data[1, i, j] = Vel_max_width_red[n, p]\n",
    "\n",
    "fits.writeto(file_vc_CS_min_vel_blue, np.squeeze(data[15, :, :]), hd_2d, overwrite=True)\n",
    "fits.writeto(file_dv_CS_min_width_blue, np.squeeze(data[16, :, :]), hd_2d, overwrite=True)\n",
    "fits.writeto(file_vc_CS_min_vel_red, np.squeeze(data[17, :, :]), hd_2d, overwrite=True)\n",
    "fits.writeto(file_dv_CS_min_width_red, np.squeeze(data[12, :, :]), hd_2d, overwrite=True)\n",
    "\n",
    "fits.writeto(file_vc_CS_combined_vel, np.squeeze(data[11, :, :]), hd_2d, overwrite=True)\n",
    "\n",
    "fits.writeto(file_vc_CS_max_vel_red, np.squeeze(data[1,:,:]), hd_2d, overwrite=True)\n",
    "fits.writeto(file_vc_CS_max_vel_blue, np.squeeze(data[2,:,:]), hd_2d, overwrite=True)\n",
    "\n",
    "fits.writeto(file_dv_CS_max_width_red, np.squeeze(data[7,:,:]), hd_2d, overwrite=True)\n",
    "fits.writeto(file_dv_CS_max_width_blue, np.squeeze(data[8,:,:]), hd_2d, overwrite=True)\n",
    "            \n",
    "fits.writeto(file_vc_CS_other_vel, np.squeeze(data[3, :, :]), hd_2d, overwrite=True)    \n",
    "fits.writeto(file_dv_CS_other_width, np.squeeze(data[4, :, :]), hd_2d, overwrite=True)    \n",
    "\n",
    "fits.writeto(file_Image, np.squeeze(data[9, :, :]), hd_2d, overwrite=True)\n",
    "fits.writeto(file_Image_min , np.squeeze(data[11, :, :]), hd_2d, overwrite=True)\n",
    "fits.writeto(file_Image_max, np.squeeze(data[10, :, :]), hd_2d, overwrite=True)\n",
    "fits.writeto(file_dv_CS_inter_width, np.squeeze(data[5,:,:]), hd_2d, overwrite=True)\n",
    "fits.writeto(file_dv_CS_max_width, np.squeeze(data[8,:,:]), hd_2d, overwrite=True)\n",
    "fits.writeto(file_vc_CS_inter_vel, np.squeeze(data[4,:,:]), hd_2d, overwrite=True)\n",
    "fits.writeto(file_vc_CS_max_vel, np.squeeze(data[7,:,:]), hd_2d, overwrite=True)"
   ]
  },
  {
   "cell_type": "code",
   "execution_count": 215,
   "id": "239f1ec6",
   "metadata": {},
   "outputs": [],
   "source": [
    "cleaned_min_width_blue = []\n",
    "cleaned_min_width_red = []\n",
    "cleaned_max_width = []\n",
    "cleaned_min_vel = []\n",
    "cleaned_max_vel = []\n",
    "\n",
    "for i in range(len(Line_width_max)) :\n",
    "    \n",
    "    for j in range(len(Line_width_max)) :\n",
    "        \n",
    "        if np.isnan(Line_width_min_blue[i, j]) == False :\n",
    "            \n",
    "            cleaned_min_width_blue.append(np.abs(Line_width_min_blue[i, j]))\n",
    "        \n",
    "        \n",
    "        if np.isnan(Line_width_min_blue[i, j]) == False :\n",
    "            \n",
    "            cleaned_min_width_red.append(np.abs(Line_width_min_red[i, j]))\n",
    "            \n",
    "        if np.isnan(Line_width_max[i, j]) == False :\n",
    "            \n",
    "            cleaned_max_width.append(np.abs(Line_width_max[i, j]))"
   ]
  },
  {
   "cell_type": "code",
   "execution_count": 216,
   "id": "161abfae",
   "metadata": {},
   "outputs": [
    {
     "data": {
      "text/plain": [
       "<AxesSubplot:ylabel='Density'>"
      ]
     },
     "execution_count": 216,
     "metadata": {},
     "output_type": "execute_result"
    },
    {
     "data": {
      "image/png": "[encoded data removed]",
      "text/plain": [
       "<Figure size 1008x576 with 1 Axes>"
      ]
     },
     "metadata": {
      "needs_background": "light"
     },
     "output_type": "display_data"
    }
   ],
   "source": [
    "s = pd.Series(cleaned_min_width_blue)\n",
    "#t = pd.Series(cleaned_max_width)\n",
    "s.plot.kde()\n"
   ]
  }
 ],
 "metadata": {
  "kernelspec": {
   "display_name": "Python 3 (ipykernel)",
   "language": "python",
   "name": "python3"
  },
  "language_info": {
   "codemirror_mode": {
    "name": "ipython",
    "version": 3
   },
   "file_extension": ".py",
   "mimetype": "text/x-python",
   "name": "python",
   "nbconvert_exporter": "python",
   "pygments_lexer": "ipython3",
   "version": "3.9.7"
  }
 },
 "nbformat": 4,
 "nbformat_minor": 5
}
