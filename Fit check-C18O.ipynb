{
 "cells": [
  {
   "cell_type": "code",
   "execution_count": 51,
   "id": "a96639d6",
   "metadata": {},
   "outputs": [],
   "source": [
    "import matplotlib.pyplot as plt\n",
    "import numpy as np\n",
    "import pylab as pl\n",
    "import astropy as py\n",
    "import pyspeckit\n",
    "import astropy.units as u\n",
    "import pandas as pd\n",
    "\n",
    "from iminuit.cost import LeastSquares\n",
    "from iminuit import Minuit\n",
    "\n",
    "from astropy.io import fits\n",
    "from astropy.coordinates import SkyCoord\n",
    "from astropy.modeling.models import custom_model\n",
    "from astropy.modeling.fitting import LevMarLSQFitter\n",
    "from astropy import constants\n",
    "from astropy.wcs import WCS\n",
    "from astropy.nddata.utils import Cutout2D\n",
    "from astropy.stats import akaike_info_criterion\n",
    "\n",
    "from scipy import constants as const\n",
    "from scipy import optimize\n",
    "from scipy.stats import chisquare\n",
    "from scipy.stats import norm\n",
    "from scipy.stats import gaussian_kde\n",
    "\n",
    "from spectral_cube import SpectralCube\n",
    "\n",
    "from pvextractor import extract_pv_slice, Path, PathFromCenter\n",
    "\n",
    "from pyspeckit.cubes.mapplot import MapPlotter\n",
    "\n",
    "%matplotlib inline\n",
    "plt.rcParams[\"figure.figsize\"] = (14,8)\n",
    "plt.rcParams[\"axes.labelsize\"] = 'xx-large'\n",
    "plt.rcParams['axes.titlesize'] = 'xx-large'\n",
    "plt.rcParams['xtick.labelsize'] = 'xx-large'\n",
    "plt.rcParams['ytick.labelsize'] = 'xx-large'\n",
    "plt.rcParams.update({\"text.usetex\": False,\n",
    "                     \"font.family\": \"serif\",\n",
    "                     'xtick.direction': 'out',\n",
    "                     'ytick.direction': 'in'})\n",
    "\n",
    "my_figsize = (5, 5)"
   ]
  },
  {
   "cell_type": "code",
   "execution_count": 94,
   "id": "3f010d0f",
   "metadata": {},
   "outputs": [],
   "source": [
    "rms = 0.00179\n",
    "\n",
    "vlsr = 8.3\n",
    "\n"
   ]
  },
  {
   "cell_type": "code",
   "execution_count": 53,
   "id": "154b9c84",
   "metadata": {},
   "outputs": [],
   "source": [
    "def Gaussian(x, A, mu, width):\n",
    "    return A*np.exp(-(x-mu)**2/(2.0*width**2))\n",
    "\n",
    "def Gaussian_2comp(x, A1, mu1, width1, A2, mu2, width2):\n",
    "    return A1*np.exp(-(x-mu1)**2/(2.0*width1**2)) + A2*np.exp(-(x-mu2)**2/(2.0*width2**2))\n",
    "\n",
    "def Gaussian_3comp(x, A1, mu1, width1, A2, mu2, width2, A3, mu3, width3):\n",
    "    return A1*np.exp(-(x-mu1)**2/(2.0*width1**2)) + A2*np.exp(-(x-mu2)**2/(2.0*width2**2)) + A3*np.exp(-(x-mu3)**2/(2.0*width3**2))"
   ]
  },
  {
   "cell_type": "code",
   "execution_count": 54,
   "id": "933aaa05",
   "metadata": {},
   "outputs": [],
   "source": [
    "def load_myCube( file_in):\n",
    "    cube = pyspeckit.Cube(file_in)\n",
    "    cube.xarr.refX = freq_line\n",
    "    cube.xarr.velocity_convention = 'radio'\n",
    "    cube.xarr.convert_to_unit('km/s')\n",
    "    return cube"
   ]
  },
  {
   "cell_type": "code",
   "execution_count": 55,
   "id": "8da5f7a3",
   "metadata": {},
   "outputs": [],
   "source": [
    "file_cube = 'Documents/C18O/B335_C18O_medsub.fits'\n",
    "\n",
    "freq_line = rest_freq = 219.5603541 * u.GHz\n",
    "\n",
    "Cube = SpectralCube.read(file_cube).with_spectral_unit(u.km/u.s, velocity_convention='radio', \n",
    "                                                  rest_value=rest_freq)\n",
    "\n",
    "cube = load_myCube(file_cube)"
   ]
  },
  {
   "cell_type": "code",
   "execution_count": 56,
   "id": "a7776467",
   "metadata": {},
   "outputs": [
    {
     "data": {
      "text/plain": [
       "0.050000000000004"
      ]
     },
     "execution_count": 56,
     "metadata": {},
     "output_type": "execute_result"
    }
   ],
   "source": [
    "cube.header['CDELT2'] * u.deg.to(u.arcsec)"
   ]
  },
  {
   "cell_type": "code",
   "execution_count": 57,
   "id": "0a511fa6",
   "metadata": {},
   "outputs": [
    {
     "data": {
      "text/plain": [
       "SIMPLE  =                    T / conforms to FITS standard                      \n",
       "BITPIX  =                  -32 / array data type                                \n",
       "NAXIS   =                    3                                                  \n",
       "NAXIS1  =                 1000                                                  \n",
       "NAXIS2  =                 1000                                                  \n",
       "NAXIS3  =                  120                                                  \n",
       "BMAJ    =   8.984900622747E-05                                                  \n",
       "BMIN    =   6.727410627415E-05                                                  \n",
       "BPA     =   5.446205540102E+01                                                  \n",
       "BTYPE   = 'Intensity'                                                           \n",
       "OBJECT  = 'B335    '                                                            \n",
       "BUNIT   = 'beam-1 Jy'          / Brightness (pixel) unit                        \n",
       "ALTRVAL =   2.195581569765E+11 /Alternate frequency reference value             \n",
       "ALTRPIX =   1.000000000000E+00 /Alternate frequency reference pixel             \n",
       "VELREF  =                  257 /1 LSR, 2 HEL, 3 OBS, +256 Radio                 \n",
       "COMMENT casacore non-standard usage: 4 LSD, 5 GEO, 6 SOU, 7 GAL                 \n",
       "COMMENT Original Unit=m / s                                                     \n",
       "COMMENT Original Type=VRAD                                                      \n",
       "TELESCOP= 'ALMA    '                                                            \n",
       "OBSERVER= 'dmardones'                                                           \n",
       "OBSRA   =   2.942538750000E+02                                                  \n",
       "OBSDEC  =   7.569388888889E+00                                                  \n",
       "INSTRUME= 'ALMA    '                                                            \n",
       "DISTANCE=   0.000000000000E+00                                                  \n",
       "MPIPROCS=                   10                                                  \n",
       "CHNCHNKS=                    9                                                  \n",
       "MEMREQ  =        1.2874603E+02                                                  \n",
       "MEMAVAIL=        5.9385553E+02                                                  \n",
       "USEWEIGH=                    T                                                  \n",
       "DATE    = '2022-05-05T08:54:15.983039' /Date FITS file was written              \n",
       "ORIGIN  = 'CASA 6.4.0-16 CASAtools:v1.0.0'                                      \n",
       "BEAM    = 'Beam: BMAJ=0.323456422418892 arcsec BMIN=0.24218678258693999 &'      \n",
       "CONTINUE  'arcsec BPA=54.46205540102 deg'                                       \n",
       "WCSAXES =                    3 / Number of coordinate axes                      \n",
       "CRPIX1  =                501.0 / Pixel coordinate of reference point            \n",
       "CRPIX2  =                501.0 / Pixel coordinate of reference point            \n",
       "CRPIX3  =                  1.0 / Pixel coordinate of reference point            \n",
       "CDELT1  =  -1.388888888889E-05 / [deg] Coordinate increment at reference point  \n",
       "CDELT2  =   1.388888888889E-05 / [deg] Coordinate increment at reference point  \n",
       "CDELT3  =     0.09999999994418 / [m/s] Coordinate increment at reference point  \n",
       "CUNIT1  = 'deg'                / Units of coordinate increment and value        \n",
       "CUNIT2  = 'deg'                / Units of coordinate increment and value        \n",
       "CUNIT3  = 'km s-1  '           / Units of coordinate increment and value        \n",
       "CTYPE1  = 'RA---SIN'           / Right ascension, orthographic/synthesis project\n",
       "CTYPE2  = 'DEC--SIN'           / Declination, orthographic/synthesis projection \n",
       "CTYPE3  = 'VRAD'               / Radio velocity (linear)                        \n",
       "CRVAL1  =           294.253875 / [deg] Coordinate value at reference point      \n",
       "CRVAL2  =       7.569388888889 / [deg] Coordinate value at reference point      \n",
       "CRVAL3  =      2.9999999999908 / [m/s] Coordinate value at reference point      \n",
       "PV2_1   =                  0.0 / SIN projection parameter                       \n",
       "PV2_2   =                  0.0 / SIN projection parameter                       \n",
       "LONPOLE =                180.0 / [deg] Native longitude of celestial pole       \n",
       "LATPOLE =       7.569388888889 / [deg] Native latitude of celestial pole        \n",
       "RESTFRQ =       219560354100.0 / [Hz] Line rest frequency                       \n",
       "TIMESYS = 'UTC'                / Time scale                                     \n",
       "MJDREF  =                  0.0 / [d] MJD of fiducial time                       \n",
       "DATE-OBS= '2014-07-01T08:01:42.623998' / ISO-8601 time of observation           \n",
       "MJD-OBS =      56839.334521111 / [d] MJD of observation                         \n",
       "OBSGEO-X=       2225142.180269 / [m] observatory X-coordinate                   \n",
       "OBSGEO-Y=      -5440307.370349 / [m] observatory Y-coordinate                   \n",
       "OBSGEO-Z=      -2481029.851874 / [m] observatory Z-coordinate                   \n",
       "RADESYS = 'FK5'                / Equatorial coordinate system                   \n",
       "EQUINOX =               2000.0 / [yr] Equinox of equatorial coordinates         \n",
       "SPECSYS = 'LSRK'               / Reference frame of spectral coordinates        \n",
       "HISTORY CASA START LOGTABLE                                                     \n",
       "HISTORY 2022-05-04T13:04:12 INFO SRCCODE='::tclean'                             \n",
       "HISTORY taskname=tclean                                                         \n",
       "HISTORY 2022-05-04T13:04:12 INFO SRCCODE='::tclean'                             \n",
       "HISTORY version: 6.4.0-16 CASAtools:v1.0.0                                      \n",
       "HISTORY 2022-05-04T13:04:12 INFO SRCCODE='::tclean'                             \n",
       "HISTORY vis         = \"/drf/projets/capucine.new/dcherouv/ProjectC18O_complete/D\n",
       "HISTORY >ata/B335_Combine_HRA_015kms_C18O.ms/\"                                  \n",
       "HISTORY 2022-05-04T13:04:12 INFO SRCCODE='::tclean'                             \n",
       "HISTORY selectdata  = True                                                      \n",
       "HISTORY 2022-05-04T13:04:12 INFO SRCCODE='::tclean'                             \n",
       "HISTORY field       = \"*\"                                                       \n",
       "HISTORY 2022-05-04T13:04:12 INFO SRCCODE='::tclean'                             \n",
       "HISTORY spw         = \"*\"                                                       \n",
       "HISTORY 2022-05-04T13:04:12 INFO SRCCODE='::tclean'                             \n",
       "HISTORY timerange   = \"\"                                                        \n",
       "HISTORY 2022-05-04T13:04:12 INFO SRCCODE='::tclean'                             \n",
       "HISTORY uvrange     = \"\"                                                        \n",
       "HISTORY 2022-05-04T13:04:12 INFO SRCCODE='::tclean'                             \n",
       "HISTORY antenna     = \"\"                                                        \n",
       "HISTORY 2022-05-04T13:04:12 INFO SRCCODE='::tclean'                             \n",
       "HISTORY scan        = \"\"                                                        \n",
       "HISTORY 2022-05-04T13:04:12 INFO SRCCODE='::tclean'                             \n",
       "HISTORY observation = \"\"                                                        \n",
       "HISTORY 2022-05-04T13:04:12 INFO SRCCODE='::tclean'                             \n",
       "HISTORY intent      = \"\"                                                        \n",
       "HISTORY 2022-05-04T13:04:12 INFO SRCCODE='::tclean'                             \n",
       "HISTORY datacolumn  = \"data\"                                                    \n",
       "HISTORY 2022-05-04T13:04:12 INFO SRCCODE='::tclean'                             \n",
       "HISTORY imagename   = \"/drf/projets/capucine.new/dcherouv/ProjectC18O_complete/s\n",
       "HISTORY >pw_C18O/Clean_cube/B335_Combine_C18O_HRA_rob05_fit1_015kms_3sigma_self_\n",
       "HISTORY >lean\"                                                                  \n",
       "HISTORY 2022-05-04T13:04:12 INFO SRCCODE='::tclean'                             \n",
       "HISTORY imsize      = 1000                                                      \n",
       "HISTORY 2022-05-04T13:04:12 INFO SRCCODE='::tclean'                             \n",
       "HISTORY cell        = \"0.05arcsec\"                                              \n",
       "HISTORY 2022-05-04T13:04:12 INFO SRCCODE='::tclean'                             \n",
       "HISTORY phasecenter = \"\"                                                        \n",
       "HISTORY 2022-05-04T13:04:12 INFO SRCCODE='::tclean'                             \n",
       "HISTORY stokes      = \"I\"                                                       \n",
       "HISTORY 2022-05-04T13:04:12 INFO SRCCODE='::tclean'                             \n",
       "HISTORY projection  = \"SIN\"                                                     \n",
       "HISTORY 2022-05-04T13:04:12 INFO SRCCODE='::tclean'                             \n",
       "HISTORY startmodel  = \"\"                                                        \n",
       "HISTORY 2022-05-04T13:04:12 INFO SRCCODE='::tclean'                             \n",
       "HISTORY specmode    = \"cube\"                                                    \n",
       "HISTORY 2022-05-04T13:04:12 INFO SRCCODE='::tclean'                             \n",
       "HISTORY reffreq     = \"\"                                                        \n",
       "HISTORY 2022-05-04T13:04:12 INFO SRCCODE='::tclean'                             \n",
       "HISTORY nchan       = -1                                                        \n",
       "HISTORY 2022-05-04T13:04:12 INFO SRCCODE='::tclean'                             \n",
       "HISTORY start       = \"\"                                                        \n",
       "HISTORY 2022-05-04T13:04:12 INFO SRCCODE='::tclean'                             \n",
       "HISTORY width       = \"\"                                                        \n",
       "HISTORY 2022-05-04T13:04:12 INFO SRCCODE='::tclean'                             \n",
       "HISTORY outframe    = \"LSRK\"                                                    \n",
       "HISTORY 2022-05-04T13:04:12 INFO SRCCODE='::tclean'                             \n",
       "HISTORY veltype     = \"radio\"                                                   \n",
       "HISTORY 2022-05-04T13:04:12 INFO SRCCODE='::tclean'                             \n",
       "HISTORY restfreq    = \"219.56035410GHz\"                                         \n",
       "HISTORY 2022-05-04T13:04:12 INFO SRCCODE='::tclean'                             \n",
       "HISTORY interpolation = \"linear\"                                                \n",
       "HISTORY 2022-05-04T13:04:12 INFO SRCCODE='::tclean'                             \n",
       "HISTORY perchanweightdensity = True                                             \n",
       "HISTORY 2022-05-04T13:04:12 INFO SRCCODE='::tclean'                             \n",
       "HISTORY gridder     = \"mosaic\"                                                  \n",
       "HISTORY 2022-05-04T13:04:12 INFO SRCCODE='::tclean'                             \n",
       "HISTORY facets      = 1                                                         \n",
       "HISTORY 2022-05-04T13:04:12 INFO SRCCODE='::tclean'                             \n",
       "HISTORY psfphasecenter = \"\"                                                     \n",
       "HISTORY 2022-05-04T13:04:12 INFO SRCCODE='::tclean'                             \n",
       "HISTORY wprojplanes = 1                                                         \n",
       "HISTORY 2022-05-04T13:04:12 INFO SRCCODE='::tclean'                             \n",
       "HISTORY vptable     = \"\"                                                        \n",
       "HISTORY 2022-05-04T13:04:12 INFO SRCCODE='::tclean'                             \n",
       "HISTORY mosweight   = True                                                      \n",
       "HISTORY 2022-05-04T13:04:12 INFO SRCCODE='::tclean'                             \n",
       "HISTORY aterm       = True                                                      \n",
       "HISTORY 2022-05-04T13:04:12 INFO SRCCODE='::tclean'                             \n",
       "HISTORY psterm      = False                                                     \n",
       "HISTORY 2022-05-04T13:04:12 INFO SRCCODE='::tclean'                             \n",
       "HISTORY wbawp       = True                                                      \n",
       "HISTORY 2022-05-04T13:04:12 INFO SRCCODE='::tclean'                             \n",
       "HISTORY conjbeams   = False                                                     \n",
       "HISTORY 2022-05-04T13:04:12 INFO SRCCODE='::tclean'                             \n",
       "HISTORY cfcache     = \"\"                                                        \n",
       "HISTORY 2022-05-04T13:04:12 INFO SRCCODE='::tclean'                             \n",
       "HISTORY usepointing = False                                                     \n",
       "HISTORY 2022-05-04T13:04:12 INFO SRCCODE='::tclean'                             \n",
       "HISTORY computepastep = 360.0                                                   \n",
       "HISTORY 2022-05-04T13:04:12 INFO SRCCODE='::tclean'                             \n",
       "HISTORY rotatepastep = 360.0                                                    \n",
       "HISTORY 2022-05-04T13:04:12 INFO SRCCODE='::tclean'                             \n",
       "HISTORY pointingoffsetsigdev = []                                               \n",
       "HISTORY 2022-05-04T13:04:12 INFO SRCCODE='::tclean'                             \n",
       "HISTORY pblimit     = 0.2                                                       \n",
       "HISTORY 2022-05-04T13:04:12 INFO SRCCODE='::tclean'                             \n",
       "HISTORY normtype    = \"flatnoise\"                                               \n",
       "HISTORY 2022-05-04T13:04:12 INFO SRCCODE='::tclean'                             \n",
       "HISTORY deconvolver = \"multiscale\"                                              \n",
       "HISTORY 2022-05-04T13:04:12 INFO SRCCODE='::tclean'                             \n",
       "HISTORY scales      = [0, 5, 15, 45, 135]                                       \n",
       "HISTORY 2022-05-04T13:04:12 INFO SRCCODE='::tclean'                             \n",
       "HISTORY nterms      = 2                                                         \n",
       "HISTORY 2022-05-04T13:04:12 INFO SRCCODE='::tclean'                             \n",
       "HISTORY smallscalebias = 0.0                                                    \n",
       "HISTORY 2022-05-04T13:04:12 INFO SRCCODE='::tclean'                             \n",
       "HISTORY restoration = True                                                      \n",
       "HISTORY 2022-05-04T13:04:12 INFO SRCCODE='::tclean'                             \n",
       "HISTORY restoringbeam = \"common\"                                                \n",
       "HISTORY 2022-05-04T13:04:12 INFO SRCCODE='::tclean'                             \n",
       "HISTORY pbcor       = False                                                     \n",
       "HISTORY 2022-05-04T13:04:12 INFO SRCCODE='::tclean'                             \n",
       "HISTORY outlierfile = \"\"                                                        \n",
       "HISTORY 2022-05-04T13:04:12 INFO SRCCODE='::tclean'                             \n",
       "HISTORY weighting   = \"briggs\"                                                  \n",
       "HISTORY 2022-05-04T13:04:12 INFO SRCCODE='::tclean'                             \n",
       "HISTORY robust      = 0.5                                                       \n",
       "HISTORY 2022-05-04T13:04:12 INFO SRCCODE='::tclean'                             \n",
       "HISTORY noise       = \"1.0Jy\"                                                   \n",
       "HISTORY 2022-05-04T13:04:12 INFO SRCCODE='::tclean'                             \n",
       "HISTORY npixels     = 0                                                         \n",
       "HISTORY 2022-05-04T13:04:12 INFO SRCCODE='::tclean'                             \n",
       "HISTORY uvtaper     = []                                                        \n",
       "HISTORY 2022-05-04T13:04:12 INFO SRCCODE='::tclean'                             \n",
       "HISTORY niter       = 10000                                                     \n",
       "HISTORY 2022-05-04T13:04:12 INFO SRCCODE='::tclean'                             \n",
       "HISTORY gain        = 0.1                                                       \n",
       "HISTORY 2022-05-04T13:04:12 INFO SRCCODE='::tclean'                             \n",
       "HISTORY threshold   = \"0.006806Jy/beam\"                                         \n",
       "HISTORY 2022-05-04T13:04:12 INFO SRCCODE='::tclean'                             \n",
       "HISTORY nsigma      = 0.0                                                       \n",
       "HISTORY 2022-05-04T13:04:12 INFO SRCCODE='::tclean'                             \n",
       "HISTORY cycleniter  = -1                                                        \n",
       "HISTORY 2022-05-04T13:04:12 INFO SRCCODE='::tclean'                             \n",
       "HISTORY cyclefactor = 1.0                                                       \n",
       "HISTORY 2022-05-04T13:04:12 INFO SRCCODE='::tclean'                             \n",
       "HISTORY minpsffraction = 0.05                                                   \n",
       "HISTORY 2022-05-04T13:04:12 INFO SRCCODE='::tclean'                             \n",
       "HISTORY maxpsffraction = 0.8                                                    \n",
       "HISTORY 2022-05-04T13:04:12 INFO SRCCODE='::tclean'                             \n",
       "HISTORY interactive = True                                                      \n",
       "HISTORY 2022-05-04T13:04:12 INFO SRCCODE='::tclean'                             \n",
       "HISTORY usemask     = \"user\"                                                    \n",
       "HISTORY 2022-05-04T13:04:12 INFO SRCCODE='::tclean'                             \n",
       "HISTORY mask        = \"\"                                                        \n",
       "HISTORY 2022-05-04T13:04:12 INFO SRCCODE='::tclean'                             \n",
       "HISTORY pbmask      = 0.0                                                       \n",
       "HISTORY 2022-05-04T13:04:12 INFO SRCCODE='::tclean'                             \n",
       "HISTORY sidelobethreshold = 3.0                                                 \n",
       "HISTORY 2022-05-04T13:04:12 INFO SRCCODE='::tclean'                             \n",
       "HISTORY noisethreshold = 5.0                                                    \n",
       "HISTORY 2022-05-04T13:04:12 INFO SRCCODE='::tclean'                             \n",
       "HISTORY lownoisethreshold = 1.5                                                 \n",
       "HISTORY 2022-05-04T13:04:12 INFO SRCCODE='::tclean'                             \n",
       "HISTORY negativethreshold = 0.0                                                 \n",
       "HISTORY 2022-05-04T13:04:12 INFO SRCCODE='::tclean'                             \n",
       "HISTORY smoothfactor = 1.0                                                      \n",
       "HISTORY 2022-05-04T13:04:12 INFO SRCCODE='::tclean'                             \n",
       "HISTORY minbeamfrac = 0.3                                                       \n",
       "HISTORY 2022-05-04T13:04:12 INFO SRCCODE='::tclean'                             \n",
       "HISTORY cutthreshold = 0.01                                                     \n",
       "HISTORY 2022-05-04T13:04:12 INFO SRCCODE='::tclean'                             \n",
       "HISTORY growiterations = 75                                                     \n",
       "HISTORY 2022-05-04T13:04:12 INFO SRCCODE='::tclean'                             \n",
       "HISTORY dogrowprune = True                                                      \n",
       "HISTORY 2022-05-04T13:04:12 INFO SRCCODE='::tclean'                             \n",
       "HISTORY minpercentchange = -1.0                                                 \n",
       "HISTORY 2022-05-04T13:04:12 INFO SRCCODE='::tclean'                             \n",
       "HISTORY verbose     = False                                                     \n",
       "HISTORY 2022-05-04T13:04:12 INFO SRCCODE='::tclean'                             \n",
       "HISTORY fastnoise   = True                                                      \n",
       "HISTORY 2022-05-04T13:04:12 INFO SRCCODE='::tclean'                             \n",
       "HISTORY restart     = True                                                      \n",
       "HISTORY 2022-05-04T13:04:12 INFO SRCCODE='::tclean'                             \n",
       "HISTORY savemodel   = \"none\"                                                    \n",
       "HISTORY 2022-05-04T13:04:12 INFO SRCCODE='::tclean'                             \n",
       "HISTORY calcres     = True                                                      \n",
       "HISTORY 2022-05-04T13:04:12 INFO SRCCODE='::tclean'                             \n",
       "HISTORY calcpsf     = True                                                      \n",
       "HISTORY 2022-05-04T13:04:12 INFO SRCCODE='::tclean'                             \n",
       "HISTORY psfcutoff   = 0.35                                                      \n",
       "HISTORY 2022-05-04T13:04:12 INFO SRCCODE='::tclean'                             \n",
       "HISTORY parallel    = False                                                     \n",
       "HISTORY CASA END LOGTABLE                                                       \n",
       "HISTORY Written by spectral_cube v0.6.0 on 2022/05/28-15:41:04                  "
      ]
     },
     "execution_count": 57,
     "metadata": {},
     "output_type": "execute_result"
    }
   ],
   "source": [
    "cube.header"
   ]
  },
  {
   "cell_type": "code",
   "execution_count": 199,
   "id": "56114e2b",
   "metadata": {},
   "outputs": [],
   "source": [
    "x = xpix = 505\n",
    "y = ypix = 500\n",
    "Spec = cube.get_spectrum(ypix,xpix)"
   ]
  },
  {
   "cell_type": "code",
   "execution_count": 200,
   "id": "c7e2d613",
   "metadata": {},
   "outputs": [],
   "source": [
    "vmin = 6; vmax = 12\n",
    "tpeak_min = 3*rms; tpeak_max = 500e-3\n",
    "dv_min = 0.05; dv_max = 6.0\n",
    "F = False\n",
    "T = True"
   ]
  },
  {
   "cell_type": "code",
   "execution_count": 196,
   "id": "b4d2f3e9",
   "metadata": {},
   "outputs": [
    {
     "name": "stdout",
     "output_type": "stream",
     "text": [
      "INFO: Left region selection unchanged.  xminpix, xmaxpix: 0,120 [pyspeckit.spectrum.interactive]\n"
     ]
    }
   ],
   "source": [
    "#guesses = np.array([10e-3, 6.2, 1.5, 25e-3, 6.8, 0.3, 25e-3, 7.8, 1])\n",
    "#guesses = [0.1, 8.15, 0.17, 0.1, 8.75, 0.17]\n",
    "guesses = [0.02, 7.8, 0.1, 0.02, 8, 0.1]\n",
    "#guesses = [0.03, 7.5, 0.2, 0.03, 8, 0.2, 0.02, 8.6, 0.2]\n",
    "\n",
    "Spec.specfit(fittype='gaussian', guesses=guesses,\n",
    "             limits=[(tpeak_min,tpeak_max), (vmin,vmax), (dv_min,dv_max), (tpeak_min,tpeak_max), (vmin,vmax), (dv_min,dv_max)],\n",
    "            limited=[(T,T), (T,T), (T,T), (T,T), (T,T), (T,T)])"
   ]
  },
  {
   "cell_type": "code",
   "execution_count": 197,
   "id": "73a8e2ab",
   "metadata": {},
   "outputs": [
    {
     "name": "stderr",
     "output_type": "stream",
     "text": [
      "support for accessing str attributes such as 'lower' from PhysicalType instances is deprecated since 4.3 and will be removed in a subsequent release.\n",
      "support for accessing str attributes such as 'title' from PhysicalType instances is deprecated since 4.3 and will be removed in a subsequent release.\n",
      "support for accessing str attributes such as 'lower' from PhysicalType instances is deprecated since 4.3 and will be removed in a subsequent release.\n"
     ]
    },
    {
     "data": {
      "image/png": "[encoded data removed]",
      "text/plain": [
       "<Figure size 1008x576 with 1 Axes>"
      ]
     },
     "metadata": {
      "needs_background": "light"
     },
     "output_type": "display_data"
    }
   ],
   "source": [
    "Spec.plotter()\n",
    "Spec.specfit.plot_fit()\n",
    "Spec.specfit.plot_components()\n",
    "Spec.specfit.plotresiduals(axis=Spec.plotter.axis, clear=False, label=False)"
   ]
  },
  {
   "cell_type": "code",
   "execution_count": 202,
   "id": "016e3d41",
   "metadata": {},
   "outputs": [
    {
     "data": {
      "text/plain": [
       "<matplotlib.legend.Legend at 0x7f8bc1def1f0>"
      ]
     },
     "execution_count": 202,
     "metadata": {},
     "output_type": "execute_result"
    },
    {
     "data": {
      "image/png": "[encoded data removed]",
      "text/plain": [
       "<Figure size 1008x576 with 1 Axes>"
      ]
     },
     "metadata": {
      "needs_background": "light"
     },
     "output_type": "display_data"
    }
   ],
   "source": [
    "test_JEP = Gaussian(Cube.spectral_axis.value, 0.15, 8.1, 0.2)\n",
    "test_JEP1 = Gaussian(Cube.spectral_axis.value, 0.07, 9, 0.3)\n",
    "\n",
    "Cube[:,xpix,ypix].quicklook(label='Data')\n",
    "#plt.step(Cube.spectral_axis.value, test_JEP, label='1st comp')\n",
    "#plt.step(Cube.spectral_axis.value, test_JEP1, label='2nd comp')\n",
    "\n",
    "#plt.step(Cube.spectral_axis.value, test_JEP + test_JEP1, label='sum')\n",
    "plt.ylabel('Intensity (Jy/beam)')\n",
    "plt.xlabel('Velocity (km/s)')\n",
    "plt.axvline(8.3, linestyle = 'dashed', color = 'black', label = 'Systemic velocity')\n",
    "plt.legend()"
   ]
  },
  {
   "cell_type": "code",
   "execution_count": 63,
   "id": "7492ffd9",
   "metadata": {},
   "outputs": [],
   "source": [
    "file_1comp = 'Documents/C18O/Spec_C18O_fit_01kms_5snr.fits'\n",
    "#file_2comp = 'Documents/H13CO/Spec_H13CO_32_fit_2comp_5snr.fits'\n",
    "file_2comp = 'Documents/C18O/Spec_C18O_fit_5snr_2comp_slurm.fits'\n",
    "file_3comp = 'Documents/C18O/Spec_C18O_fit_5snr_3comp.fits'"
   ]
  },
  {
   "cell_type": "code",
   "execution_count": 64,
   "id": "1afe5e54",
   "metadata": {},
   "outputs": [],
   "source": [
    "data_1comp, hd_1comp = fits.getdata(file_1comp, header=True)\n",
    "data_2comp, hd_2comp = fits.getdata(file_2comp, header=True)\n",
    "data_3comp, hd_3comp = fits.getdata(file_3comp, header=True)"
   ]
  },
  {
   "cell_type": "code",
   "execution_count": 65,
   "id": "27e71a66",
   "metadata": {},
   "outputs": [
    {
     "data": {
      "text/plain": [
       "<matplotlib.legend.Legend at 0x7f8bded3a250>"
      ]
     },
     "execution_count": 65,
     "metadata": {},
     "output_type": "execute_result"
    },
    {
     "data": {
      "image/png": "[encoded data removed]",
      "text/plain": [
       "<Figure size 1008x576 with 1 Axes>"
      ]
     },
     "metadata": {
      "needs_background": "light"
     },
     "output_type": "display_data"
    }
   ],
   "source": [
    "test = Gaussian(Cube.spectral_axis.value,\n",
    "                          data_3comp[0,xpix,ypix],\n",
    "                          data_3comp[1,xpix,ypix],\n",
    "                          data_3comp[2,xpix,ypix])\n",
    "test1 = Gaussian(Cube.spectral_axis.value,\n",
    "                          data_3comp[3,xpix,ypix],\n",
    "                          data_3comp[4,xpix,ypix],\n",
    "                          data_3comp[5,xpix,ypix])\n",
    "test2 = Gaussian(Cube.spectral_axis.value,\n",
    "                          data_3comp[6,xpix,ypix],\n",
    "                          data_3comp[7,xpix,ypix],\n",
    "                          data_3comp[8,xpix,ypix])\n",
    "\n",
    "Cube[:,xpix,ypix].quicklook(label = 'Data')\n",
    "plt.step(Cube.spectral_axis.value, test, label='1st comp')\n",
    "plt.step(Cube.spectral_axis.value, test1, label='2nd comp')\n",
    "plt.step(Cube.spectral_axis.value, test2, label='3rd comp')\n",
    "plt.step(Cube.spectral_axis.value, test + test1 + test2 , label='sum')\n",
    "plt.legend()"
   ]
  },
  {
   "cell_type": "code",
   "execution_count": 66,
   "id": "fcd6e3ec",
   "metadata": {},
   "outputs": [],
   "source": [
    "file_par = 'Documents/H13CO/Spec_H13CO_32_fit_2comp_5snr copie.fits'\n",
    "data, hd = fits.getdata(file_par, header=True)\n",
    "hd_2d = hd.copy()\n",
    "key_list = ['NAXIS3', 'CRPIX3', 'SPECSYS', 'CDELT3', 'CUNIT3', 'CTYPE3', 'CRVAL3']\n",
    "for key_i in key_list:\n",
    "    hd_2d.remove(key_i)\n",
    "hd_2d['NAXIS'] = 2\n",
    "hd_2d['WCSAXES'] = 2\n",
    "hd_2d['BITPIX'] = 8\n",
    "\n",
    "hd_2d['BUNIT'] = 'km/s'"
   ]
  },
  {
   "cell_type": "code",
   "execution_count": 67,
   "id": "c92d9071",
   "metadata": {},
   "outputs": [],
   "source": [
    "def chi2(y_data, y_model, err) :\n",
    "    return np.sum(np.square(y_data - y_model)/err**2)\n",
    "\n",
    "def AIC(chi2_low, chi2_high, Delta_k = 3.) :\n",
    "    return 2*Delta_k + chi2_low - chi2_high"
   ]
  },
  {
   "cell_type": "code",
   "execution_count": 68,
   "id": "e682d4df",
   "metadata": {},
   "outputs": [],
   "source": [
    "chi2_0comp = chi2(Cube[:,x,y].value, 0, rms)"
   ]
  },
  {
   "cell_type": "code",
   "execution_count": 69,
   "id": "3d5accd5",
   "metadata": {},
   "outputs": [],
   "source": [
    "chi2_1comp=chi2(Cube[:,x,y].value, Gaussian(Cube.spectral_axis.value,data_1comp[0,x,y],data_1comp[1,x,y],data_1comp[2,x,y]), rms)"
   ]
  },
  {
   "cell_type": "code",
   "execution_count": 70,
   "id": "27d27725",
   "metadata": {},
   "outputs": [
    {
     "data": {
      "text/plain": [
       "-1612.5993768608344"
      ]
     },
     "execution_count": 70,
     "metadata": {},
     "output_type": "execute_result"
    }
   ],
   "source": [
    "AIC(chi2_1comp, chi2_0comp)"
   ]
  },
  {
   "cell_type": "code",
   "execution_count": 71,
   "id": "d1637e98",
   "metadata": {},
   "outputs": [],
   "source": [
    "chi2_2comp=chi2(Cube[:,x,y].value,Gaussian_2comp(Cube.spectral_axis.value,\n",
    "                                                 data_2comp[0,x,y],\n",
    "                                                 data_2comp[1,x,y],\n",
    "                                                 data_2comp[2,x,y],\n",
    "                                                 data_2comp[3,x,y],\n",
    "                                                 data_2comp[4,x,y],\n",
    "                                                 data_2comp[5,x,y]), rms)"
   ]
  },
  {
   "cell_type": "code",
   "execution_count": 72,
   "id": "141a2f0d",
   "metadata": {},
   "outputs": [
    {
     "data": {
      "text/plain": [
       "3.0326258541289235"
      ]
     },
     "execution_count": 72,
     "metadata": {},
     "output_type": "execute_result"
    }
   ],
   "source": [
    "AIC(chi2_2comp, chi2_1comp)"
   ]
  },
  {
   "cell_type": "code",
   "execution_count": 73,
   "id": "b255592d",
   "metadata": {},
   "outputs": [],
   "source": [
    "chi2_3comp=chi2(Cube[:,x,y].value,Gaussian_3comp(Cube.spectral_axis.value,\n",
    "                                                 data_3comp[0,x,y],\n",
    "                                                 data_3comp[1,x,y],\n",
    "                                                 data_3comp[2,x,y],\n",
    "                                                 data_3comp[3,x,y],\n",
    "                                                 data_3comp[4,x,y],\n",
    "                                                 data_3comp[5,x,y],\n",
    "                                                 data_3comp[6,x,y],\n",
    "                                                 data_3comp[7,x,y],\n",
    "                                                 data_3comp[8,x,y]), rms)"
   ]
  },
  {
   "cell_type": "code",
   "execution_count": 74,
   "id": "bba7f7de",
   "metadata": {},
   "outputs": [
    {
     "data": {
      "text/plain": [
       "-105.24300303948019"
      ]
     },
     "execution_count": 74,
     "metadata": {},
     "output_type": "execute_result"
    }
   ],
   "source": [
    "AIC(chi2_3comp, chi2_2comp)"
   ]
  },
  {
   "cell_type": "code",
   "execution_count": 75,
   "id": "49ea8349",
   "metadata": {},
   "outputs": [
    {
     "data": {
      "text/plain": [
       "<matplotlib.legend.Legend at 0x7f8bc7397a60>"
      ]
     },
     "execution_count": 75,
     "metadata": {},
     "output_type": "execute_result"
    },
    {
     "data": {
      "image/png": "[encoded data removed]",
      "text/plain": [
       "<Figure size 1008x576 with 1 Axes>"
      ]
     },
     "metadata": {
      "needs_background": "light"
     },
     "output_type": "display_data"
    }
   ],
   "source": [
    "test_1st = Gaussian(Cube.spectral_axis.value,\n",
    "                    data_1comp[0,xpix,ypix],\n",
    "                    data_1comp[1,xpix,ypix],\n",
    "                    data_1comp[2,xpix,ypix])\n",
    "\n",
    "test_2nd = Gaussian_2comp(Cube.spectral_axis.value,\n",
    "                          data_2comp[0,xpix,ypix],\n",
    "                          data_2comp[1,xpix,ypix],\n",
    "                          data_2comp[2,xpix,ypix],\n",
    "                          data_2comp[3,xpix,ypix],\n",
    "                          data_2comp[4,xpix,ypix],\n",
    "                          data_2comp[5,xpix,ypix])\n",
    "\n",
    "test_3rd = Gaussian_3comp(Cube.spectral_axis.value,\n",
    "                          data_3comp[0, xpix,ypix],\n",
    "                          data_3comp[1, xpix,ypix],\n",
    "                          data_3comp[2, xpix,ypix],\n",
    "                          data_3comp[3, xpix,ypix],\n",
    "                          data_3comp[4, xpix,ypix],\n",
    "                          data_3comp[5, xpix,ypix],\n",
    "                          data_3comp[6, xpix,ypix],\n",
    "                          data_3comp[7, xpix,ypix],\n",
    "                          data_3comp[8, xpix,ypix])\n",
    "\n",
    "Cube[:,xpix,ypix].quicklook(label = 'Data')\n",
    "\n",
    "plt.step(Cube.spectral_axis.value,test_1st, label = '1comp')\n",
    "plt.step(Cube.spectral_axis.value,test_2nd, label = '2comp')\n",
    "plt.step(Cube.spectral_axis.value,test_3rd, label = '3comp')\n",
    "plt.legend()"
   ]
  },
  {
   "cell_type": "code",
   "execution_count": 76,
   "id": "ed10639c",
   "metadata": {},
   "outputs": [],
   "source": [
    "zoom_size = 400\n",
    "\n",
    "#bestparam = [[[] for j in range(250)] for i in range(250)]\n",
    "Image = np.zeros(shape=(zoom_size, zoom_size))\n",
    "bestparam = np.zeros(shape=(15, zoom_size, zoom_size))\n",
    "i_zoom = 320\n",
    "j_zoom = 320\n",
    "\n",
    "for n in range(zoom_size):\n",
    "    \n",
    "    i = n + i_zoom\n",
    "\n",
    "    for p in range(zoom_size):\n",
    "        \n",
    "        j = p + j_zoom\n",
    "        \n",
    "        chi2_0comp=chi2(Cube[:, i, j].value, 0, rms)\n",
    "        \n",
    "        chi2_1comp=chi2(Cube[:, i, j].value, Gaussian(Cube.spectral_axis.value,\n",
    "                                                    data_1comp[0, i, j],\n",
    "                                                    data_1comp[1, i, j],\n",
    "                                                    data_1comp[2, i, j]), rms)\n",
    "        \n",
    "        \n",
    "        aic_test1 = AIC(chi2_1comp, chi2_0comp, Delta_k=3.)\n",
    "        \n",
    "        if aic_test1 < -10 : \n",
    "            \n",
    "            #1 comp model better than 0 comp model \n",
    "            \n",
    "            bestparam[0:3, n, p] = data_1comp[0:3, i, j]\n",
    "            bestparam[9:12, n, p] = data_1comp[3:6, i, j]\n",
    "            \n",
    "            Image[n, p] = 1\n",
    "            \n",
    "            chi2_2comp=chi2(Cube[:, i, j].value, Gaussian_2comp(Cube.spectral_axis.value,\n",
    "                                                         data_2comp[0, i, j],\n",
    "                                                         data_2comp[1, i, j],\n",
    "                                                         data_2comp[2, i, j],\n",
    "                                                         data_2comp[3, i, j],\n",
    "                                                         data_2comp[4, i, j],\n",
    "                                                         data_2comp[5, i, j]), rms)\n",
    "            \n",
    "            aic_test2 = AIC(chi2_2comp, chi2_1comp, Delta_k=3.)\n",
    "                \n",
    "            \n",
    "            if aic_test2 < -10 and np.abs(data_2comp[1, i, j] - data_2comp[4, i, j]) > 0.1 :\n",
    "                \n",
    "                #2 comp model better than 1 comp model \n",
    "                \n",
    "                bestparam[0:6, n, p] = data_2comp[0:6, i, j]\n",
    "                bestparam[6:12, n, p] = data_2comp[6:12, i, j]\n",
    "                \n",
    "                Image[n, p] = 2\n",
    "\n",
    "                chi2_3comp=chi2(Cube[:, i, j].value, Gaussian_3comp(Cube.spectral_axis.value,\n",
    "                                                         data_3comp[0, i, j],\n",
    "                                                         data_3comp[1, i, j],\n",
    "                                                         data_3comp[2, i, j],\n",
    "                                                         data_3comp[3, i, j],\n",
    "                                                         data_3comp[4, i, j],\n",
    "                                                         data_3comp[5, i, j],\n",
    "                                                         data_3comp[6, i, j],\n",
    "                                                         data_3comp[7, i, j],\n",
    "                                                         data_3comp[8, i, j]), rms)\n",
    "                \n",
    "                aic_test3 = AIC(chi2_3comp, chi2_2comp, Delta_k=3.)\n",
    "                \n",
    "                if aic_test3 < -10 and np.abs(data_2comp[1, i, j] - data_2comp[4, i, j]) > 0.1 and np.abs(data_2comp[1, i, j] - data_2comp[7, i, j]) > 0.1 and np.abs(data_2comp[7, i, j] - data_2comp[4, i, j]) > 0.1 :\n",
    "                    \n",
    "                    #3 comp model better than 2 comp model \n",
    "                    \n",
    "                    bestparam[0:9, n, p] = data_3comp[0:9, i, j]\n",
    "                    bestparam[9:15, n, p] = data_3comp[9:15, i, j]\n",
    "                \n",
    "                    Image[n, p] = 3\n",
    "                    \n",
    "            else :\n",
    "                \n",
    "                chi2_3comp=chi2(Cube[:, i, j].value, Gaussian_3comp(Cube.spectral_axis.value,\n",
    "                                                         data_3comp[0, i, j],\n",
    "                                                         data_3comp[1, i, j],\n",
    "                                                         data_3comp[2, i, j],\n",
    "                                                         data_3comp[3, i, j],\n",
    "                                                         data_3comp[4, i, j],\n",
    "                                                         data_3comp[5, i, j],\n",
    "                                                         data_3comp[6, i, j],\n",
    "                                                         data_3comp[7, i, j],\n",
    "                                                         data_3comp[8, i, j]), rms)\n",
    "                \n",
    "                aic_test3 = AIC(chi2_3comp, chi2_1comp, Delta_k=6.)\n",
    "                \n",
    "                if aic_test3 < -10 and np.abs(data_2comp[1, i, j] - data_2comp[4, i, j]) > 0.1 and np.abs(data_2comp[1, i, j] - data_2comp[7, i, j]) > 0.1 and np.abs(data_2comp[7, i, j] - data_2comp[4, i, j]) > 0.1 :\n",
    "                    \n",
    "                    #3 comp model better than 2 comp model \n",
    "                    \n",
    "                    bestparam[0:9, n, p] = data_3comp[0:9, i, j]\n",
    "                    bestparam[9:15, n, p] = data_3comp[9:15, i, j]\n",
    "                \n",
    "                    Image[n, p] = 3"
   ]
  },
  {
   "cell_type": "code",
   "execution_count": 128,
   "id": "2afa991b",
   "metadata": {},
   "outputs": [
    {
     "data": {
      "text/latex": [
       "$[0,~0,~0,~\\dots,~0,~0,~0] \\; \\mathrm{\\frac{Jy}{beam}}$"
      ],
      "text/plain": [
       "<OneDSpectrum [ 0.0000000e+00, 0.0000000e+00, 0.0000000e+00, 0.0000000e+00,\n",
       "                0.0000000e+00, 0.0000000e+00, 0.0000000e+00, 0.0000000e+00,\n",
       "                0.0000000e+00, 0.0000000e+00, 0.0000000e+00, 0.0000000e+00,\n",
       "                0.0000000e+00, 0.0000000e+00, 0.0000000e+00, 0.0000000e+00,\n",
       "                0.0000000e+00, 0.0000000e+00, 0.0000000e+00, 0.0000000e+00,\n",
       "                0.0000000e+00, 0.0000000e+00, 0.0000000e+00, 0.0000000e+00,\n",
       "                0.0000000e+00, 0.0000000e+00, 0.0000000e+00, 0.0000000e+00,\n",
       "                0.0000000e+00, 0.0000000e+00, 0.0000000e+00, 0.0000000e+00,\n",
       "                2.3101241e-12, 2.0608250e-12,-5.1731568e-13, 4.3904424e-12,\n",
       "                7.3551139e-12,-6.2943444e-12,-1.0691110e-14,-4.2484497e-12,\n",
       "                3.4295858e-11,-2.7035494e-12,-2.2507787e-11, 3.5026877e-11,\n",
       "                9.7092168e-11,-9.2868768e-11, 2.3195957e-11, 1.8029037e-11,\n",
       "               -2.2818387e-10,-4.9165814e-11,-3.4449893e-10,-6.8620283e-12,\n",
       "               -1.1831514e-10,-1.0154003e-10, 1.2031831e-10, 2.9958820e-11,\n",
       "                1.9868922e-10,-5.0914925e-11, 5.4511652e-11, 7.6440049e-11,\n",
       "               -4.8685084e-11, 6.7953511e-11,-6.5191783e-11,-1.6823268e-11,\n",
       "               -5.3366426e-11,-5.3781334e-11,-2.4109773e-11, 6.8970295e-11,\n",
       "               -5.0642032e-11, 2.4312340e-11, 2.6459538e-11, 2.4076323e-11,\n",
       "               -9.9971793e-12,-1.5225282e-12,-4.1886486e-12,-6.2661595e-12,\n",
       "               -6.6668650e-12,-5.7519996e-12, 0.0000000e+00, 0.0000000e+00,\n",
       "                0.0000000e+00, 0.0000000e+00, 0.0000000e+00, 0.0000000e+00,\n",
       "                0.0000000e+00, 0.0000000e+00, 0.0000000e+00, 0.0000000e+00,\n",
       "                0.0000000e+00, 0.0000000e+00, 0.0000000e+00, 0.0000000e+00,\n",
       "                0.0000000e+00, 0.0000000e+00, 0.0000000e+00, 0.0000000e+00,\n",
       "                0.0000000e+00, 0.0000000e+00, 0.0000000e+00, 0.0000000e+00,\n",
       "                0.0000000e+00, 0.0000000e+00, 0.0000000e+00, 0.0000000e+00,\n",
       "                0.0000000e+00, 0.0000000e+00, 0.0000000e+00, 0.0000000e+00,\n",
       "                0.0000000e+00, 0.0000000e+00, 0.0000000e+00, 0.0000000e+00,\n",
       "                0.0000000e+00, 0.0000000e+00, 0.0000000e+00, 0.0000000e+00,\n",
       "                0.0000000e+00, 0.0000000e+00, 0.0000000e+00, 0.0000000e+00] Jy / beam>"
      ]
     },
     "execution_count": 128,
     "metadata": {},
     "output_type": "execute_result"
    }
   ],
   "source": [
    "Cube[:,180,180]"
   ]
  },
  {
   "cell_type": "code",
   "execution_count": 141,
   "id": "fd0bfb81",
   "metadata": {},
   "outputs": [
    {
     "ename": "KeyboardInterrupt",
     "evalue": "",
     "output_type": "error",
     "traceback": [
      "\u001b[0;31m---------------------------------------------------------------------------\u001b[0m",
      "\u001b[0;31mKeyboardInterrupt\u001b[0m                         Traceback (most recent call last)",
      "\u001b[0;32m/var/folders/6m/n1jjf0yj4x1635jmn9zkj949q6vf84/T/ipykernel_41014/3417761979.py\u001b[0m in \u001b[0;36m<module>\u001b[0;34m\u001b[0m\n\u001b[1;32m     11\u001b[0m         \u001b[0;32mfor\u001b[0m \u001b[0mk\u001b[0m \u001b[0;32min\u001b[0m \u001b[0mrange\u001b[0m\u001b[0;34m(\u001b[0m\u001b[0mlen\u001b[0m\u001b[0;34m(\u001b[0m\u001b[0mCube\u001b[0m\u001b[0;34m.\u001b[0m\u001b[0mspectral_axis\u001b[0m\u001b[0;34m)\u001b[0m\u001b[0;34m)\u001b[0m \u001b[0;34m:\u001b[0m\u001b[0;34m\u001b[0m\u001b[0;34m\u001b[0m\u001b[0m\n\u001b[1;32m     12\u001b[0m \u001b[0;34m\u001b[0m\u001b[0m\n\u001b[0;32m---> 13\u001b[0;31m             \u001b[0mdata_test\u001b[0m\u001b[0;34m[\u001b[0m\u001b[0mk\u001b[0m\u001b[0;34m]\u001b[0m \u001b[0;34m+=\u001b[0m \u001b[0mCube\u001b[0m\u001b[0;34m[\u001b[0m\u001b[0;34m:\u001b[0m\u001b[0;34m,\u001b[0m\u001b[0mn\u001b[0m\u001b[0;34m,\u001b[0m\u001b[0mp\u001b[0m\u001b[0;34m]\u001b[0m\u001b[0;34m[\u001b[0m\u001b[0mk\u001b[0m\u001b[0;34m]\u001b[0m\u001b[0;34m.\u001b[0m\u001b[0mvalue\u001b[0m\u001b[0;34m\u001b[0m\u001b[0;34m\u001b[0m\u001b[0m\n\u001b[0m",
      "\u001b[0;32m~/opt/anaconda3/lib/python3.9/site-packages/spectral_cube/spectral_cube.py\u001b[0m in \u001b[0;36m__getitem__\u001b[0;34m(self, view)\u001b[0m\n\u001b[1;32m   1294\u001b[0m                     \u001b[0mbmarg\u001b[0m \u001b[0;34m=\u001b[0m \u001b[0;34m{\u001b[0m\u001b[0;34m}\u001b[0m\u001b[0;34m\u001b[0m\u001b[0;34m\u001b[0m\u001b[0m\n\u001b[1;32m   1295\u001b[0m \u001b[0;34m\u001b[0m\u001b[0m\n\u001b[0;32m-> 1296\u001b[0;31m                 return self._oned_spectrum(value=self._data[view],\n\u001b[0m\u001b[1;32m   1297\u001b[0m                                            \u001b[0mwcs\u001b[0m\u001b[0;34m=\u001b[0m\u001b[0mnewwcs\u001b[0m\u001b[0;34m,\u001b[0m\u001b[0;34m\u001b[0m\u001b[0;34m\u001b[0m\u001b[0m\n\u001b[1;32m   1298\u001b[0m                                            \u001b[0mcopy\u001b[0m\u001b[0;34m=\u001b[0m\u001b[0;32mFalse\u001b[0m\u001b[0;34m,\u001b[0m\u001b[0;34m\u001b[0m\u001b[0;34m\u001b[0m\u001b[0m\n",
      "\u001b[0;32m~/opt/anaconda3/lib/python3.9/site-packages/spectral_cube/lower_dimensional_structures.py\u001b[0m in \u001b[0;36m__new__\u001b[0;34m(cls, value, beam, read_beam, **kwargs)\u001b[0m\n\u001b[1;32m    988\u001b[0m \u001b[0;34m\u001b[0m\u001b[0m\n\u001b[1;32m    989\u001b[0m     \u001b[0;32mdef\u001b[0m \u001b[0m__new__\u001b[0m\u001b[0;34m(\u001b[0m\u001b[0mcls\u001b[0m\u001b[0;34m,\u001b[0m \u001b[0mvalue\u001b[0m\u001b[0;34m,\u001b[0m \u001b[0mbeam\u001b[0m\u001b[0;34m=\u001b[0m\u001b[0;32mNone\u001b[0m\u001b[0;34m,\u001b[0m \u001b[0mread_beam\u001b[0m\u001b[0;34m=\u001b[0m\u001b[0;32mFalse\u001b[0m\u001b[0;34m,\u001b[0m \u001b[0;34m**\u001b[0m\u001b[0mkwargs\u001b[0m\u001b[0;34m)\u001b[0m\u001b[0;34m:\u001b[0m\u001b[0;34m\u001b[0m\u001b[0;34m\u001b[0m\u001b[0m\n\u001b[0;32m--> 990\u001b[0;31m         \u001b[0mself\u001b[0m \u001b[0;34m=\u001b[0m \u001b[0msuper\u001b[0m\u001b[0;34m(\u001b[0m\u001b[0mOneDSpectrum\u001b[0m\u001b[0;34m,\u001b[0m \u001b[0mcls\u001b[0m\u001b[0;34m)\u001b[0m\u001b[0;34m.\u001b[0m\u001b[0m__new__\u001b[0m\u001b[0;34m(\u001b[0m\u001b[0mcls\u001b[0m\u001b[0;34m,\u001b[0m \u001b[0mvalue\u001b[0m\u001b[0;34m,\u001b[0m \u001b[0;34m**\u001b[0m\u001b[0mkwargs\u001b[0m\u001b[0;34m)\u001b[0m\u001b[0;34m\u001b[0m\u001b[0;34m\u001b[0m\u001b[0m\n\u001b[0m\u001b[1;32m    991\u001b[0m \u001b[0;34m\u001b[0m\u001b[0m\n\u001b[1;32m    992\u001b[0m         \u001b[0;32mif\u001b[0m \u001b[0mbeam\u001b[0m \u001b[0;32mis\u001b[0m \u001b[0;32mNone\u001b[0m\u001b[0;34m:\u001b[0m\u001b[0;34m\u001b[0m\u001b[0;34m\u001b[0m\u001b[0m\n",
      "\u001b[0;32m~/opt/anaconda3/lib/python3.9/site-packages/spectral_cube/lower_dimensional_structures.py\u001b[0m in \u001b[0;36m__new__\u001b[0;34m(cls, value, unit, dtype, copy, wcs, meta, mask, header, spectral_unit, fill_value, wcs_tolerance)\u001b[0m\n\u001b[1;32m    601\u001b[0m         \u001b[0mself\u001b[0m\u001b[0;34m.\u001b[0m\u001b[0m_wcs_tolerance\u001b[0m \u001b[0;34m=\u001b[0m \u001b[0mwcs_tolerance\u001b[0m\u001b[0;34m\u001b[0m\u001b[0;34m\u001b[0m\u001b[0m\n\u001b[1;32m    602\u001b[0m \u001b[0;34m\u001b[0m\u001b[0m\n\u001b[0;32m--> 603\u001b[0;31m         \u001b[0mself\u001b[0m\u001b[0;34m.\u001b[0m\u001b[0m_initial_set_mask\u001b[0m\u001b[0;34m(\u001b[0m\u001b[0mmask\u001b[0m\u001b[0;34m)\u001b[0m\u001b[0;34m\u001b[0m\u001b[0;34m\u001b[0m\u001b[0m\n\u001b[0m\u001b[1;32m    604\u001b[0m \u001b[0;34m\u001b[0m\u001b[0m\n\u001b[1;32m    605\u001b[0m         \u001b[0mself\u001b[0m\u001b[0;34m.\u001b[0m\u001b[0m_fill_value\u001b[0m \u001b[0;34m=\u001b[0m \u001b[0mfill_value\u001b[0m\u001b[0;34m\u001b[0m\u001b[0;34m\u001b[0m\u001b[0m\n",
      "\u001b[0;32m~/opt/anaconda3/lib/python3.9/site-packages/spectral_cube/lower_dimensional_structures.py\u001b[0m in \u001b[0;36m_initial_set_mask\u001b[0;34m(self, mask)\u001b[0m\n\u001b[1;32m    230\u001b[0m \u001b[0;34m\u001b[0m\u001b[0m\n\u001b[1;32m    231\u001b[0m         \u001b[0;31m# Validate the mask before setting\u001b[0m\u001b[0;34m\u001b[0m\u001b[0;34m\u001b[0m\u001b[0m\n\u001b[0;32m--> 232\u001b[0;31m         mask._validate_wcs(new_data=self.value, new_wcs=self._wcs,\n\u001b[0m\u001b[1;32m    233\u001b[0m                            wcs_tolerance=self._wcs_tolerance)\n\u001b[1;32m    234\u001b[0m \u001b[0;34m\u001b[0m\u001b[0m\n",
      "\u001b[0;32m~/opt/anaconda3/lib/python3.9/site-packages/spectral_cube/masks.py\u001b[0m in \u001b[0;36m_validate_wcs\u001b[0;34m(self, new_data, new_wcs, **kwargs)\u001b[0m\n\u001b[1;32m    644\u001b[0m         \u001b[0;32mif\u001b[0m \u001b[0mnew_wcs\u001b[0m \u001b[0;32mis\u001b[0m \u001b[0;32mnot\u001b[0m \u001b[0;32mNone\u001b[0m\u001b[0;34m:\u001b[0m\u001b[0;34m\u001b[0m\u001b[0;34m\u001b[0m\u001b[0m\n\u001b[1;32m    645\u001b[0m             \u001b[0;32mif\u001b[0m \u001b[0mnew_wcs\u001b[0m \u001b[0;32mnot\u001b[0m \u001b[0;32min\u001b[0m \u001b[0mself\u001b[0m\u001b[0;34m.\u001b[0m\u001b[0m_wcs_whitelist\u001b[0m\u001b[0;34m:\u001b[0m\u001b[0;34m\u001b[0m\u001b[0;34m\u001b[0m\u001b[0m\n\u001b[0;32m--> 646\u001b[0;31m                 if not wcs_utils.check_equality(new_wcs, self._wcs,\n\u001b[0m\u001b[1;32m    647\u001b[0m                                                 warn_missing=True, **kwargs):\n\u001b[1;32m    648\u001b[0m                     \u001b[0;32mraise\u001b[0m \u001b[0mValueError\u001b[0m\u001b[0;34m(\u001b[0m\u001b[0;34m\"WCS does not match mask WCS\"\u001b[0m\u001b[0;34m)\u001b[0m\u001b[0;34m\u001b[0m\u001b[0;34m\u001b[0m\u001b[0m\n",
      "\u001b[0;32m~/opt/anaconda3/lib/python3.9/site-packages/spectral_cube/wcs_utils.py\u001b[0m in \u001b[0;36mcheck_equality\u001b[0;34m(wcs1, wcs2, warn_missing, ignore_keywords, wcs_tolerance)\u001b[0m\n\u001b[1;32m    396\u001b[0m                 \u001b[0;32mtry\u001b[0m\u001b[0;34m:\u001b[0m\u001b[0;34m\u001b[0m\u001b[0;34m\u001b[0m\u001b[0m\n\u001b[1;32m    397\u001b[0m                     \u001b[0;32mif\u001b[0m \u001b[0mexact\u001b[0m\u001b[0;34m:\u001b[0m\u001b[0;34m\u001b[0m\u001b[0;34m\u001b[0m\u001b[0m\n\u001b[0;32m--> 398\u001b[0;31m                         \u001b[0;32massert\u001b[0m \u001b[0mc1\u001b[0m\u001b[0;34m[\u001b[0m\u001b[0;36m1\u001b[0m\u001b[0;34m]\u001b[0m \u001b[0;34m==\u001b[0m \u001b[0mc2\u001b[0m\u001b[0;34m[\u001b[0m\u001b[0;36m1\u001b[0m\u001b[0;34m]\u001b[0m\u001b[0;34m\u001b[0m\u001b[0;34m\u001b[0m\u001b[0m\n\u001b[0m\u001b[1;32m    399\u001b[0m                     \u001b[0;32melse\u001b[0m\u001b[0;34m:\u001b[0m\u001b[0;34m\u001b[0m\u001b[0;34m\u001b[0m\u001b[0m\n\u001b[1;32m    400\u001b[0m                         \u001b[0mnp\u001b[0m\u001b[0;34m.\u001b[0m\u001b[0mtesting\u001b[0m\u001b[0;34m.\u001b[0m\u001b[0massert_almost_equal\u001b[0m\u001b[0;34m(\u001b[0m\u001b[0mc1\u001b[0m\u001b[0;34m[\u001b[0m\u001b[0;36m1\u001b[0m\u001b[0;34m]\u001b[0m\u001b[0;34m,\u001b[0m \u001b[0mc2\u001b[0m\u001b[0;34m[\u001b[0m\u001b[0;36m1\u001b[0m\u001b[0;34m]\u001b[0m\u001b[0;34m,\u001b[0m \u001b[0mdecimal\u001b[0m\u001b[0;34m=\u001b[0m\u001b[0mdecimal\u001b[0m\u001b[0;34m)\u001b[0m\u001b[0;34m\u001b[0m\u001b[0;34m\u001b[0m\u001b[0m\n",
      "\u001b[0;32m~/opt/anaconda3/lib/python3.9/site-packages/astropy/io/fits/card.py\u001b[0m in \u001b[0;36m__getitem__\u001b[0;34m(self, index)\u001b[0m\n\u001b[1;32m    210\u001b[0m \u001b[0;34m\u001b[0m\u001b[0m\n\u001b[1;32m    211\u001b[0m     \u001b[0;32mdef\u001b[0m \u001b[0m__getitem__\u001b[0m\u001b[0;34m(\u001b[0m\u001b[0mself\u001b[0m\u001b[0;34m,\u001b[0m \u001b[0mindex\u001b[0m\u001b[0;34m)\u001b[0m\u001b[0;34m:\u001b[0m\u001b[0;34m\u001b[0m\u001b[0;34m\u001b[0m\u001b[0m\n\u001b[0;32m--> 212\u001b[0;31m         \u001b[0;32mreturn\u001b[0m \u001b[0;34m(\u001b[0m\u001b[0mself\u001b[0m\u001b[0;34m.\u001b[0m\u001b[0mkeyword\u001b[0m\u001b[0;34m,\u001b[0m \u001b[0mself\u001b[0m\u001b[0;34m.\u001b[0m\u001b[0mvalue\u001b[0m\u001b[0;34m,\u001b[0m \u001b[0mself\u001b[0m\u001b[0;34m.\u001b[0m\u001b[0mcomment\u001b[0m\u001b[0;34m)\u001b[0m\u001b[0;34m[\u001b[0m\u001b[0mindex\u001b[0m\u001b[0;34m]\u001b[0m\u001b[0;34m\u001b[0m\u001b[0;34m\u001b[0m\u001b[0m\n\u001b[0m\u001b[1;32m    213\u001b[0m \u001b[0;34m\u001b[0m\u001b[0m\n\u001b[1;32m    214\u001b[0m     \u001b[0;34m@\u001b[0m\u001b[0mproperty\u001b[0m\u001b[0;34m\u001b[0m\u001b[0;34m\u001b[0m\u001b[0m\n",
      "\u001b[0;32m~/opt/anaconda3/lib/python3.9/site-packages/astropy/io/fits/card.py\u001b[0m in \u001b[0;36mvalue\u001b[0;34m(self)\u001b[0m\n\u001b[1;32m    284\u001b[0m             \u001b[0mvalue\u001b[0m \u001b[0;34m=\u001b[0m \u001b[0mself\u001b[0m\u001b[0;34m.\u001b[0m\u001b[0m_value\u001b[0m\u001b[0;34m\u001b[0m\u001b[0;34m\u001b[0m\u001b[0m\n\u001b[1;32m    285\u001b[0m         \u001b[0;32melif\u001b[0m \u001b[0mself\u001b[0m\u001b[0;34m.\u001b[0m\u001b[0m_valuestring\u001b[0m \u001b[0;32mis\u001b[0m \u001b[0;32mnot\u001b[0m \u001b[0;32mNone\u001b[0m \u001b[0;32mor\u001b[0m \u001b[0mself\u001b[0m\u001b[0;34m.\u001b[0m\u001b[0m_image\u001b[0m\u001b[0;34m:\u001b[0m\u001b[0;34m\u001b[0m\u001b[0;34m\u001b[0m\u001b[0m\n\u001b[0;32m--> 286\u001b[0;31m             \u001b[0mvalue\u001b[0m \u001b[0;34m=\u001b[0m \u001b[0mself\u001b[0m\u001b[0;34m.\u001b[0m\u001b[0m_value\u001b[0m \u001b[0;34m=\u001b[0m \u001b[0mself\u001b[0m\u001b[0;34m.\u001b[0m\u001b[0m_parse_value\u001b[0m\u001b[0;34m(\u001b[0m\u001b[0;34m)\u001b[0m\u001b[0;34m\u001b[0m\u001b[0;34m\u001b[0m\u001b[0m\n\u001b[0m\u001b[1;32m    287\u001b[0m         \u001b[0;32melse\u001b[0m\u001b[0;34m:\u001b[0m\u001b[0;34m\u001b[0m\u001b[0;34m\u001b[0m\u001b[0m\n\u001b[1;32m    288\u001b[0m             \u001b[0;32mif\u001b[0m \u001b[0mself\u001b[0m\u001b[0;34m.\u001b[0m\u001b[0m_keyword\u001b[0m \u001b[0;34m==\u001b[0m \u001b[0;34m''\u001b[0m\u001b[0;34m:\u001b[0m\u001b[0;34m\u001b[0m\u001b[0;34m\u001b[0m\u001b[0m\n",
      "\u001b[0;32m~/opt/anaconda3/lib/python3.9/site-packages/astropy/io/fits/card.py\u001b[0m in \u001b[0;36m_parse_value\u001b[0;34m(self)\u001b[0m\n\u001b[1;32m    730\u001b[0m             \u001b[0;32mreturn\u001b[0m \u001b[0mself\u001b[0m\u001b[0;34m.\u001b[0m\u001b[0m_value\u001b[0m\u001b[0;34m\u001b[0m\u001b[0;34m\u001b[0m\u001b[0m\n\u001b[1;32m    731\u001b[0m \u001b[0;34m\u001b[0m\u001b[0m\n\u001b[0;32m--> 732\u001b[0;31m         \u001b[0mm\u001b[0m \u001b[0;34m=\u001b[0m \u001b[0mself\u001b[0m\u001b[0;34m.\u001b[0m\u001b[0m_value_NFSC_RE\u001b[0m\u001b[0;34m.\u001b[0m\u001b[0mmatch\u001b[0m\u001b[0;34m(\u001b[0m\u001b[0mself\u001b[0m\u001b[0;34m.\u001b[0m\u001b[0m_split\u001b[0m\u001b[0;34m(\u001b[0m\u001b[0;34m)\u001b[0m\u001b[0;34m[\u001b[0m\u001b[0;36m1\u001b[0m\u001b[0;34m]\u001b[0m\u001b[0;34m)\u001b[0m\u001b[0;34m\u001b[0m\u001b[0;34m\u001b[0m\u001b[0m\n\u001b[0m\u001b[1;32m    733\u001b[0m \u001b[0;34m\u001b[0m\u001b[0m\n\u001b[1;32m    734\u001b[0m         \u001b[0;32mif\u001b[0m \u001b[0mm\u001b[0m \u001b[0;32mis\u001b[0m \u001b[0;32mNone\u001b[0m\u001b[0;34m:\u001b[0m\u001b[0;34m\u001b[0m\u001b[0;34m\u001b[0m\u001b[0m\n",
      "\u001b[0;31mKeyboardInterrupt\u001b[0m: "
     ]
    }
   ],
   "source": [
    "data_test = np.zeros(len(Cube.spectral_axis))\n",
    "\n",
    "for n in range(zoom_size):\n",
    "    \n",
    "    i = n + i_zoom\n",
    "\n",
    "    for p in range(zoom_size):\n",
    "        \n",
    "        j = p + j_zoom\n",
    "        \n",
    "        for k in range(len(Cube.spectral_axis)) :\n",
    "            \n",
    "            data_test[k] += Cube[:,n,p][k].value"
   ]
  },
  {
   "cell_type": "code",
   "execution_count": 146,
   "id": "96cefa17",
   "metadata": {},
   "outputs": [
    {
     "data": {
      "image/png": "[encoded data removed]",
      "text/plain": [
       "<Figure size 1008x576 with 1 Axes>"
      ]
     },
     "metadata": {
      "needs_background": "light"
     },
     "output_type": "display_data"
    }
   ],
   "source": [
    "import matplotlib.cm as cm\n",
    "fig = plt.figure()\n",
    "ax2 = fig.add_subplot(121)\n",
    "ax2.imshow(Image, interpolation='nearest', cmap=cm.Greys_r)\n",
    "ax2.invert_yaxis()\n",
    "\n",
    "#plt.xlim(120,130)\n",
    "#plt.ylim(120,130)"
   ]
  },
  {
   "cell_type": "markdown",
   "id": "441a0d9d",
   "metadata": {},
   "source": [
    "clean_param = bestparam\n",
    "Image_clean = Image\n",
    "\n",
    "for i in range(300,zoom_size):\n",
    "    \n",
    "    for j in range(120):\n",
    "        \n",
    "        clean_param[:, i, j] = 0.0 \n",
    "        Image_clean[i, j] = 0.0\n",
    "        "
   ]
  },
  {
   "cell_type": "code",
   "execution_count": 79,
   "id": "e68f6813",
   "metadata": {},
   "outputs": [
    {
     "data": {
      "text/plain": [
       "array([1.61903104e-02, 7.65210522e+00, 1.39641216e-01, 3.02848773e-02,\n",
       "       8.02111704e+00, 1.63434064e-01, 8.49378041e-03, 8.60662069e+00,\n",
       "       1.11868718e-01, 2.79576617e-03, 4.50098189e-02, 3.00866891e-02,\n",
       "       1.79355606e-03, 2.77473965e-02, 2.18409333e-02])"
      ]
     },
     "execution_count": 79,
     "metadata": {},
     "output_type": "execute_result"
    }
   ],
   "source": [
    "bestparam[:,445-i_zoom,449-j_zoom]"
   ]
  },
  {
   "cell_type": "code",
   "execution_count": 80,
   "id": "d35e7b43",
   "metadata": {},
   "outputs": [
    {
     "data": {
      "text/plain": [
       "121"
      ]
     },
     "execution_count": 80,
     "metadata": {},
     "output_type": "execute_result"
    }
   ],
   "source": [
    "441-i_zoom"
   ]
  },
  {
   "cell_type": "code",
   "execution_count": 81,
   "id": "a6aa4d2a",
   "metadata": {},
   "outputs": [
    {
     "data": {
      "text/plain": [
       "400"
      ]
     },
     "execution_count": 81,
     "metadata": {},
     "output_type": "execute_result"
    }
   ],
   "source": [
    "zoom_size"
   ]
  },
  {
   "cell_type": "code",
   "execution_count": 82,
   "id": "ffa62428",
   "metadata": {},
   "outputs": [
    {
     "data": {
      "image/png": "[encoded data removed]",
      "text/plain": [
       "<Figure size 1008x576 with 1 Axes>"
      ]
     },
     "metadata": {
      "needs_background": "light"
     },
     "output_type": "display_data"
    }
   ],
   "source": [
    "Cube[:,449, 445].quicklook()"
   ]
  },
  {
   "cell_type": "code",
   "execution_count": 186,
   "id": "c349e7d3",
   "metadata": {},
   "outputs": [],
   "source": [
    "Line_width_blue = bestparam[0, :, :] * np.nan\n",
    "Vel_blue = bestparam[0, :, :] * np.nan \n",
    "Amp_blue = bestparam[0, :, :] * np.nan\n",
    "width_narrow = 0.5\n",
    "vel_min = 7.7\n",
    "\n",
    "for i in range(zoom_size) : \n",
    "    \n",
    "    for j in range(zoom_size) :\n",
    "        \n",
    "            \n",
    "        if vel_min < bestparam[1, i, j] < vlsr and bestparam[2, i, j] < width_narrow :\n",
    "            \n",
    "            Line_width_blue[i, j] = bestparam[2, i, j]\n",
    "            Vel_blue[i, j] = bestparam[1, i, j]\n",
    "            Amp_blue[i, j] = bestparam[0, i, j]\n",
    "                \n",
    "        if Image[i, j] == 2.0 :\n",
    "            \n",
    "                if vel_min < bestparam[4, i, j] < vlsr and bestparam[5, i, j] < width_narrow :\n",
    "                    \n",
    "                    if (bestparam[1, i, j] < vlsr and bestparam[4, i, j] > bestparam[1, i, j]) or bestparam[1, i, j] > vlsr : \n",
    "                        \n",
    "                        Line_width_blue[i, j] = bestparam[5, i, j]\n",
    "                        Vel_blue[i, j] = bestparam[4, i, j]\n",
    "                        Amp_blue[i, j] = bestparam[3, i, j]\n",
    "                    \n",
    "        if Image[i, j] == 3.0 :\n",
    "            \n",
    "            if vel_min < bestparam[4, i, j] < vlsr and bestparam[5, i, j] < width_narrow :\n",
    "                \n",
    "                if (bestparam[1, i, j] < vlsr and bestparam[4, i, j] > bestparam[1, i, j]) or bestparam[1, i, j] > vlsr :\n",
    "                \n",
    "                    Line_width_blue[i, j] = bestparam[5, i, j]\n",
    "                    Vel_blue[i, j] = bestparam[4, i, j]\n",
    "                    Amp_blue[i, j] = bestparam[3, i, j]\n",
    "                    #Image_blue[i, j] = Image[i, j]\n",
    "                \n",
    "                    if vel_min < bestparam[7, i, j] < vlsr and bestparam[8, i, j] < width_narrow and bestparam[7, i, j] > bestparam[1, i, j] :\n",
    "                    \n",
    "                        Line_width_blue[i, j] = bestparam[8, i, j]\n",
    "                        Vel_blue[i, j] = bestparam[7, i, j]\n",
    "                        Amp_blue[i, j] = bestparam[6, i, j]\n",
    "                    \n",
    "                    overlaps +=1\n",
    "                    \n",
    "            elif vel_min < bestparam[7, i, j] < vlsr and bestparam[8, i, j] < width_narrow :\n",
    "                \n",
    "                if (bestparam[1, i, j] < vlsr and bestparam[7, i, j] > bestparam[1, i, j]) or bestparam[1, i, j] > vlsr :\n",
    "                \n",
    "                    Line_width_blue[i, j] = bestparam[8, i, j]\n",
    "                    Vel_blue[i, j] = bestparam[7, i, j]\n",
    "                    Amp_blue[i, j] = bestparam[6, i, j]\n",
    "                    #Image_blue[i, j] = Image[i, j]\n",
    "                \n",
    "                    if vel_min < bestparam[1, i, j] < vlsr and bestparam[2, i, j] < width_narrow :\n",
    "                    \n",
    "                        overlaps +=1"
   ]
  },
  {
   "cell_type": "code",
   "execution_count": 84,
   "id": "b2339cf8",
   "metadata": {},
   "outputs": [],
   "source": [
    "Line_width_blue = bestparam[0, :, :] * np.nan\n",
    "Vel_blue = bestparam[0, :, :] * np.nan \n",
    "Amp_blue = bestparam[0, :, :] * np.nan\n",
    "\n",
    "for i in range(zoom_size) : \n",
    "    \n",
    "    for j in range(zoom_size) :\n",
    "        \n",
    "            \n",
    "        if 7.7 < bestparam[1, i, j] < 8.3 :\n",
    "            \n",
    "            Line_width_blue[i, j] = bestparam[2, i, j]\n",
    "            Vel_blue[i, j] = bestparam[1, i, j]\n",
    "            Amp_blue[i, j] = bestparam[0, i, j]\n",
    "                \n",
    "        if Image[i, j] == 2.0 :\n",
    "            \n",
    "                if 7.7 < bestparam[4, i, j] < 8.4 and bestparam[4, i, j] > bestparam[1, i, j] :\n",
    "                    \n",
    "                    Line_width_blue[i, j] = bestparam[5, i, j]\n",
    "                    Vel_blue[i, j] = bestparam[4, i, j]\n",
    "                    Amp_blue[i, j] = bestparam[3, i, j]\n",
    "                    \n",
    "        if Image[i, j] == 3.0 :\n",
    "            \n",
    "                if 7.7 < bestparam[4, i, j] < 8.4 and bestparam[4, i, j] > bestparam[1, i, j] :\n",
    "                    \n",
    "                    Line_width_blue[i, j] = bestparam[5, i, j]\n",
    "                    Vel_blue[i, j] = bestparam[4, i, j]\n",
    "                    Amp_blue[i, j] = bestparam[3, i, j]\n",
    "                    \n",
    "                    if 7.7 < bestparam[7, i, j] < 8.4 and bestparam[7, i, j] > bestparam[4, i, j] :\n",
    "                        \n",
    "                        Line_width_blue[i, j] = bestparam[8, i, j]\n",
    "                        Vel_blue[i, j] = bestparam[7, i, j]\n",
    "                        Amp_blue[i, j] = bestparam[6, i, j]\n",
    "                    \n",
    "                elif 7.7 < bestparam[7, i, j] < 8.4 and bestparam[7, i, j] > bestparam[1, i, j] :\n",
    "                    \n",
    "                    Line_width_blue[i, j] = bestparam[8, i, j]\n",
    "                    Vel_blue[i, j] = bestparam[7, i, j]\n",
    "                    Amp_blue[i, j] = bestparam[6, i, j]\n",
    "                    \n",
    "                    if 7.7 < bestparam[4, i, j] < 8.4 and bestparam[4, i, j] > bestparam[7, i, j] :\n",
    "                        \n",
    "                        Line_width_blue[i, j] = bestparam[5, i, j]\n",
    "                        Vel_blue[i, j] = bestparam[4, i, j]\n",
    "                        Amp_blue[i, j] = bestparam[3, i, j]"
   ]
  },
  {
   "cell_type": "code",
   "execution_count": 188,
   "id": "0969b946",
   "metadata": {},
   "outputs": [],
   "source": [
    "Line_width_red = bestparam[0, :, :] * np.nan\n",
    "Vel_red = bestparam[0, :, :] * np.nan \n",
    "Amp_red = bestparam[0, :, :] * np.nan\n",
    "width_narrow = 0.5\n",
    "vel_max = 10.5\n",
    "\n",
    "for i in range(zoom_size) : \n",
    "    \n",
    "    for j in range(zoom_size) :\n",
    "        \n",
    "        if 10 > bestparam[1, i, j] > 8.3 and bestparam[2, i, j] < width_narrow :\n",
    "            \n",
    "            Line_width_red[i, j] = bestparam[2, i, j]\n",
    "            Vel_red[i, j] = bestparam[1, i, j]\n",
    "            Amp_red[i, j] = bestparam[0, i, j]\n",
    "            \n",
    "        if Image[i, j] == 2.0 :\n",
    "            \n",
    "            if 10 > bestparam[1, i, j] > 8.3 and bestparam[2, i, j] < width_narrow :\n",
    "                \n",
    "                if 10 > bestparam[4, i, j] > 8.3 and bestparam[2, i, j] < width_narrow and bestparam[3, i, j] > bestparam[0, i, j] :\n",
    "                    \n",
    "                    Line_width_red[i, j] = bestparam[5, i, j]\n",
    "                    Vel_red[i, j] = bestparam[4, i, j]\n",
    "                    Amp_red[i, j] = bestparam[3, i, j]\n",
    "                    \n",
    "            elif 10 > bestparam[4, i, j] > 8.3 and bestparam[2, i, j] < width_narrow :\n",
    "                \n",
    "                Line_width_red[i, j] = bestparam[5, i, j]\n",
    "                Vel_red[i, j] = bestparam[4, i, j]\n",
    "                Amp_red[i, j] = bestparam[3, i, j]\n",
    "            \n",
    "        if Image[i, j] == 3.0 :\n",
    "            \n",
    "            if 10 > bestparam[1, i, j] > 8.3 and bestparam[2, i, j] < width_narrow :\n",
    "                \n",
    "                if 10 > bestparam[4, i, j] > 8.3 and bestparam[5, i, j] < width_narrow and bestparam[3, i, j] > bestparam[0, i, j] :\n",
    "                    \n",
    "                    Line_width_red[i, j] = bestparam[5, i, j]\n",
    "                    Vel_red[i, j] = bestparam[4, i, j]\n",
    "                    Amp_red[i, j] = bestparam[3, i, j]\n",
    "                    \n",
    "                    if 10 > bestparam[7, i, j] > 8.3 and bestparam[8, i, j] < width_narrow and bestparam[6, i, j] > bestparam[3, i, j] :\n",
    "                        \n",
    "                        Line_width_red[i, j] = bestparam[8, i, j]\n",
    "                        Vel_red[i, j] = bestparam[7, i, j]\n",
    "                        Amp_red[i, j] = bestparam[6, i, j]\n",
    "                    \n",
    "                elif 10 > bestparam[7, i, j] > 8.3 and bestparam[8, i, j] < width_narrow and bestparam[6, i, j] > bestparam[0, i, j] :\n",
    "                    \n",
    "                    Line_width_red[i, j] = bestparam[8, i, j]\n",
    "                    Vel_red[i, j] = bestparam[7, i, j]\n",
    "                    Amp_red[i, j] = bestparam[6, i, j]\n",
    "                    \n",
    "            elif 10 > bestparam[4, i, j] > 8.3 and bestparam[5, i, j] < width_narrow :\n",
    "                \n",
    "                Line_width_red[i, j] = bestparam[5, i, j]\n",
    "                Vel_red[i, j] = bestparam[4, i, j]\n",
    "                Amp_red[i, j] = bestparam[3, i, j]\n",
    "                \n",
    "                if 10 > bestparam[7, i, j] > 8.3 and bestparam[8, i, j] < width_narrow and bestparam[6, i, j] > bestparam[3, i, j] :\n",
    "                        \n",
    "                        Line_width_red[i, j] = bestparam[8, i, j]\n",
    "                        Vel_red[i, j] = bestparam[7, i, j]\n",
    "                        Amp_red[i, j] = bestparam[6, i, j]\n",
    "                        \n",
    "            elif 10 > bestparam[7, i, j] > 8.3 and bestparam[8, i, j] < width_narrow:\n",
    "                \n",
    "                Line_width_red[i, j] = bestparam[8, i, j]\n",
    "                Vel_red[i, j] = bestparam[7, i, j]\n",
    "                Amp_red[i, j] = bestparam[6, i, j]\n",
    "                \n"
   ]
  },
  {
   "cell_type": "code",
   "execution_count": 170,
   "id": "f3ba063b",
   "metadata": {},
   "outputs": [],
   "source": [
    "Line_width_red = bestparam[0, :, :] * np.nan\n",
    "Vel_red = bestparam[0, :, :] * np.nan \n",
    "Amp_red = bestparam[0, :, :] * np.nan\n",
    "width_narrow = 2\n",
    "vel_max = 10.5\n",
    "\n",
    "for i in range(zoom_size) : \n",
    "    \n",
    "    for j in range(zoom_size) :\n",
    "        \n",
    "            \n",
    "        if vel_max > bestparam[1, i, j] > vlsr and bestparam[2, i, j] < width_narrow :\n",
    "            \n",
    "            Line_width_red[i, j] = bestparam[2, i, j]\n",
    "            Vel_red[i, j] = bestparam[1, i, j]\n",
    "            Amp_red[i, j] = bestparam[0, i, j]\n",
    "                \n",
    "        if Image[i, j] == 2.0 :\n",
    "            \n",
    "            if vel_max > bestparam[4, i, j] > vlsr and bestparam[5, i, j] < width_narrow :\n",
    "                    \n",
    "                if (bestparam[1, i, j] > vlsr and bestparam[4, i, j] > bestparam[1, i, j]) or bestparam[1, i, j] < vlsr : \n",
    "                        \n",
    "                    Line_width_red[i, j] = bestparam[5, i, j]\n",
    "                    Vel_red[i, j] = bestparam[4, i, j]\n",
    "                    Amp_red[i, j] = bestparam[3, i, j]\n",
    "                    \n",
    "        if Image[i, j] == 3.0 :\n",
    "            \n",
    "            if vel_max > bestparam[4, i, j] > vlsr and bestparam[5, i, j] < width_narrow :\n",
    "                \n",
    "                if (bestparam[1, i, j] > vlsr and bestparam[4, i, j] > bestparam[1, i, j]) or bestparam[1, i, j] > vlsr :\n",
    "                \n",
    "                    Line_width_red[i, j] = bestparam[5, i, j]\n",
    "                    Vel_red[i, j] = bestparam[4, i, j]\n",
    "                    Amp_red[i, j] = bestparam[3, i, j]\n",
    "                    #Image_red[i, j] = Image[i, j]\n",
    "                \n",
    "                    if vel_max > bestparam[7, i, j] > vlsr and bestparam[8, i, j] < width_narrow and bestparam[6, i, j] > bestparam[3, i, j] :\n",
    "                    \n",
    "                        Line_width_red[i, j] = bestparam[8, i, j]\n",
    "                        Vel_red[i, j] = bestparam[7, i, j]\n",
    "                        Amp_red[i, j] = bestparam[6, i, j]\n",
    "                    \n",
    "                    overlaps +=1\n",
    "                    \n",
    "            elif vel_max > bestparam[7, i, j] > vlsr and bestparam[8, i, j] < width_narrow :\n",
    "                \n",
    "                if (bestparam[1, i, j] > vlsr and bestparam[7, i, j] > bestparam[1, i, j]) or bestparam[1, i, j] > vlsr :\n",
    "                \n",
    "                    Line_width_red[i, j] = bestparam[8, i, j]\n",
    "                    Vel_red[i, j] = bestparam[7, i, j]\n",
    "                    Amp_red[i, j] = bestparam[6, i, j]\n",
    "                    #Image_red[i, j] = Image[i, j]\n",
    "                \n",
    "                    if vel_max > bestparam[1, i, j] > vlsr and bestparam[2, i, j] < width_narrow :\n",
    "                    \n",
    "                        overlaps +=1"
   ]
  },
  {
   "cell_type": "code",
   "execution_count": 184,
   "id": "133977af",
   "metadata": {},
   "outputs": [],
   "source": [
    "Line_width_other = bestparam[0, :, :] * np.nan\n",
    "Vel_other = bestparam[0, :, :] * np.nan \n",
    "Amp_other = bestparam[0, :, :] * np.nan\n",
    "width_narrow = 0.4\n",
    "vel_max = 10.5\n",
    "\n",
    "for i in range(zoom_size) : \n",
    "    \n",
    "    for j in range(zoom_size) :\n",
    "        \n",
    "        if 10 > bestparam[1, i, j] > 8.3 and bestparam[2, i, j] > width_narrow :\n",
    "            \n",
    "            Line_width_other[i, j] = bestparam[2, i, j]\n",
    "            Vel_other[i, j] = bestparam[1, i, j]\n",
    "            Amp_other[i, j] = bestparam[0, i, j]\n",
    "            \n",
    "        if Image[i, j] == 2.0 :\n",
    "            \n",
    "            if 10 > bestparam[1, i, j] > 8.3 and bestparam[2, i, j] > width_narrow :\n",
    "                \n",
    "                if 10 > bestparam[4, i, j] > 8.3 and bestparam[2, i, j] > width_narrow and bestparam[3, i, j] > bestparam[0, i, j] :\n",
    "                    \n",
    "                    Line_width_other[i, j] = bestparam[5, i, j]\n",
    "                    Vel_other[i, j] = bestparam[4, i, j]\n",
    "                    Amp_other[i, j] = bestparam[3, i, j]\n",
    "                    \n",
    "            elif 10 > bestparam[4, i, j] > 8.3 and bestparam[2, i, j] > width_narrow :\n",
    "                \n",
    "                Line_width_other[i, j] = bestparam[5, i, j]\n",
    "                Vel_other[i, j] = bestparam[4, i, j]\n",
    "                Amp_other[i, j] = bestparam[3, i, j]\n",
    "            \n",
    "        if Image[i, j] == 3.0 :\n",
    "            \n",
    "            if 10 > bestparam[1, i, j] > 8.3 and bestparam[2, i, j] > width_narrow :\n",
    "                \n",
    "                if 10 > bestparam[4, i, j] > 8.3 and bestparam[5, i, j] > width_narrow and bestparam[3, i, j] > bestparam[0, i, j] :\n",
    "                    \n",
    "                    Line_width_other[i, j] = bestparam[5, i, j]\n",
    "                    Vel_other[i, j] = bestparam[4, i, j]\n",
    "                    Amp_other[i, j] = bestparam[3, i, j]\n",
    "                    \n",
    "                    if 10 > bestparam[7, i, j] > 8.3 and bestparam[8, i, j] > width_narrow and bestparam[6, i, j] > bestparam[3, i, j] :\n",
    "                        \n",
    "                        Line_width_other[i, j] = bestparam[8, i, j]\n",
    "                        Vel_other[i, j] = bestparam[7, i, j]\n",
    "                        Amp_other[i, j] = bestparam[6, i, j]\n",
    "                    \n",
    "                elif 10 > bestparam[7, i, j] > 8.3 and bestparam[8, i, j] > width_narrow and bestparam[6, i, j] > bestparam[0, i, j] :\n",
    "                    \n",
    "                    Line_width_other[i, j] = bestparam[8, i, j]\n",
    "                    Vel_other[i, j] = bestparam[7, i, j]\n",
    "                    Amp_other[i, j] = bestparam[6, i, j]\n",
    "                    \n",
    "            elif 10 > bestparam[4, i, j] > 8.3 and bestparam[5, i, j] > width_narrow :\n",
    "                \n",
    "                Line_width_other[i, j] = bestparam[5, i, j]\n",
    "                Vel_other[i, j] = bestparam[4, i, j]\n",
    "                Amp_other[i, j] = bestparam[3, i, j]\n",
    "                \n",
    "                if 10 > bestparam[7, i, j] > 8.3 and bestparam[8, i, j] > width_narrow and bestparam[6, i, j] > bestparam[3, i, j] :\n",
    "                        \n",
    "                        Line_width_other[i, j] = bestparam[8, i, j]\n",
    "                        Vel_other[i, j] = bestparam[7, i, j]\n",
    "                        Amp_other[i, j] = bestparam[6, i, j]\n",
    "                        \n",
    "            elif 10 > bestparam[7, i, j] > 8.3 and bestparam[8, i, j] > width_narrow:\n",
    "                \n",
    "                Line_width_other[i, j] = bestparam[8, i, j]\n",
    "                Vel_other[i, j] = bestparam[7, i, j]\n",
    "                Amp_other[i, j] = bestparam[6, i, j]\n",
    "                \n"
   ]
  },
  {
   "cell_type": "code",
   "execution_count": 191,
   "id": "68020a09",
   "metadata": {},
   "outputs": [],
   "source": [
    "Line_width_other = bestparam[0, :, :] * np.nan\n",
    "Vel_other = bestparam[0, :, :] * np.nan \n",
    "Amp_other = bestparam[0, :, :] * np.nan\n",
    "\n",
    "for i in range(zoom_size) : \n",
    "    \n",
    "    for j in range(zoom_size) :\n",
    "        \n",
    "        if 7 < bestparam[1, i, j] < 7.7 :\n",
    "            \n",
    "            Line_width_other[i, j] = bestparam[2, i, j]\n",
    "            Vel_other[i, j] = bestparam[1, i, j]\n",
    "            Amp_other[i, j] = bestparam[0, i, j]\n",
    "            \n",
    "        if Image[i, j] == 2.0 :\n",
    "            \n",
    "            if 7 < bestparam[4, i, j] < 7.7 and bestparam[3, i, j] > bestparam[0, i, j] :\n",
    "                    \n",
    "                Line_width_other[i, j] = bestparam[5, i, j]\n",
    "                Vel_other[i, j] = bestparam[4, i, j]\n",
    "                Amp_other[i, j] = bestparam[3, i, j]\n",
    "                    \n",
    "        if Image[i, j] == 3.0 :\n",
    "            \n",
    "                if 7 < bestparam[4, i, j] < 7.7 and bestparam[3, i, j] > bestparam[0, i, j] :\n",
    "                    \n",
    "                    Line_width_other[i, j] = bestparam[5, i, j]\n",
    "                    Vel_other[i, j] = bestparam[4, i, j]\n",
    "                    Amp_other[i, j] = bestparam[3, i, j]\n",
    "                    \n",
    "                    if 7 < bestparam[7, i, j] < 7.7 and bestparam[6, i, j] > bestparam[3, i, j] :\n",
    "                        \n",
    "                        Line_width_other[i, j] = bestparam[8, i, j]\n",
    "                        Vel_other[i, j] = bestparam[7, i, j]\n",
    "                        Amp_other[i, j] = bestparam[6, i, j]\n",
    "                    \n",
    "                elif 7 < bestparam[7, i, j] < 7.7 and bestparam[6, i, j] > bestparam[0, i, j] :\n",
    "                    \n",
    "                    Line_width_other[i, j] = bestparam[8, i, j]\n",
    "                    Vel_other[i, j] = bestparam[7, i, j]\n",
    "                    Amp_other[i, j] = bestparam[6, i, j]\n",
    "                    "
   ]
  },
  {
   "cell_type": "code",
   "execution_count": 88,
   "id": "28ec9225",
   "metadata": {},
   "outputs": [
    {
     "data": {
      "text/plain": [
       "' \\n            if (8.8 > bestparam[4, i, j] > 8.4) :#and (bestparam[5, i, j] < 1) :\\n                    \\n                    Line_width_red[i, j] = bestparam[5, i, j]\\n                    Vel_red[i, j] = bestparam[4, i, j]\\n                    Amp_red[i, j] = bestparam[3, i, j]\\n                    \\n                    if 7.8 < bestparam[1, i, j] < 8.35:\\n                        \\n                        Line_width_blue[i, j] = bestparam[2, i, j]\\n                        Vel_blue[i, j] = bestparam[1, i, j]\\n                        Amp_blue[i, j] = bestparam[0, i, j]\\n                    \\n            elif (7.8 < bestparam[4, i, j] < 8.35) :\\n                \\n                    Line_width_blue[i, j] = bestparam[5, i, j]\\n                    Vel_blue[i, j] = bestparam[4, i, j]\\n                    Amp_blue[i, j] = bestparam[3, i, j]\\n                    \\n                    if (8.8 > bestparam[1, i, j] > 8.4) :\\n                        \\n                        Line_width_red[i, j] = bestparam[2, i, j]\\n                        Vel_red[i, j] = bestparam[1, i, j]\\n                        Amp_red[i, j] = bestparam[0, i, j]\\n                \\n        if Image[i, j] == 3.0 :\\n            \\n            if (10 > bestparam[7, i, j] > 8.4) :\\n                    \\n                    Line_width_red[i, j] = bestparam[8, i, j]\\n                    Vel_red[i, j] = bestparam[7, i, j]\\n                    Amp_red[i, j] = bestparam[6, i, j]\\n                    \\n                    if 10 > bestparam[1, i, j] > 8.4 or 10 > bestparam[4, i, j] > 8.4:\\n                        \\n                        overlaps += 1\\n                    \\n            elif (7.5 < bestparam[7, i, j] < 8.4) :\\n                \\n                    Line_width_blue[i, j] = bestparam[8, i, j]\\n                    Vel_blue[i, j] = bestparam[7, i, j]\\n                    Amp_blue[i, j] = bestparam[6, i, j]\\n                    \\n                    if 7.5 < bestparam[1, i, j] < 8.4 or 7.5 < bestparam[4, i, j] < 8.4 :\\n                        \\n                        overlaps += 1\\n\\nprint(\"overlaps are: {0}\".format(overlaps))\\n\\n            elif 10 > bestparam[i][j][4] > 8.4 :\\n                \\n                Line_width_red[i][j] = bestparam[i][j][5]\\n                Vel_red[i][j] = bestparam[i][j][4]\\n                Amp_red[i][j] = bestparam[i][j][3]\\n            \\n                if 7.5 < bestparam[i][j][1] < 8.4 :\\n                \\n                    Line_width_blue[i][j] = bestparam[i][j][2]\\n                    Vel_blue[i][j] = bestparam[i][j][1]\\n                    Amp_blue[i][j] = bestparam[i][j][0]\\n                    \\n                else : \\n            \\n                    Line_width_blue[i][j] = np.nan\\n                    Vel_blue[i][j] = np.nan\\n                    Amp_blue[i][j] = np.nan\\n                \\n            elif 7.5 < bestparam[i][j][4] < 8.4 :\\n                \\n                Line_width_blue[i][j] = bestparam[i][j][5]\\n                Vel_blue[i][j] = bestparam[i][j][4]\\n                Amp_blue[i][j] = bestparam[i][j][3]\\n                \\n                if 10 > bestparam[i][j][1] > 8.4 :\\n                    \\n                    Line_width_red[i][j] = bestparam[i][j][2]\\n                    Vel_red[i][j] = bestparam[i][j][1]\\n                    Amp_red[i][j] = bestparam[i][j][0]\\n                \\n                else : \\n            \\n                    Line_width_red[i][j] = np.nan\\n                    Vel_red[i][j] = np.nan\\n                    Amp_red[i][j] = np.nan\\n                \\n###\\n'"
      ]
     },
     "execution_count": 88,
     "metadata": {},
     "output_type": "execute_result"
    }
   ],
   "source": [
    "Line_width_red = bestparam[0, :, :] * np.nan #[[[] for j in range(len(bestparam))] for i in range(len(bestparam))]\n",
    "Line_width_blue = bestparam[0, :, :] * np.nan #[[[] for j in range(len(bestparam))] for i in range(len(bestparam))]\n",
    "Vel_blue = bestparam[0, :, :] * np.nan #[[[] for j in range(len(bestparam))] for i in range(len(bestparam))]\n",
    "Vel_red = bestparam[0, :, :] * np.nan #[[[] for j in range(len(bestparam))] for i in range(len(bestparam))]\n",
    "Amp_red = bestparam[0, :, :] * np.nan #[[[] for j in range(len(bestparam))] for i in range(len(bestparam))]\n",
    "Amp_blue = bestparam[0, :, :] * np.nan #[[[] for j in range(len(bestparam))] for i in range(len(bestparam))]\n",
    "\n",
    "overlaps = 0\n",
    "\n",
    "for i in range(zoom_size) : \n",
    "    \n",
    "    for j in range(zoom_size) :\n",
    "        \n",
    "#        if Image[i, j] == 1.0 :\n",
    "            \n",
    "        if 7.5 < bestparam[1, i, j] < 8.4 :\n",
    "            \n",
    "            Line_width_blue[i, j] = bestparam[2, i, j]\n",
    "            Vel_blue[i, j] = bestparam[1, i, j]\n",
    "            Amp_blue[i, j] = bestparam[0, i, j]\n",
    "            \n",
    "        elif 9 > bestparam[1, i, j] > 8.4 : \n",
    "                \n",
    "            Line_width_red[i, j] = bestparam[2, i, j]\n",
    "            Vel_red[i, j] = bestparam[1, i, j]\n",
    "            Amp_red[i, j] = bestparam[0, i, j]\n",
    "                \n",
    "        if Image[i, j] == 2.0 :\n",
    "            \n",
    "            if 7.5 < bestparam[1, i, j] < 8.4 :\n",
    "            \n",
    "                Line_width_blue[i, j] = bestparam[2, i, j]\n",
    "                Vel_blue[i, j] = bestparam[1, i, j]\n",
    "                Amp_blue[i, j] = bestparam[0, i, j]\n",
    "            \n",
    "                if 9 > bestparam[4, i, j] > 8.4 :\n",
    "                    \n",
    "                    Line_width_red[i, j] = bestparam[5, i, j]\n",
    "                    Vel_red[i, j] = bestparam[4, i, j]\n",
    "                    Amp_red[i, j] = bestparam[3, i, j]\n",
    "            \n",
    "            elif 9 > bestparam[4, i, j] > 8.4 :\n",
    "                \n",
    "                Line_width_red[i, j] = bestparam[5, i, j]\n",
    "                Vel_red[i, j] = bestparam[4, i, j]\n",
    "                Amp_red[i, j] = bestparam[3, i, j]\n",
    "            \n",
    "                if 7.5 < bestparam[1, i, j] < 8.4 :\n",
    "                \n",
    "                    Line_width_blue[i, j] = bestparam[2, i, j]\n",
    "                    Vel_blue[i, j] = bestparam[1, i, j]\n",
    "                    Amp_blue[i, j] = bestparam[0, i, j]\n",
    "                    \n",
    "                \n",
    "            elif 7.5 < bestparam[4, i, j] < 8.4 :\n",
    "                \n",
    "                Line_width_blue[i, j] = bestparam[5, i, j]\n",
    "                Vel_blue[i, j] = bestparam[4, i, j]\n",
    "                Amp_blue[i, j] = bestparam[3, i, j]\n",
    "                \n",
    "                if 9 > bestparam[1, i, j] > 8.4 :\n",
    "                    \n",
    "                    Line_width_red[i, j] = bestparam[2, i, j]\n",
    "                    Vel_red[i, j] = bestparam[1, i, j]\n",
    "                    Amp_red[i, j] = bestparam[0, i, j]\n",
    "            \n",
    "            \n",
    "            \n",
    "\"\"\" \n",
    "            if (8.8 > bestparam[4, i, j] > 8.4) :#and (bestparam[5, i, j] < 1) :\n",
    "                    \n",
    "                    Line_width_red[i, j] = bestparam[5, i, j]\n",
    "                    Vel_red[i, j] = bestparam[4, i, j]\n",
    "                    Amp_red[i, j] = bestparam[3, i, j]\n",
    "                    \n",
    "                    if 7.8 < bestparam[1, i, j] < 8.35:\n",
    "                        \n",
    "                        Line_width_blue[i, j] = bestparam[2, i, j]\n",
    "                        Vel_blue[i, j] = bestparam[1, i, j]\n",
    "                        Amp_blue[i, j] = bestparam[0, i, j]\n",
    "                    \n",
    "            elif (7.8 < bestparam[4, i, j] < 8.35) :\n",
    "                \n",
    "                    Line_width_blue[i, j] = bestparam[5, i, j]\n",
    "                    Vel_blue[i, j] = bestparam[4, i, j]\n",
    "                    Amp_blue[i, j] = bestparam[3, i, j]\n",
    "                    \n",
    "                    if (8.8 > bestparam[1, i, j] > 8.4) :\n",
    "                        \n",
    "                        Line_width_red[i, j] = bestparam[2, i, j]\n",
    "                        Vel_red[i, j] = bestparam[1, i, j]\n",
    "                        Amp_red[i, j] = bestparam[0, i, j]\n",
    "                \n",
    "        if Image[i, j] == 3.0 :\n",
    "            \n",
    "            if (10 > bestparam[7, i, j] > 8.4) :\n",
    "                    \n",
    "                    Line_width_red[i, j] = bestparam[8, i, j]\n",
    "                    Vel_red[i, j] = bestparam[7, i, j]\n",
    "                    Amp_red[i, j] = bestparam[6, i, j]\n",
    "                    \n",
    "                    if 10 > bestparam[1, i, j] > 8.4 or 10 > bestparam[4, i, j] > 8.4:\n",
    "                        \n",
    "                        overlaps += 1\n",
    "                    \n",
    "            elif (7.5 < bestparam[7, i, j] < 8.4) :\n",
    "                \n",
    "                    Line_width_blue[i, j] = bestparam[8, i, j]\n",
    "                    Vel_blue[i, j] = bestparam[7, i, j]\n",
    "                    Amp_blue[i, j] = bestparam[6, i, j]\n",
    "                    \n",
    "                    if 7.5 < bestparam[1, i, j] < 8.4 or 7.5 < bestparam[4, i, j] < 8.4 :\n",
    "                        \n",
    "                        overlaps += 1\n",
    "\n",
    "print(\"overlaps are: {0}\".format(overlaps))\n",
    "\n",
    "            elif 10 > bestparam[i][j][4] > 8.4 :\n",
    "                \n",
    "                Line_width_red[i][j] = bestparam[i][j][5]\n",
    "                Vel_red[i][j] = bestparam[i][j][4]\n",
    "                Amp_red[i][j] = bestparam[i][j][3]\n",
    "            \n",
    "                if 7.5 < bestparam[i][j][1] < 8.4 :\n",
    "                \n",
    "                    Line_width_blue[i][j] = bestparam[i][j][2]\n",
    "                    Vel_blue[i][j] = bestparam[i][j][1]\n",
    "                    Amp_blue[i][j] = bestparam[i][j][0]\n",
    "                    \n",
    "                else : \n",
    "            \n",
    "                    Line_width_blue[i][j] = np.nan\n",
    "                    Vel_blue[i][j] = np.nan\n",
    "                    Amp_blue[i][j] = np.nan\n",
    "                \n",
    "            elif 7.5 < bestparam[i][j][4] < 8.4 :\n",
    "                \n",
    "                Line_width_blue[i][j] = bestparam[i][j][5]\n",
    "                Vel_blue[i][j] = bestparam[i][j][4]\n",
    "                Amp_blue[i][j] = bestparam[i][j][3]\n",
    "                \n",
    "                if 10 > bestparam[i][j][1] > 8.4 :\n",
    "                    \n",
    "                    Line_width_red[i][j] = bestparam[i][j][2]\n",
    "                    Vel_red[i][j] = bestparam[i][j][1]\n",
    "                    Amp_red[i][j] = bestparam[i][j][0]\n",
    "                \n",
    "                else : \n",
    "            \n",
    "                    Line_width_red[i][j] = np.nan\n",
    "                    Vel_red[i][j] = np.nan\n",
    "                    Amp_red[i][j] = np.nan\n",
    "                \n",
    "###\n",
    "\"\"\""
   ]
  },
  {
   "cell_type": "code",
   "execution_count": 89,
   "id": "2278b71a",
   "metadata": {},
   "outputs": [],
   "source": [
    "file_dv_C18O_width_red = 'Documents/C18O/B335_C18O_vlsr_5snr_width_red.fits'\n",
    "file_dv_C18O_width_blue = 'Documents/C18O/B335_C18O_vlsr_5snr_width_blue.fits'\n",
    "file_vc_C18O_vlsr_red = 'Documents/C18O/B335_C18O_vlsr_5snr_vel_red.fits'\n",
    "file_vc_C18O_vlsr_blue = 'Documents/C18O/B335_C18O_vlsr_5snr_vel_blue.fits'\n",
    "file_vc_C18O_vlsr_very_blue = 'Documents/C18O/B335_C18O_vlsr_5snr_vel_very_blue.fits'\n",
    "file_dv_C18O_width_very_blue = 'Documents/C18O/B335_C18O_vlsr_5snr_width_very_blue.fits'"
   ]
  },
  {
   "cell_type": "code",
   "execution_count": 192,
   "id": "6cc0223a",
   "metadata": {},
   "outputs": [],
   "source": [
    "file_par = 'Documents/C18O/Spec_C18O_fit_5snr_2comp copie.fits'\n",
    "data, hd = fits.getdata(file_par, header=True)\n",
    "hd_2d = hd.copy()\n",
    "key_list = ['NAXIS3', 'CRPIX3', 'SPECSYS', 'CDELT3', 'CUNIT3', 'CTYPE3', 'CRVAL3']\n",
    "for key_i in key_list:\n",
    "    hd_2d.remove(key_i)\n",
    "hd_2d['NAXIS'] = 2\n",
    "hd_2d['WCSAXES'] = 2\n",
    "hd_2d['BITPIX'] = 8\n",
    "hd_2d['BUNIT'] = 'km/s'\n",
    "\n",
    "data[:,:,:] = 0.0\n",
    "\n",
    "snr_min = 3.\n",
    "\n",
    "for n in range(zoom_size) : \n",
    "    \n",
    "    i = n + i_zoom\n",
    "    \n",
    "    for p in range(zoom_size) :\n",
    "        \n",
    "        j = p + j_zoom\n",
    "        \n",
    "        if Amp_blue[n, p] > snr_min * rms :#and Line_width_blue[n, p] < 0.5 :   \n",
    "            \n",
    "            data[5, i, j] = np.abs(Line_width_blue[n, p])\n",
    "            data[4, i, j] = Vel_blue[n, p]\n",
    "        \n",
    "        if Amp_red[n, p] > snr_min * rms :#and Line_width_red[n, p] < 0.5 : \n",
    "            \n",
    "            data[2, i, j] = np.abs(Line_width_red[n, p])\n",
    "            data[1, i, j] = Vel_red[n, p]\n",
    "            \n",
    "        if Amp_other[n, p] > snr_min * rms :#and Vel_other[n, p] < 7.4 :#and Line_width_other[n, p] < 0.5 : \n",
    "            \n",
    "            data[8, i, j] = np.abs(Line_width_other[n, p])\n",
    "            data[7, i, j] = Vel_other[n, p]\n",
    "        \n",
    "fits.writeto(file_dv_C18O_width_red, np.squeeze(data[2,:,:]), hd_2d, overwrite=True)\n",
    "fits.writeto(file_dv_C18O_width_blue, np.squeeze(data[5,:,:]), hd_2d, overwrite=True)\n",
    "fits.writeto(file_vc_C18O_vlsr_red, np.squeeze(data[1,:,:]), hd_2d, overwrite=True)\n",
    "fits.writeto(file_vc_C18O_vlsr_blue, np.squeeze(data[4,:,:]), hd_2d, overwrite=True)\n",
    "\n",
    "fits.writeto(file_dv_C18O_width_very_blue, np.squeeze(data[8,:,:]), hd_2d, overwrite=True)\n",
    "fits.writeto(file_vc_C18O_vlsr_very_blue, np.squeeze(data[7,:,:]), hd_2d, overwrite=True)"
   ]
  },
  {
   "cell_type": "code",
   "execution_count": 91,
   "id": "b45470bb",
   "metadata": {},
   "outputs": [],
   "source": [
    "bad = Vel_other == 0.0\n",
    "\n",
    "Vel_other[bad] = np.nan"
   ]
  },
  {
   "cell_type": "code",
   "execution_count": 193,
   "id": "fa08333a",
   "metadata": {},
   "outputs": [
    {
     "data": {
      "image/png": "[encoded data removed]",
      "text/plain": [
       "<Figure size 1008x576 with 1 Axes>"
      ]
     },
     "metadata": {
      "needs_background": "light"
     },
     "output_type": "display_data"
    }
   ],
   "source": [
    "import matplotlib.cm as cm\n",
    "from mpl_toolkits.axes_grid1 import make_axes_locatable\n",
    "\n",
    "fig = plt.figure()\n",
    "ax2 = fig.add_subplot(122)\n",
    "ax2.imshow(Vel_other, interpolation='nearest', cmap=cm.RdYlBu_r)\n",
    "ax2.invert_yaxis()\n",
    "#plt.ylim(135,150)\n",
    "#plt.xlim(135, 150)\n"
   ]
  },
  {
   "cell_type": "code",
   "execution_count": null,
   "id": "ecadf3cb",
   "metadata": {},
   "outputs": [],
   "source": []
  },
  {
   "cell_type": "code",
   "execution_count": null,
   "id": "81199469",
   "metadata": {},
   "outputs": [],
   "source": []
  },
  {
   "cell_type": "code",
   "execution_count": null,
   "id": "a92a3a6c",
   "metadata": {},
   "outputs": [],
   "source": []
  }
 ],
 "metadata": {
  "kernelspec": {
   "display_name": "Python 3 (ipykernel)",
   "language": "python",
   "name": "python3"
  },
  "language_info": {
   "codemirror_mode": {
    "name": "ipython",
    "version": 3
   },
   "file_extension": ".py",
   "mimetype": "text/x-python",
   "name": "python",
   "nbconvert_exporter": "python",
   "pygments_lexer": "ipython3",
   "version": "3.9.7"
  }
 },
 "nbformat": 4,
 "nbformat_minor": 5
}
