{
 "cells": [
  {
   "cell_type": "code",
   "execution_count": 220,
   "id": "52da9114",
   "metadata": {},
   "outputs": [],
   "source": [
    "import matplotlib.pyplot as plt\n",
    "import numpy as np\n",
    "import pylab as pl\n",
    "import astropy as py\n",
    "import pyspeckit\n",
    "import astropy.units as u\n",
    "import pandas as pd\n",
    "\n",
    "from iminuit.cost import LeastSquares\n",
    "from iminuit import Minuit\n",
    "\n",
    "from astropy.io import fits\n",
    "from astropy.coordinates import SkyCoord\n",
    "from astropy.modeling.models import custom_model\n",
    "from astropy.modeling.fitting import LevMarLSQFitter\n",
    "from astropy import constants\n",
    "from astropy.wcs import WCS\n",
    "from astropy.nddata.utils import Cutout2D\n",
    "from astropy.stats import akaike_info_criterion\n",
    "\n",
    "from scipy import constants as const\n",
    "from scipy import optimize\n",
    "from scipy.stats import chisquare\n",
    "from scipy.stats import norm\n",
    "from scipy.stats import gaussian_kde\n",
    "\n",
    "from RegscorePy.aic import aic\n",
    "\n",
    "from spectral_cube import SpectralCube\n",
    "\n",
    "from pvextractor import extract_pv_slice, Path, PathFromCenter\n",
    "\n",
    "from pyspeckit.cubes.mapplot import MapPlotter\n",
    "\n",
    "%matplotlib inline\n",
    "plt.rcParams[\"figure.figsize\"] = (14,8)\n",
    "plt.rcParams[\"axes.labelsize\"] = 'xx-large'\n",
    "plt.rcParams['axes.titlesize'] = 'xx-large'\n",
    "plt.rcParams['xtick.labelsize'] = 'xx-large'\n",
    "plt.rcParams['ytick.labelsize'] = 'xx-large'\n",
    "plt.rcParams.update({\"text.usetex\": False,\n",
    "                     \"font.family\": \"serif\",\n",
    "                     'xtick.direction': 'out',\n",
    "                     'ytick.direction': 'in'})\n",
    "\n",
    "my_figsize = (5, 5)"
   ]
  },
  {
   "cell_type": "code",
   "execution_count": 221,
   "id": "6d943778",
   "metadata": {},
   "outputs": [],
   "source": [
    "rms = 0.000742\n",
    "\n",
    "vlsr = 8.3"
   ]
  },
  {
   "cell_type": "markdown",
   "id": "0f0e7935",
   "metadata": {},
   "source": [
    "# Gaussian"
   ]
  },
  {
   "cell_type": "code",
   "execution_count": 222,
   "id": "1d78dea4",
   "metadata": {},
   "outputs": [],
   "source": [
    "def Gaussian(x, A, mu, width):\n",
    "    return A*np.exp(-(x-mu)**2/(2.0*width**2))"
   ]
  },
  {
   "cell_type": "code",
   "execution_count": 223,
   "id": "0aa6668c",
   "metadata": {},
   "outputs": [],
   "source": [
    "def Gaussian_2comp(x, A1, mu1, width1, A2, mu2, width2):\n",
    "    return A1*np.exp(-(x-mu1)**2/(2.0*width1**2)) + A2*np.exp(-(x-mu2)**2/(2.0*width2**2))"
   ]
  },
  {
   "cell_type": "code",
   "execution_count": 224,
   "id": "8e6869b7",
   "metadata": {},
   "outputs": [],
   "source": [
    "def Gaussian_3comp(x, A1, mu1, width1, A2, mu2, width2, A3, mu3, width3):\n",
    "    return A1*np.exp(-(x-mu1)**2/(2.0*width1**2)) + A2*np.exp(-(x-mu2)**2/(2.0*width2**2)) + A3*np.exp(-(x-mu3)**2/(2.0*width3**2))"
   ]
  },
  {
   "cell_type": "markdown",
   "id": "e056fdbc",
   "metadata": {},
   "source": [
    "# Load Cube"
   ]
  },
  {
   "cell_type": "code",
   "execution_count": 225,
   "id": "299277b8",
   "metadata": {},
   "outputs": [],
   "source": [
    "#file_cube = 'Documents/H13CO/B335_Combine_H13COp_32_rob05_2sigma_self_clean.fits'\n",
    "file_cube = 'Documents/SO/B335_SO_medsub.fits'\n",
    "\n",
    "#freq_line = rest_freq = 260.25533900 * u.GHz\n",
    "freq_line = rest_freq = 261.84368400 * u.GHz\n",
    "\n",
    "Cube = SpectralCube.read(file_cube).with_spectral_unit(u.km/u.s, velocity_convention='radio', \n",
    "                                                  rest_value=rest_freq)"
   ]
  },
  {
   "cell_type": "code",
   "execution_count": 226,
   "id": "82817635",
   "metadata": {},
   "outputs": [],
   "source": [
    "def load_myCube( file_in):\n",
    "    cube = pyspeckit.Cube(file_in)\n",
    "    cube.xarr.refX = freq_line\n",
    "    cube.xarr.velocity_convention = 'radio'\n",
    "    cube.xarr.convert_to_unit('km/s')\n",
    "    return cube"
   ]
  },
  {
   "cell_type": "code",
   "execution_count": 227,
   "id": "a556c213",
   "metadata": {},
   "outputs": [],
   "source": [
    "cube = load_myCube(file_cube)"
   ]
  },
  {
   "cell_type": "code",
   "execution_count": 228,
   "id": "34d96ff3",
   "metadata": {},
   "outputs": [
    {
     "data": {
      "text/plain": [
       "SIMPLE  =                    T / conforms to FITS standard                      \n",
       "BITPIX  =                  -32 / array data type                                \n",
       "NAXIS   =                    3                                                  \n",
       "NAXIS1  =                 1200                                                  \n",
       "NAXIS2  =                 1200                                                  \n",
       "NAXIS3  =                  170                                                  \n",
       "BMAJ    =   3.444986264573E-05                                                  \n",
       "BMIN    =   2.573787215642E-05                                                  \n",
       "BPA     =  -5.980397630356E+01                                                  \n",
       "BTYPE   = 'Intensity'                                                           \n",
       "OBJECT  = 'B335    '                                                            \n",
       "BUNIT   = 'beam-1 Jy'          / Brightness (pixel) unit                        \n",
       "ALTRVAL =   2.365999999998E+04 /Alternate frequency reference value             \n",
       "ALTRPIX =   1.000000000000E+00 /Alternate frequency reference pixel             \n",
       "VELREF  =                  257 /1 LSR, 2 HEL, 3 OBS, +256 Radio                 \n",
       "COMMENT casacore non-standard usage: 4 LSD, 5 GEO, 6 SOU, 7 GAL                 \n",
       "COMMENT Original Unit=Hz                                                        \n",
       "COMMENT Original Type=FREQ                                                      \n",
       "TELESCOP= 'ALMA    '                                                            \n",
       "OBSERVER= 'nsakai  '                                                            \n",
       "OBSRA   =   2.942538750000E+02                                                  \n",
       "OBSDEC  =   7.569416666667E+00                                                  \n",
       "INSTRUME= 'ALMA    '                                                            \n",
       "DISTANCE=   0.000000000000E+00                                                  \n",
       "MPIPROCS=                   10                                                  \n",
       "CHNCHNKS=                    1                                                  \n",
       "MEMREQ  =        2.6264191E+02                                                  \n",
       "MEMAVAIL=        7.9823151E+02                                                  \n",
       "USEWEIGH=                    T                                                  \n",
       "DATE    = '2022-04-08T11:22:42.138895' /Date FITS file was written              \n",
       "ORIGIN  = 'CASA 6.4.0-16 CASAtools:v1.0.0'                                      \n",
       "BEAM    = 'Beam: BMAJ=0.12401950552462798 arcsec BMIN=0.092656339763112 &'      \n",
       "CONTINUE  'arcsec BPA=-59.80397630356 deg'                                      \n",
       "WCSAXES =                    3 / Number of coordinate axes                      \n",
       "CRPIX1  =                601.0 / Pixel coordinate of reference point            \n",
       "CRPIX2  =                601.0 / Pixel coordinate of reference point            \n",
       "CRPIX3  =                  1.0 / Pixel coordinate of reference point            \n",
       "CDELT1  =  -8.333333333333E-06 / [deg] Coordinate increment at reference point  \n",
       "CDELT2  =   8.333333333333E-06 / [deg] Coordinate increment at reference point  \n",
       "CDELT3  =    -0.13999999997969 / [m/s] Coordinate increment at reference point  \n",
       "CUNIT1  = 'deg'                / Units of coordinate increment and value        \n",
       "CUNIT2  = 'deg'                / Units of coordinate increment and value        \n",
       "CUNIT3  = 'km s-1  '           / Units of coordinate increment and value        \n",
       "CTYPE1  = 'RA---SIN'           / Right ascension, orthographic/synthesis project\n",
       "CTYPE2  = 'DEC--SIN'           / Declination, orthographic/synthesis projection \n",
       "CTYPE3  = 'VRAD'               / Radio velocity (linear)                        \n",
       "CRVAL1  =           294.253875 / [deg] Coordinate value at reference point      \n",
       "CRVAL2  =       7.569416666667 / [deg] Coordinate value at reference point      \n",
       "CRVAL3  =        23.6600000531 / [m/s] Coordinate value at reference point      \n",
       "PV2_1   =                  0.0 / SIN projection parameter                       \n",
       "PV2_2   =                  0.0 / SIN projection parameter                       \n",
       "LONPOLE =                180.0 / [deg] Native longitude of celestial pole       \n",
       "LATPOLE =       7.569416666667 / [deg] Native latitude of celestial pole        \n",
       "RESTFRQ =       261843684000.0 / [Hz] Line rest frequency                       \n",
       "TIMESYS = 'UTC'                / Time scale                                     \n",
       "MJDREF  =                  0.0 / [d] MJD of fiducial time                       \n",
       "DATE-OBS= '2015-05-18T07:41:30.720000' / ISO-8601 time of observation           \n",
       "MJD-OBS =      57160.320494444 / [d] MJD of observation                         \n",
       "OBSGEO-X=       2225142.180269 / [m] observatory X-coordinate                   \n",
       "OBSGEO-Y=      -5440307.370349 / [m] observatory Y-coordinate                   \n",
       "OBSGEO-Z=      -2481029.851874 / [m] observatory Z-coordinate                   \n",
       "RADESYS = 'FK5'                / Equatorial coordinate system                   \n",
       "EQUINOX =               2000.0 / [yr] Equinox of equatorial coordinates         \n",
       "SPECSYS = 'LSRK'               / Reference frame of spectral coordinates        \n",
       "HISTORY CASA START LOGTABLE                                                     \n",
       "HISTORY 2022-04-07T11:23:21 INFO SRCCODE='::tclean'                             \n",
       "HISTORY taskname=tclean                                                         \n",
       "HISTORY 2022-04-07T11:23:21 INFO SRCCODE='::tclean'                             \n",
       "HISTORY version: 6.4.0-16 CASAtools:v1.0.0                                      \n",
       "HISTORY 2022-04-07T11:23:21 INFO SRCCODE='::tclean'                             \n",
       "HISTORY vis         = \"/drf/projets/capucine.new/dcherouv/Project4/Data/B335_Com\n",
       "HISTORY >bine_SO_transfo_rest.ms.contsub/\"                                      \n",
       "HISTORY 2022-04-07T11:23:21 INFO SRCCODE='::tclean'                             \n",
       "HISTORY selectdata  = True                                                      \n",
       "HISTORY 2022-04-07T11:23:21 INFO SRCCODE='::tclean'                             \n",
       "HISTORY field       = \"\"                                                        \n",
       "HISTORY 2022-04-07T11:23:21 INFO SRCCODE='::tclean'                             \n",
       "HISTORY spw         = \"\"                                                        \n",
       "HISTORY 2022-04-07T11:23:21 INFO SRCCODE='::tclean'                             \n",
       "HISTORY timerange   = \"\"                                                        \n",
       "HISTORY 2022-04-07T11:23:21 INFO SRCCODE='::tclean'                             \n",
       "HISTORY uvrange     = \"\"                                                        \n",
       "HISTORY 2022-04-07T11:23:21 INFO SRCCODE='::tclean'                             \n",
       "HISTORY antenna     = \"\"                                                        \n",
       "HISTORY 2022-04-07T11:23:21 INFO SRCCODE='::tclean'                             \n",
       "HISTORY scan        = \"\"                                                        \n",
       "HISTORY 2022-04-07T11:23:21 INFO SRCCODE='::tclean'                             \n",
       "HISTORY observation = \"\"                                                        \n",
       "HISTORY 2022-04-07T11:23:21 INFO SRCCODE='::tclean'                             \n",
       "HISTORY intent      = \"\"                                                        \n",
       "HISTORY 2022-04-07T11:23:21 INFO SRCCODE='::tclean'                             \n",
       "HISTORY datacolumn  = \"corrected\"                                               \n",
       "HISTORY 2022-04-07T11:23:21 INFO SRCCODE='::tclean'                             \n",
       "HISTORY imagename   = \"/drf/projets/capucine.new/dcherouv/Project5/spw_SO/Clean_\n",
       "HISTORY >cube/B335_Combine_SO_rob05_fit1_2sigma_self_clean\"                     \n",
       "HISTORY 2022-04-07T11:23:21 INFO SRCCODE='::tclean'                             \n",
       "HISTORY imsize      = 1200                                                      \n",
       "HISTORY 2022-04-07T11:23:21 INFO SRCCODE='::tclean'                             \n",
       "HISTORY cell        = \"0.03arcsec\"                                              \n",
       "HISTORY 2022-04-07T11:23:21 INFO SRCCODE='::tclean'                             \n",
       "HISTORY phasecenter = \"\"                                                        \n",
       "HISTORY 2022-04-07T11:23:21 INFO SRCCODE='::tclean'                             \n",
       "HISTORY stokes      = \"I\"                                                       \n",
       "HISTORY 2022-04-07T11:23:21 INFO SRCCODE='::tclean'                             \n",
       "HISTORY projection  = \"SIN\"                                                     \n",
       "HISTORY 2022-04-07T11:23:21 INFO SRCCODE='::tclean'                             \n",
       "HISTORY startmodel  = \"\"                                                        \n",
       "HISTORY 2022-04-07T11:23:21 INFO SRCCODE='::tclean'                             \n",
       "HISTORY specmode    = \"cube\"                                                    \n",
       "HISTORY 2022-04-07T11:23:21 INFO SRCCODE='::tclean'                             \n",
       "HISTORY reffreq     = \"\"                                                        \n",
       "HISTORY 2022-04-07T11:23:21 INFO SRCCODE='::tclean'                             \n",
       "HISTORY nchan       = -1                                                        \n",
       "HISTORY 2022-04-07T11:23:21 INFO SRCCODE='::tclean'                             \n",
       "HISTORY start       = \"\"                                                        \n",
       "HISTORY 2022-04-07T11:23:21 INFO SRCCODE='::tclean'                             \n",
       "HISTORY width       = \"\"                                                        \n",
       "HISTORY 2022-04-07T11:23:21 INFO SRCCODE='::tclean'                             \n",
       "HISTORY outframe    = \"\"                                                        \n",
       "HISTORY 2022-04-07T11:23:21 INFO SRCCODE='::tclean'                             \n",
       "HISTORY veltype     = \"radio\"                                                   \n",
       "HISTORY 2022-04-07T11:23:21 INFO SRCCODE='::tclean'                             \n",
       "HISTORY restfreq    = \"261.84368400GHz\"                                         \n",
       "HISTORY 2022-04-07T11:23:21 INFO SRCCODE='::tclean'                             \n",
       "HISTORY interpolation = \"linear\"                                                \n",
       "HISTORY 2022-04-07T11:23:21 INFO SRCCODE='::tclean'                             \n",
       "HISTORY perchanweightdensity = True                                             \n",
       "HISTORY 2022-04-07T11:23:21 INFO SRCCODE='::tclean'                             \n",
       "HISTORY gridder     = \"mosaic\"                                                  \n",
       "HISTORY 2022-04-07T11:23:21 INFO SRCCODE='::tclean'                             \n",
       "HISTORY facets      = 1                                                         \n",
       "HISTORY 2022-04-07T11:23:21 INFO SRCCODE='::tclean'                             \n",
       "HISTORY psfphasecenter = \"\"                                                     \n",
       "HISTORY 2022-04-07T11:23:21 INFO SRCCODE='::tclean'                             \n",
       "HISTORY wprojplanes = 1                                                         \n",
       "HISTORY 2022-04-07T11:23:21 INFO SRCCODE='::tclean'                             \n",
       "HISTORY vptable     = \"\"                                                        \n",
       "HISTORY 2022-04-07T11:23:21 INFO SRCCODE='::tclean'                             \n",
       "HISTORY mosweight   = True                                                      \n",
       "HISTORY 2022-04-07T11:23:21 INFO SRCCODE='::tclean'                             \n",
       "HISTORY aterm       = True                                                      \n",
       "HISTORY 2022-04-07T11:23:21 INFO SRCCODE='::tclean'                             \n",
       "HISTORY psterm      = False                                                     \n",
       "HISTORY 2022-04-07T11:23:21 INFO SRCCODE='::tclean'                             \n",
       "HISTORY wbawp       = True                                                      \n",
       "HISTORY 2022-04-07T11:23:21 INFO SRCCODE='::tclean'                             \n",
       "HISTORY conjbeams   = False                                                     \n",
       "HISTORY 2022-04-07T11:23:21 INFO SRCCODE='::tclean'                             \n",
       "HISTORY cfcache     = \"\"                                                        \n",
       "HISTORY 2022-04-07T11:23:21 INFO SRCCODE='::tclean'                             \n",
       "HISTORY usepointing = False                                                     \n",
       "HISTORY 2022-04-07T11:23:21 INFO SRCCODE='::tclean'                             \n",
       "HISTORY computepastep = 360.0                                                   \n",
       "HISTORY 2022-04-07T11:23:21 INFO SRCCODE='::tclean'                             \n",
       "HISTORY rotatepastep = 360.0                                                    \n",
       "HISTORY 2022-04-07T11:23:21 INFO SRCCODE='::tclean'                             \n",
       "HISTORY pointingoffsetsigdev = []                                               \n",
       "HISTORY 2022-04-07T11:23:21 INFO SRCCODE='::tclean'                             \n",
       "HISTORY pblimit     = 0.2                                                       \n",
       "HISTORY 2022-04-07T11:23:21 INFO SRCCODE='::tclean'                             \n",
       "HISTORY normtype    = \"flatnoise\"                                               \n",
       "HISTORY 2022-04-07T11:23:21 INFO SRCCODE='::tclean'                             \n",
       "HISTORY deconvolver = \"multiscale\"                                              \n",
       "HISTORY 2022-04-07T11:23:21 INFO SRCCODE='::tclean'                             \n",
       "HISTORY scales      = [0, 6, 18, 54, 162]                                       \n",
       "HISTORY 2022-04-07T11:23:21 INFO SRCCODE='::tclean'                             \n",
       "HISTORY nterms      = 2                                                         \n",
       "HISTORY 2022-04-07T11:23:21 INFO SRCCODE='::tclean'                             \n",
       "HISTORY smallscalebias = 0.0                                                    \n",
       "HISTORY 2022-04-07T11:23:21 INFO SRCCODE='::tclean'                             \n",
       "HISTORY restoration = True                                                      \n",
       "HISTORY 2022-04-07T11:23:21 INFO SRCCODE='::tclean'                             \n",
       "HISTORY restoringbeam = \"common\"                                                \n",
       "HISTORY 2022-04-07T11:23:21 INFO SRCCODE='::tclean'                             \n",
       "HISTORY pbcor       = False                                                     \n",
       "HISTORY 2022-04-07T11:23:21 INFO SRCCODE='::tclean'                             \n",
       "HISTORY outlierfile = \"\"                                                        \n",
       "HISTORY 2022-04-07T11:23:21 INFO SRCCODE='::tclean'                             \n",
       "HISTORY weighting   = \"briggs\"                                                  \n",
       "HISTORY 2022-04-07T11:23:21 INFO SRCCODE='::tclean'                             \n",
       "HISTORY robust      = 0.5                                                       \n",
       "HISTORY 2022-04-07T11:23:21 INFO SRCCODE='::tclean'                             \n",
       "HISTORY noise       = \"1.0Jy\"                                                   \n",
       "HISTORY 2022-04-07T11:23:21 INFO SRCCODE='::tclean'                             \n",
       "HISTORY npixels     = 0                                                         \n",
       "HISTORY 2022-04-07T11:23:21 INFO SRCCODE='::tclean'                             \n",
       "HISTORY uvtaper     = []                                                        \n",
       "HISTORY 2022-04-07T11:23:21 INFO SRCCODE='::tclean'                             \n",
       "HISTORY niter       = 10000                                                     \n",
       "HISTORY 2022-04-07T11:23:21 INFO SRCCODE='::tclean'                             \n",
       "HISTORY gain        = 0.1                                                       \n",
       "HISTORY 2022-04-07T11:23:21 INFO SRCCODE='::tclean'                             \n",
       "HISTORY threshold   = \"0.0015969 Jy/beam\"                                       \n",
       "HISTORY 2022-04-07T11:23:21 INFO SRCCODE='::tclean'                             \n",
       "HISTORY nsigma      = 0.0                                                       \n",
       "HISTORY 2022-04-07T11:23:21 INFO SRCCODE='::tclean'                             \n",
       "HISTORY cycleniter  = -1                                                        \n",
       "HISTORY 2022-04-07T11:23:21 INFO SRCCODE='::tclean'                             \n",
       "HISTORY cyclefactor = 1.0                                                       \n",
       "HISTORY 2022-04-07T11:23:21 INFO SRCCODE='::tclean'                             \n",
       "HISTORY minpsffraction = 0.05                                                   \n",
       "HISTORY 2022-04-07T11:23:21 INFO SRCCODE='::tclean'                             \n",
       "HISTORY maxpsffraction = 0.8                                                    \n",
       "HISTORY 2022-04-07T11:23:21 INFO SRCCODE='::tclean'                             \n",
       "HISTORY interactive = True                                                      \n",
       "HISTORY 2022-04-07T11:23:21 INFO SRCCODE='::tclean'                             \n",
       "HISTORY usemask     = \"user\"                                                    \n",
       "HISTORY 2022-04-07T11:23:21 INFO SRCCODE='::tclean'                             \n",
       "HISTORY mask        = \"/drf/projets/capucine.new/dcherouv/Project4/spw_SO/Clean_\n",
       "HISTORY >cube/B335_Combine_SO_rob05_2sigma_automask_std_clean.mask/\"            \n",
       "HISTORY 2022-04-07T11:23:21 INFO SRCCODE='::tclean'                             \n",
       "HISTORY pbmask      = 0.0                                                       \n",
       "HISTORY 2022-04-07T11:23:21 INFO SRCCODE='::tclean'                             \n",
       "HISTORY sidelobethreshold = 3.0                                                 \n",
       "HISTORY 2022-04-07T11:23:21 INFO SRCCODE='::tclean'                             \n",
       "HISTORY noisethreshold = 5.0                                                    \n",
       "HISTORY 2022-04-07T11:23:21 INFO SRCCODE='::tclean'                             \n",
       "HISTORY lownoisethreshold = 1.5                                                 \n",
       "HISTORY 2022-04-07T11:23:21 INFO SRCCODE='::tclean'                             \n",
       "HISTORY negativethreshold = 0.0                                                 \n",
       "HISTORY 2022-04-07T11:23:21 INFO SRCCODE='::tclean'                             \n",
       "HISTORY smoothfactor = 1.0                                                      \n",
       "HISTORY 2022-04-07T11:23:21 INFO SRCCODE='::tclean'                             \n",
       "HISTORY minbeamfrac = 0.3                                                       \n",
       "HISTORY 2022-04-07T11:23:21 INFO SRCCODE='::tclean'                             \n",
       "HISTORY cutthreshold = 0.01                                                     \n",
       "HISTORY 2022-04-07T11:23:21 INFO SRCCODE='::tclean'                             \n",
       "HISTORY growiterations = 75                                                     \n",
       "HISTORY 2022-04-07T11:23:21 INFO SRCCODE='::tclean'                             \n",
       "HISTORY dogrowprune = True                                                      \n",
       "HISTORY 2022-04-07T11:23:21 INFO SRCCODE='::tclean'                             \n",
       "HISTORY minpercentchange = -1.0                                                 \n",
       "HISTORY 2022-04-07T11:23:21 INFO SRCCODE='::tclean'                             \n",
       "HISTORY verbose     = False                                                     \n",
       "HISTORY 2022-04-07T11:23:21 INFO SRCCODE='::tclean'                             \n",
       "HISTORY fastnoise   = True                                                      \n",
       "HISTORY 2022-04-07T11:23:21 INFO SRCCODE='::tclean'                             \n",
       "HISTORY restart     = True                                                      \n",
       "HISTORY 2022-04-07T11:23:21 INFO SRCCODE='::tclean'                             \n",
       "HISTORY savemodel   = \"none\"                                                    \n",
       "HISTORY 2022-04-07T11:23:21 INFO SRCCODE='::tclean'                             \n",
       "HISTORY calcres     = True                                                      \n",
       "HISTORY 2022-04-07T11:23:21 INFO SRCCODE='::tclean'                             \n",
       "HISTORY calcpsf     = True                                                      \n",
       "HISTORY 2022-04-07T11:23:21 INFO SRCCODE='::tclean'                             \n",
       "HISTORY psfcutoff   = 0.35                                                      \n",
       "HISTORY 2022-04-07T11:23:21 INFO SRCCODE='::tclean'                             \n",
       "HISTORY parallel    = False                                                     \n",
       "HISTORY 2022-04-08T08:18:14 INFO SRCCODE='::tclean'                             \n",
       "HISTORY taskname=tclean                                                         \n",
       "HISTORY 2022-04-08T08:18:14 INFO SRCCODE='::tclean'                             \n",
       "HISTORY version: 6.4.0-16 CASAtools:v1.0.0                                      \n",
       "HISTORY 2022-04-08T08:18:14 INFO SRCCODE='::tclean'                             \n",
       "HISTORY vis         = \"/drf/projets/capucine.new/dcherouv/Project4/Data/B335_Com\n",
       "HISTORY >bine_SO_transfo_rest.ms.contsub/\"                                      \n",
       "HISTORY 2022-04-08T08:18:14 INFO SRCCODE='::tclean'                             \n",
       "HISTORY selectdata  = True                                                      \n",
       "HISTORY 2022-04-08T08:18:14 INFO SRCCODE='::tclean'                             \n",
       "HISTORY field       = \"\"                                                        \n",
       "HISTORY 2022-04-08T08:18:14 INFO SRCCODE='::tclean'                             \n",
       "HISTORY spw         = \"\"                                                        \n",
       "HISTORY 2022-04-08T08:18:14 INFO SRCCODE='::tclean'                             \n",
       "HISTORY timerange   = \"\"                                                        \n",
       "HISTORY 2022-04-08T08:18:14 INFO SRCCODE='::tclean'                             \n",
       "HISTORY uvrange     = \"\"                                                        \n",
       "HISTORY 2022-04-08T08:18:14 INFO SRCCODE='::tclean'                             \n",
       "HISTORY antenna     = \"\"                                                        \n",
       "HISTORY 2022-04-08T08:18:14 INFO SRCCODE='::tclean'                             \n",
       "HISTORY scan        = \"\"                                                        \n",
       "HISTORY 2022-04-08T08:18:14 INFO SRCCODE='::tclean'                             \n",
       "HISTORY observation = \"\"                                                        \n",
       "HISTORY 2022-04-08T08:18:14 INFO SRCCODE='::tclean'                             \n",
       "HISTORY intent      = \"\"                                                        \n",
       "HISTORY 2022-04-08T08:18:14 INFO SRCCODE='::tclean'                             \n",
       "HISTORY datacolumn  = \"corrected\"                                               \n",
       "HISTORY 2022-04-08T08:18:14 INFO SRCCODE='::tclean'                             \n",
       "HISTORY imagename   = \"/drf/projets/capucine.new/dcherouv/Project5/spw_SO/Clean_\n",
       "HISTORY >cube/B335_Combine_SO_rob05_fit1_2sigma_self_clean\"                     \n",
       "HISTORY 2022-04-08T08:18:14 INFO SRCCODE='::tclean'                             \n",
       "HISTORY imsize      = 1200                                                      \n",
       "HISTORY 2022-04-08T08:18:14 INFO SRCCODE='::tclean'                             \n",
       "HISTORY cell        = \"0.03arcsec\"                                              \n",
       "HISTORY 2022-04-08T08:18:14 INFO SRCCODE='::tclean'                             \n",
       "HISTORY phasecenter = \"\"                                                        \n",
       "HISTORY 2022-04-08T08:18:14 INFO SRCCODE='::tclean'                             \n",
       "HISTORY stokes      = \"I\"                                                       \n",
       "HISTORY 2022-04-08T08:18:14 INFO SRCCODE='::tclean'                             \n",
       "HISTORY projection  = \"SIN\"                                                     \n",
       "HISTORY 2022-04-08T08:18:14 INFO SRCCODE='::tclean'                             \n",
       "HISTORY startmodel  = \"\"                                                        \n",
       "HISTORY 2022-04-08T08:18:14 INFO SRCCODE='::tclean'                             \n",
       "HISTORY specmode    = \"cube\"                                                    \n",
       "HISTORY 2022-04-08T08:18:14 INFO SRCCODE='::tclean'                             \n",
       "HISTORY reffreq     = \"\"                                                        \n",
       "HISTORY 2022-04-08T08:18:14 INFO SRCCODE='::tclean'                             \n",
       "HISTORY nchan       = -1                                                        \n",
       "HISTORY 2022-04-08T08:18:14 INFO SRCCODE='::tclean'                             \n",
       "HISTORY start       = \"\"                                                        \n",
       "HISTORY 2022-04-08T08:18:14 INFO SRCCODE='::tclean'                             \n",
       "HISTORY width       = \"\"                                                        \n",
       "HISTORY 2022-04-08T08:18:14 INFO SRCCODE='::tclean'                             \n",
       "HISTORY outframe    = \"\"                                                        \n",
       "HISTORY 2022-04-08T08:18:14 INFO SRCCODE='::tclean'                             \n",
       "HISTORY veltype     = \"radio\"                                                   \n",
       "HISTORY 2022-04-08T08:18:14 INFO SRCCODE='::tclean'                             \n",
       "HISTORY restfreq    = \"261.84368400GHz\"                                         \n",
       "HISTORY 2022-04-08T08:18:14 INFO SRCCODE='::tclean'                             \n",
       "HISTORY interpolation = \"linear\"                                                \n",
       "HISTORY 2022-04-08T08:18:14 INFO SRCCODE='::tclean'                             \n",
       "HISTORY perchanweightdensity = True                                             \n",
       "HISTORY 2022-04-08T08:18:14 INFO SRCCODE='::tclean'                             \n",
       "HISTORY gridder     = \"mosaic\"                                                  \n",
       "HISTORY 2022-04-08T08:18:14 INFO SRCCODE='::tclean'                             \n",
       "HISTORY facets      = 1                                                         \n",
       "HISTORY 2022-04-08T08:18:14 INFO SRCCODE='::tclean'                             \n",
       "HISTORY psfphasecenter = \"\"                                                     \n",
       "HISTORY 2022-04-08T08:18:14 INFO SRCCODE='::tclean'                             \n",
       "HISTORY wprojplanes = 1                                                         \n",
       "HISTORY 2022-04-08T08:18:14 INFO SRCCODE='::tclean'                             \n",
       "HISTORY vptable     = \"\"                                                        \n",
       "HISTORY 2022-04-08T08:18:14 INFO SRCCODE='::tclean'                             \n",
       "HISTORY mosweight   = True                                                      \n",
       "HISTORY 2022-04-08T08:18:14 INFO SRCCODE='::tclean'                             \n",
       "HISTORY aterm       = True                                                      \n",
       "HISTORY 2022-04-08T08:18:14 INFO SRCCODE='::tclean'                             \n",
       "HISTORY psterm      = False                                                     \n",
       "HISTORY 2022-04-08T08:18:14 INFO SRCCODE='::tclean'                             \n",
       "HISTORY wbawp       = True                                                      \n",
       "HISTORY 2022-04-08T08:18:14 INFO SRCCODE='::tclean'                             \n",
       "HISTORY conjbeams   = False                                                     \n",
       "HISTORY 2022-04-08T08:18:14 INFO SRCCODE='::tclean'                             \n",
       "HISTORY cfcache     = \"\"                                                        \n",
       "HISTORY 2022-04-08T08:18:14 INFO SRCCODE='::tclean'                             \n",
       "HISTORY usepointing = False                                                     \n",
       "HISTORY 2022-04-08T08:18:14 INFO SRCCODE='::tclean'                             \n",
       "HISTORY computepastep = 360.0                                                   \n",
       "HISTORY 2022-04-08T08:18:14 INFO SRCCODE='::tclean'                             \n",
       "HISTORY rotatepastep = 360.0                                                    \n",
       "HISTORY 2022-04-08T08:18:14 INFO SRCCODE='::tclean'                             \n",
       "HISTORY pointingoffsetsigdev = []                                               \n",
       "HISTORY 2022-04-08T08:18:14 INFO SRCCODE='::tclean'                             \n",
       "HISTORY pblimit     = 0.2                                                       \n",
       "HISTORY 2022-04-08T08:18:14 INFO SRCCODE='::tclean'                             \n",
       "HISTORY normtype    = \"flatnoise\"                                               \n",
       "HISTORY 2022-04-08T08:18:14 INFO SRCCODE='::tclean'                             \n",
       "HISTORY deconvolver = \"multiscale\"                                              \n",
       "HISTORY 2022-04-08T08:18:14 INFO SRCCODE='::tclean'                             \n",
       "HISTORY scales      = [0, 6, 18, 54, 162]                                       \n",
       "HISTORY 2022-04-08T08:18:14 INFO SRCCODE='::tclean'                             \n",
       "HISTORY nterms      = 2                                                         \n",
       "HISTORY 2022-04-08T08:18:14 INFO SRCCODE='::tclean'                             \n",
       "HISTORY smallscalebias = 0.0                                                    \n",
       "HISTORY 2022-04-08T08:18:14 INFO SRCCODE='::tclean'                             \n",
       "HISTORY restoration = True                                                      \n",
       "HISTORY 2022-04-08T08:18:14 INFO SRCCODE='::tclean'                             \n",
       "HISTORY restoringbeam = \"common\"                                                \n",
       "HISTORY 2022-04-08T08:18:14 INFO SRCCODE='::tclean'                             \n",
       "HISTORY pbcor       = False                                                     \n",
       "HISTORY 2022-04-08T08:18:14 INFO SRCCODE='::tclean'                             \n",
       "HISTORY outlierfile = \"\"                                                        \n",
       "HISTORY 2022-04-08T08:18:14 INFO SRCCODE='::tclean'                             \n",
       "HISTORY weighting   = \"briggs\"                                                  \n",
       "HISTORY 2022-04-08T08:18:14 INFO SRCCODE='::tclean'                             \n",
       "HISTORY robust      = 0.5                                                       \n",
       "HISTORY 2022-04-08T08:18:14 INFO SRCCODE='::tclean'                             \n",
       "HISTORY noise       = \"1.0Jy\"                                                   \n",
       "HISTORY 2022-04-08T08:18:14 INFO SRCCODE='::tclean'                             \n",
       "HISTORY npixels     = 0                                                         \n",
       "HISTORY 2022-04-08T08:18:14 INFO SRCCODE='::tclean'                             \n",
       "HISTORY uvtaper     = []                                                        \n",
       "HISTORY 2022-04-08T08:18:14 INFO SRCCODE='::tclean'                             \n",
       "HISTORY niter       = 10000                                                     \n",
       "HISTORY 2022-04-08T08:18:14 INFO SRCCODE='::tclean'                             \n",
       "HISTORY gain        = 0.1                                                       \n",
       "HISTORY 2022-04-08T08:18:14 INFO SRCCODE='::tclean'                             \n",
       "HISTORY threshold   = \"0.0015969 Jy/beam\"                                       \n",
       "HISTORY 2022-04-08T08:18:14 INFO SRCCODE='::tclean'                             \n",
       "HISTORY nsigma      = 0.0                                                       \n",
       "HISTORY 2022-04-08T08:18:14 INFO SRCCODE='::tclean'                             \n",
       "HISTORY cycleniter  = -1                                                        \n",
       "HISTORY 2022-04-08T08:18:14 INFO SRCCODE='::tclean'                             \n",
       "HISTORY cyclefactor = 1.0                                                       \n",
       "HISTORY 2022-04-08T08:18:14 INFO SRCCODE='::tclean'                             \n",
       "HISTORY minpsffraction = 0.05                                                   \n",
       "HISTORY 2022-04-08T08:18:14 INFO SRCCODE='::tclean'                             \n",
       "HISTORY maxpsffraction = 0.8                                                    \n",
       "HISTORY 2022-04-08T08:18:14 INFO SRCCODE='::tclean'                             \n",
       "HISTORY interactive = True                                                      \n",
       "HISTORY 2022-04-08T08:18:14 INFO SRCCODE='::tclean'                             \n",
       "HISTORY usemask     = \"user\"                                                    \n",
       "HISTORY 2022-04-08T08:18:14 INFO SRCCODE='::tclean'                             \n",
       "HISTORY mask        = \"\"                                                        \n",
       "HISTORY 2022-04-08T08:18:14 INFO SRCCODE='::tclean'                             \n",
       "HISTORY pbmask      = 0.0                                                       \n",
       "HISTORY 2022-04-08T08:18:14 INFO SRCCODE='::tclean'                             \n",
       "HISTORY sidelobethreshold = 3.0                                                 \n",
       "HISTORY 2022-04-08T08:18:14 INFO SRCCODE='::tclean'                             \n",
       "HISTORY noisethreshold = 5.0                                                    \n",
       "HISTORY 2022-04-08T08:18:14 INFO SRCCODE='::tclean'                             \n",
       "HISTORY lownoisethreshold = 1.5                                                 \n",
       "HISTORY 2022-04-08T08:18:14 INFO SRCCODE='::tclean'                             \n",
       "HISTORY negativethreshold = 0.0                                                 \n",
       "HISTORY 2022-04-08T08:18:14 INFO SRCCODE='::tclean'                             \n",
       "HISTORY smoothfactor = 1.0                                                      \n",
       "HISTORY 2022-04-08T08:18:14 INFO SRCCODE='::tclean'                             \n",
       "HISTORY minbeamfrac = 0.3                                                       \n",
       "HISTORY 2022-04-08T08:18:14 INFO SRCCODE='::tclean'                             \n",
       "HISTORY cutthreshold = 0.01                                                     \n",
       "HISTORY 2022-04-08T08:18:14 INFO SRCCODE='::tclean'                             \n",
       "HISTORY growiterations = 75                                                     \n",
       "HISTORY 2022-04-08T08:18:14 INFO SRCCODE='::tclean'                             \n",
       "HISTORY dogrowprune = True                                                      \n",
       "HISTORY 2022-04-08T08:18:14 INFO SRCCODE='::tclean'                             \n",
       "HISTORY minpercentchange = -1.0                                                 \n",
       "HISTORY 2022-04-08T08:18:14 INFO SRCCODE='::tclean'                             \n",
       "HISTORY verbose     = False                                                     \n",
       "HISTORY 2022-04-08T08:18:14 INFO SRCCODE='::tclean'                             \n",
       "HISTORY fastnoise   = True                                                      \n",
       "HISTORY 2022-04-08T08:18:14 INFO SRCCODE='::tclean'                             \n",
       "HISTORY restart     = True                                                      \n",
       "HISTORY 2022-04-08T08:18:14 INFO SRCCODE='::tclean'                             \n",
       "HISTORY savemodel   = \"none\"                                                    \n",
       "HISTORY 2022-04-08T08:18:14 INFO SRCCODE='::tclean'                             \n",
       "HISTORY calcres     = True                                                      \n",
       "HISTORY 2022-04-08T08:18:14 INFO SRCCODE='::tclean'                             \n",
       "HISTORY calcpsf     = True                                                      \n",
       "HISTORY 2022-04-08T08:18:14 INFO SRCCODE='::tclean'                             \n",
       "HISTORY psfcutoff   = 0.35                                                      \n",
       "HISTORY 2022-04-08T08:18:14 INFO SRCCODE='::tclean'                             \n",
       "HISTORY parallel    = False                                                     \n",
       "HISTORY CASA END LOGTABLE                                                       \n",
       "HISTORY Written by spectral_cube v0.6.0 on 2022/05/23-12:10:55                  "
      ]
     },
     "execution_count": 228,
     "metadata": {},
     "output_type": "execute_result"
    }
   ],
   "source": [
    "cube.header"
   ]
  },
  {
   "cell_type": "code",
   "execution_count": 575,
   "id": "019286cd",
   "metadata": {},
   "outputs": [],
   "source": [
    "x = xpix = 586\n",
    "y = ypix = 612\n",
    "\n",
    "Spec = cube.get_spectrum(ypix, xpix)"
   ]
  },
  {
   "cell_type": "code",
   "execution_count": 576,
   "id": "c28d6ef2",
   "metadata": {},
   "outputs": [],
   "source": [
    "vmin = 2.5; vmax = 13\n",
    "tpeak_min = 3*rms; tpeak_max = 200e-3\n",
    "dv_min = 0.05; dv_max = 6.0\n",
    "F = False\n",
    "T = True"
   ]
  },
  {
   "cell_type": "code",
   "execution_count": 578,
   "id": "b6612aa1",
   "metadata": {
    "scrolled": true
   },
   "outputs": [
    {
     "name": "stdout",
     "output_type": "stream",
     "text": [
      "INFO: Left region selection unchanged.  xminpix, xmaxpix: 0,170 [pyspeckit.spectrum.interactive]\n"
     ]
    }
   ],
   "source": [
    "#guesses = np.array([10e-3, 6.2, 1.5, 25e-3, 6.8, 0.3, 25e-3, 7.8, 1])\n",
    "#guesses = [2e-3, 8.32, 0.2, 2e-3, 8, 0.5, 0.004, 8.7, 1.0, 0.006, 11, 1.0]\n",
    "#guesses = [23e-3, 8.0, 0.7, 15e-3, 6.7, 0.6, 7.0e-3, 5.2, 1.0]\n",
    "#guesses = [0.012, 8.18, 1, 0.01, 10.3, 0.8]\n",
    "guesses = [ 0.03, 7.7, 1, 0.005, 8.2, 2, 0.02, 9, 1]\n",
    "#guesses = [0.015, 8.3, 1]\n",
    "\n",
    "Spec.specfit(fittype='gaussian', guesses=guesses,\n",
    "             limits=[(tpeak_min,tpeak_max), (vmin,vmax), (dv_min,dv_max), (tpeak_min,tpeak_max), (vmin,vmax), (dv_min,dv_max), (tpeak_min,tpeak_max), (vmin,vmax), (dv_min,dv_max)],\n",
    "            limited=[(T,T), (T,T), (T,T), (T,T), (T,T), (T,T), (T,T), (T,T), (T,T)])"
   ]
  },
  {
   "cell_type": "code",
   "execution_count": 579,
   "id": "4c9ef7f1",
   "metadata": {
    "scrolled": false
   },
   "outputs": [
    {
     "name": "stderr",
     "output_type": "stream",
     "text": [
      "support for accessing str attributes such as 'lower' from PhysicalType instances is deprecated since 4.3 and will be removed in a subsequent release.\n",
      "support for accessing str attributes such as 'title' from PhysicalType instances is deprecated since 4.3 and will be removed in a subsequent release.\n",
      "support for accessing str attributes such as 'lower' from PhysicalType instances is deprecated since 4.3 and will be removed in a subsequent release.\n"
     ]
    },
    {
     "data": {
      "image/png": "[encoded data removed]",
      "text/plain": [
       "<Figure size 1008x576 with 1 Axes>"
      ]
     },
     "metadata": {
      "needs_background": "light"
     },
     "output_type": "display_data"
    }
   ],
   "source": [
    "Spec.plotter()\n",
    "Spec.specfit.plot_fit()\n",
    "Spec.specfit.plot_components()\n",
    "Spec.specfit.plotresiduals(axis=Spec.plotter.axis, clear=False, label=False)\n",
    "plt.xlim(0, 19)\n",
    "plt.savefig('Documents/Figures/Fit_SO_3comp_report.pdf', dpi=200)"
   ]
  },
  {
   "cell_type": "code",
   "execution_count": 233,
   "id": "08ab19bd",
   "metadata": {},
   "outputs": [
    {
     "data": {
      "text/plain": [
       "<matplotlib.legend.Legend at 0x7fdf7fa5e8b0>"
      ]
     },
     "execution_count": 233,
     "metadata": {},
     "output_type": "execute_result"
    },
    {
     "data": {
      "image/png": "[encoded data removed]",
      "text/plain": [
       "<Figure size 1008x576 with 1 Axes>"
      ]
     },
     "metadata": {
      "needs_background": "light"
     },
     "output_type": "display_data"
    }
   ],
   "source": [
    "test_JEP = Gaussian(Cube.spectral_axis.value, 0.01, 5.4, 0.8)\n",
    "test_JEP1 = Gaussian(Cube.spectral_axis.value, 0.034, 7.4, 1.)\n",
    "test_JEP2 = Gaussian(Cube.spectral_axis.value, 0.008, 8.8, 0.8)\n",
    "\n",
    "Cube[:,xpix,ypix].quicklook(label='Data')\n",
    "plt.step(Cube.spectral_axis.value, test_JEP, label='1st comp')\n",
    "plt.step(Cube.spectral_axis.value, test_JEP1, label='2nd comp')\n",
    "plt.step(Cube.spectral_axis.value, test_JEP2, label='3rd comp')\n",
    "plt.step(Cube.spectral_axis.value, test_JEP + test_JEP1 + test_JEP2, label='sum')\n",
    "plt.legend()"
   ]
  },
  {
   "cell_type": "markdown",
   "id": "f09605cc",
   "metadata": {},
   "source": [
    "# Load fit parameters for both model"
   ]
  },
  {
   "cell_type": "code",
   "execution_count": 529,
   "id": "b957144e",
   "metadata": {},
   "outputs": [],
   "source": [
    "#file_1comp = 'Documents/H13CO/Spec_H13CO_32_1comp_5snr.fits'\n",
    "#file_2comp = 'Documents/H13CO/Spec_H13CO_32_fit_2comp_5snr.fits'\n",
    "\n",
    "file_1comp = 'Documents/SO/Spec_SO_fit_5snr_014kms.fits'\n",
    "file_2comp = 'Documents/SO/Spec_SO_2comp_5snr_slurm.fits'\n",
    "file_3comp = 'Documents/SO/Spec_SO_3comp_5snr_slurm.fits'"
   ]
  },
  {
   "cell_type": "code",
   "execution_count": 530,
   "id": "028b03ac",
   "metadata": {},
   "outputs": [],
   "source": [
    "data_1comp, hd_1comp = fits.getdata(file_1comp, header=True)\n",
    "data_2comp, hd_2comp = fits.getdata(file_2comp, header=True)\n",
    "data_3comp, hd_3comp = fits.getdata(file_3comp, header=True)"
   ]
  },
  {
   "cell_type": "code",
   "execution_count": 542,
   "id": "3dbe3efa",
   "metadata": {},
   "outputs": [
    {
     "data": {
      "text/plain": [
       "4.302042837423072"
      ]
     },
     "execution_count": 542,
     "metadata": {},
     "output_type": "execute_result"
    }
   ],
   "source": [
    "data_3comp[8,xpix,ypix]*2.34"
   ]
  },
  {
   "cell_type": "code",
   "execution_count": 580,
   "id": "c370c6ab",
   "metadata": {},
   "outputs": [],
   "source": [
    "\n",
    "test = Gaussian(Cube.spectral_axis.value,\n",
    "                          data_3comp[0,xpix,ypix],\n",
    "                          data_3comp[1,xpix,ypix],\n",
    "                          data_3comp[2,xpix,ypix])\n",
    "test1 = Gaussian(Cube.spectral_axis.value,\n",
    "                          data_3comp[3,xpix,ypix],\n",
    "                          data_3comp[4,xpix,ypix],\n",
    "                          data_3comp[5,xpix,ypix])\n",
    "test2 = Gaussian(Cube.spectral_axis.value,\n",
    "                          data_3comp[6,xpix,ypix],\n",
    "                          data_3comp[7,xpix,ypix],\n",
    "                          data_3comp[8,xpix,ypix])"
   ]
  },
  {
   "cell_type": "code",
   "execution_count": 581,
   "id": "fc03fee1",
   "metadata": {
    "scrolled": false
   },
   "outputs": [
    {
     "data": {
      "image/png": "[encoded data removed]",
      "text/plain": [
       "<Figure size 1008x576 with 1 Axes>"
      ]
     },
     "metadata": {
      "needs_background": "light"
     },
     "output_type": "display_data"
    }
   ],
   "source": [
    "Cube[:,xpix,ypix].quicklook()\n",
    "plt.step(Cube.spectral_axis.value, test, label='1st comp')\n",
    "plt.step(Cube.spectral_axis.value, test1, label='2nd comp')\n",
    "plt.step(Cube.spectral_axis.value, test2, label='3rd comp')\n",
    "plt.step(Cube.spectral_axis.value, test + test1 + test2 , label='sum')\n",
    "\n",
    "plt.axvline(8.3, linestyle = 'dashed', color = 'black')\n",
    "#plt.hlines(0, 0, 25)\n",
    "plt.xlim(0, 20)\n",
    "plt.xlabel('Velocity (km/s)')\n",
    "plt.ylabel('Intensity (Jy/beam)')\n",
    "plt.legend()\n",
    "\n",
    "plt.tight_layout()\n",
    "\n",
    "#plt.savefig('Documents/Figures/Broad_SO.pdf', dpi=200)"
   ]
  },
  {
   "cell_type": "markdown",
   "id": "a3b2c661",
   "metadata": {},
   "source": [
    "# Akaike Information Criterion"
   ]
  },
  {
   "cell_type": "code",
   "execution_count": 238,
   "id": "38b13ffb",
   "metadata": {},
   "outputs": [],
   "source": [
    "def chi2(y_data, y_model, err) :\n",
    "    return np.sum(np.square(y_data - y_model)/err**2)"
   ]
  },
  {
   "cell_type": "code",
   "execution_count": 239,
   "id": "75c19d61",
   "metadata": {},
   "outputs": [],
   "source": [
    "def AIC(chi2_low, chi2_high, Delta_k = 3.) :\n",
    "    return 2*Delta_k + chi2_low - chi2_high"
   ]
  },
  {
   "cell_type": "code",
   "execution_count": 565,
   "id": "aa36ad25",
   "metadata": {},
   "outputs": [],
   "source": [
    "chi2_0comp=chi2(Cube[:,x,y].value, 0, rms)"
   ]
  },
  {
   "cell_type": "code",
   "execution_count": 566,
   "id": "6d00c8c7",
   "metadata": {},
   "outputs": [],
   "source": [
    "chi2_1comp=chi2(Cube[:,x,y].value, Gaussian(Cube.spectral_axis.value,\n",
    "                                            data_1comp[0,x,y],\n",
    "                                            data_1comp[1,x,y],\n",
    "                                            data_1comp[2,x,y]), rms)"
   ]
  },
  {
   "cell_type": "code",
   "execution_count": 567,
   "id": "4b160b60",
   "metadata": {},
   "outputs": [
    {
     "data": {
      "text/plain": [
       "-820.3933872078574"
      ]
     },
     "execution_count": 567,
     "metadata": {},
     "output_type": "execute_result"
    }
   ],
   "source": [
    "AIC(chi2_1comp, chi2_0comp, Delta_k=3.)"
   ]
  },
  {
   "cell_type": "code",
   "execution_count": 568,
   "id": "28897a98",
   "metadata": {},
   "outputs": [],
   "source": [
    "chi2_2comp=chi2(Cube[:,x,y].value,Gaussian_2comp(Cube.spectral_axis.value,\n",
    "                                                 data_2comp[0,x,y],\n",
    "                                                 data_2comp[1,x,y],\n",
    "                                                 data_2comp[2,x,y],\n",
    "                                                 data_2comp[3,x,y],\n",
    "                                                 data_2comp[4,x,y],\n",
    "                                                 data_2comp[5,x,y]), rms)"
   ]
  },
  {
   "cell_type": "code",
   "execution_count": 569,
   "id": "5f22ea9d",
   "metadata": {},
   "outputs": [
    {
     "data": {
      "text/plain": [
       "-10.577217493033743"
      ]
     },
     "execution_count": 569,
     "metadata": {},
     "output_type": "execute_result"
    }
   ],
   "source": [
    "AIC(chi2_2comp, chi2_1comp, Delta_k=3.)"
   ]
  },
  {
   "cell_type": "code",
   "execution_count": 570,
   "id": "46b90425",
   "metadata": {},
   "outputs": [],
   "source": [
    "chi2_3comp=chi2(Cube[:,x,y].value,Gaussian_3comp(Cube.spectral_axis.value,\n",
    "                                                 data_3comp[0,x,y],\n",
    "                                                 data_3comp[1,x,y],\n",
    "                                                 data_3comp[2,x,y],\n",
    "                                                 data_3comp[3,x,y],\n",
    "                                                 data_3comp[4,x,y],\n",
    "                                                 data_3comp[5,x,y],\n",
    "                                                 data_3comp[6,x,y],\n",
    "                                                 data_3comp[7,x,y],\n",
    "                                                 data_3comp[8,x,y]), rms)"
   ]
  },
  {
   "cell_type": "code",
   "execution_count": 571,
   "id": "7dbfbb92",
   "metadata": {},
   "outputs": [
    {
     "data": {
      "text/plain": [
       "-23.919188017749036"
      ]
     },
     "execution_count": 571,
     "metadata": {},
     "output_type": "execute_result"
    }
   ],
   "source": [
    "AIC(chi2_3comp, chi2_2comp, Delta_k=3.)"
   ]
  },
  {
   "cell_type": "code",
   "execution_count": 573,
   "id": "dc2038c4",
   "metadata": {},
   "outputs": [
    {
     "data": {
      "text/plain": [
       "<matplotlib.legend.Legend at 0x7fdefe4a0130>"
      ]
     },
     "execution_count": 573,
     "metadata": {},
     "output_type": "execute_result"
    },
    {
     "data": {
      "image/png": "[encoded data removed]",
      "text/plain": [
       "<Figure size 1008x576 with 1 Axes>"
      ]
     },
     "metadata": {
      "needs_background": "light"
     },
     "output_type": "display_data"
    }
   ],
   "source": [
    "test_1st = Gaussian(Cube.spectral_axis.value,\n",
    "                    data_1comp[0,xpix,ypix],\n",
    "                    data_1comp[1,xpix,ypix],\n",
    "                    data_1comp[2,xpix,ypix])\n",
    "\n",
    "test_2nd = Gaussian_2comp(Cube.spectral_axis.value,\n",
    "                          data_2comp[0,xpix,ypix],\n",
    "                          data_2comp[1,xpix,ypix],\n",
    "                          data_2comp[2,xpix,ypix],\n",
    "                          data_2comp[3,xpix,ypix],\n",
    "                          data_2comp[4,xpix,ypix],\n",
    "                          data_2comp[5,xpix,ypix])\n",
    "\n",
    "test_3rd = Gaussian_3comp(Cube.spectral_axis.value,\n",
    "                          data_3comp[0,xpix,ypix],\n",
    "                          data_3comp[1,xpix,ypix],\n",
    "                          data_3comp[2,xpix,ypix],\n",
    "                          data_3comp[3,xpix,ypix],\n",
    "                          data_3comp[4,xpix,ypix],\n",
    "                          data_3comp[5,xpix,ypix],\n",
    "                          data_3comp[6,xpix,ypix],\n",
    "                          data_3comp[7,xpix,ypix],\n",
    "                          data_3comp[8,xpix,ypix])\n",
    "Cube[:,xpix,ypix].quicklook(label = 'Data')\n",
    "plt.step(Cube.spectral_axis.value,test_1st, label = '1comp')\n",
    "plt.step(Cube.spectral_axis.value,test_2nd, label = '2comp')\n",
    "plt.step(Cube.spectral_axis.value,test_3rd, label = '3comp')\n",
    "plt.legend()"
   ]
  },
  {
   "cell_type": "code",
   "execution_count": 248,
   "id": "b45e00f3",
   "metadata": {},
   "outputs": [],
   "source": [
    "zoom_size = 200\n",
    "\n",
    "#bestparam = [[[] for j in range(250)] for i in range(250)]\n",
    "Image = np.zeros(shape=(zoom_size, zoom_size))\n",
    "bestparam = np.zeros(shape=(15, zoom_size, zoom_size))\n",
    "i_zoom = 500\n",
    "j_zoom = 500\n",
    "\n",
    "for n in range(zoom_size):\n",
    "    \n",
    "    i = n + i_zoom\n",
    "\n",
    "    for p in range(zoom_size):\n",
    "        \n",
    "        j = p + j_zoom\n",
    "        \n",
    "        chi2_0comp=chi2(Cube[:, i, j].value, 0, rms)\n",
    "        \n",
    "        chi2_1comp=chi2(Cube[:, i, j].value, Gaussian(Cube.spectral_axis.value,\n",
    "                                                    data_1comp[0, i, j],\n",
    "                                                    data_1comp[1, i, j],\n",
    "                                                    data_1comp[2, i, j]), rms)\n",
    "        \n",
    "        \n",
    "        aic_test1 = AIC(chi2_1comp, chi2_0comp, Delta_k=3.)\n",
    "        \n",
    "        if aic_test1 < -10 : \n",
    "            \n",
    "            #1 comp model better than 0 comp model \n",
    "            \n",
    "            bestparam[0:3, n, p] = data_1comp[0:3, i, j]\n",
    "            bestparam[9:12, n, p] = data_1comp[3:6, i, j]\n",
    "            \n",
    "            Image[n, p] = 1\n",
    "            \n",
    "            chi2_2comp=chi2(Cube[:, i, j].value, Gaussian_2comp(Cube.spectral_axis.value,\n",
    "                                                         data_2comp[0, i, j],\n",
    "                                                         data_2comp[1, i, j],\n",
    "                                                         data_2comp[2, i, j],\n",
    "                                                         data_2comp[3, i, j],\n",
    "                                                         data_2comp[4, i, j],\n",
    "                                                         data_2comp[5, i, j]), rms)\n",
    "            \n",
    "            aic_test2 = AIC(chi2_2comp, chi2_1comp, Delta_k=3.)\n",
    "                \n",
    "            \n",
    "            if aic_test2 < -10 and np.abs(data_2comp[1, i, j] - data_2comp[4, i, j]) > 0.1 :\n",
    "                \n",
    "                #2 comp model better than 1 comp model \n",
    "                \n",
    "                bestparam[0:6, n, p] = data_2comp[0:6, i, j]\n",
    "                bestparam[6:12, n, p] = data_2comp[6:12, i, j]\n",
    "                \n",
    "                Image[n, p] = 2\n",
    "                \n",
    "                chi2_3comp=chi2(Cube[:, i, j].value, Gaussian_3comp(Cube.spectral_axis.value,\n",
    "                                                         data_3comp[0, i, j],\n",
    "                                                         data_3comp[1, i, j],\n",
    "                                                         data_3comp[2, i, j],\n",
    "                                                         data_3comp[3, i, j],\n",
    "                                                         data_3comp[4, i, j],\n",
    "                                                         data_3comp[5, i, j],\n",
    "                                                         data_3comp[6, i, j],\n",
    "                                                         data_3comp[7, i, j],\n",
    "                                                         data_3comp[8, i, j]), rms)\n",
    "                \n",
    "                aic_test3 = AIC(chi2_3comp, chi2_2comp, Delta_k=3.)\n",
    "                \n",
    "                if aic_test3 < -10 and np.abs(data_2comp[1, i, j] - data_2comp[4, i, j]) > 0.1 and np.abs(data_2comp[1, i, j] - data_2comp[7, i, j]) > 0.1 and np.abs(data_2comp[7, i, j] - data_2comp[4, i, j]) > 0.1 :\n",
    "                    \n",
    "                    #3 comp model better than 2 comp model \n",
    "                    \n",
    "                    bestparam[0:9, n, p] = data_3comp[0:9, i, j]\n",
    "                    bestparam[9:15, n, p] = data_3comp[9:15, i, j]\n",
    "                \n",
    "                    Image[n, p] = 3"
   ]
  },
  {
   "cell_type": "code",
   "execution_count": 249,
   "id": "3635a3c1",
   "metadata": {},
   "outputs": [
    {
     "data": {
      "image/png": "[encoded data removed]",
      "text/plain": [
       "<Figure size 1008x576 with 1 Axes>"
      ]
     },
     "metadata": {
      "needs_background": "light"
     },
     "output_type": "display_data"
    }
   ],
   "source": [
    "import matplotlib.cm as cm\n",
    "fig = plt.figure()\n",
    "ax2 = fig.add_subplot(121)\n",
    "ax2.imshow(Image, interpolation='nearest', cmap=cm.Greys_r)\n",
    "ax2.invert_yaxis()\n",
    "#plt.ylim(25,175)"
   ]
  },
  {
   "cell_type": "code",
   "execution_count": 250,
   "id": "de33cf98",
   "metadata": {
    "scrolled": false
   },
   "outputs": [
    {
     "data": {
      "image/png": "[encoded data removed]",
      "text/plain": [
       "<Figure size 1008x576 with 1 Axes>"
      ]
     },
     "metadata": {
      "needs_background": "light"
     },
     "output_type": "display_data"
    }
   ],
   "source": [
    "import matplotlib.cm as cm\n",
    "fig = plt.figure()\n",
    "ax2 = fig.add_subplot(121)\n",
    "ax2.imshow(Image, interpolation='nearest', cmap=cm.Greys_r)\n",
    "ax2.invert_yaxis()\n",
    "#plt.ylim(25,175)\n",
    "#plt.xlim(50, 175)\n",
    "\n",
    "#plt.ylim(80,120)\n",
    "#plt.xlim(100,110)"
   ]
  },
  {
   "cell_type": "code",
   "execution_count": 280,
   "id": "03a2601f",
   "metadata": {},
   "outputs": [],
   "source": [
    "Line_width_min = bestparam[0, :, :] * np.nan\n",
    "Vel_min_width = bestparam[0, :, :] * np.nan\n",
    "Amp_min = bestparam[0, :, :] * np.nan\n",
    "Image_min = np.zeros(shape=(zoom_size, zoom_size))\n",
    "width_narrow = 5\n",
    "overlaps = 0\n",
    "\n",
    "for i in range(zoom_size) : \n",
    "    \n",
    "    for j in range(zoom_size) :\n",
    "        \n",
    "        if Image[i, j] == 1.0 :\n",
    "            \n",
    "            if 7 < bestparam[1, i, j] < 9 and bestparam[2, i, j] < width_narrow :\n",
    "                \n",
    "                Line_width_min[i, j] = bestparam[2, i, j]\n",
    "                Vel_min_width[i, j] = bestparam[1, i, j]\n",
    "                Amp_min[i, j] = bestparam[0, i, j]\n",
    "                Image_min[i, j] = Image[i, j]\n",
    "                \n",
    "        if Image[i, j] == 2.0 :\n",
    "            \n",
    "            if 7 < bestparam[4, i, j] < 9 and bestparam[5, i, j] < width_narrow and bestparam[3, i, j] > bestparam[0, i, j] :\n",
    "                \n",
    "                Line_width_min[i, j] = bestparam[5, i, j]\n",
    "                Vel_min_width[i, j] = bestparam[4, i, j]\n",
    "                Amp_min[i, j] = bestparam[3, i, j]\n",
    "                Image_min[i, j] = Image[i, j]\n",
    "                \n",
    "                if 7 < bestparam[1, i, j] < 9 and bestparam[2, i, j] < width_narrow :\n",
    "                    \n",
    "                    overlaps +=1\n",
    "                \n",
    "        if Image[i, j] == 3.0 :\n",
    "            \n",
    "            if 7 < bestparam[4, i, j] < 9 and bestparam[5, i, j] < width_narrow and bestparam[3, i, j] > bestparam[0, i, j] :\n",
    "                \n",
    "                Line_width_min[i, j] = bestparam[5, i, j]\n",
    "                Vel_min_width[i, j] = bestparam[4, i, j]\n",
    "                Amp_min[i, j] = bestparam[3, i, j]\n",
    "                Image_min[i, j] = Image[i, j]\n",
    "                \n",
    "                if 7 < bestparam[7, i, j] < 9 and bestparam[8, i, j] < width_narrow and bestparam[6, i, j] > bestparam[3, i, j] :\n",
    "                    \n",
    "                    Line_width_min[i, j] = bestparam[8, i, j]\n",
    "                    Vel_min_width[i, j] = bestparam[7, i, j]\n",
    "                    Amp_min[i, j] = bestparam[6, i, j]\n",
    "                    \n",
    "                    overlaps +=1\n",
    "                    \n",
    "            elif 7 < bestparam[7, i, j] < 9 and bestparam[8, i, j] < width_narrow and bestparam[6, i, j] > bestparam[0, i, j] :\n",
    "                \n",
    "                Line_width_min[i, j] = bestparam[8, i, j]\n",
    "                Vel_min_width[i, j] = bestparam[7, i, j]\n",
    "                Amp_min[i, j] = bestparam[6, i, j]\n",
    "                Image_min[i, j] = Image[i, j]\n",
    "                \n",
    "                if 7 < bestparam[1, i, j] < 9 and bestparam[2, i, j] < width_narrow :\n",
    "                    \n",
    "                    overlaps +=1"
   ]
  },
  {
   "cell_type": "code",
   "execution_count": 252,
   "id": "4fc3e4b0",
   "metadata": {},
   "outputs": [
    {
     "data": {
      "text/plain": [
       "31"
      ]
     },
     "execution_count": 252,
     "metadata": {},
     "output_type": "execute_result"
    }
   ],
   "source": [
    "overlaps"
   ]
  },
  {
   "cell_type": "code",
   "execution_count": 519,
   "id": "498dd8ca",
   "metadata": {},
   "outputs": [],
   "source": [
    "Line_width_min_blue = bestparam[0, :, :] * np.nan\n",
    "Vel_min_width_blue = bestparam[0, :, :] * np.nan\n",
    "Amp_min_blue = bestparam[0, :, :] * np.nan\n",
    "Image_min_blue = np.zeros(shape=(zoom_size, zoom_size))\n",
    "width_narrow = 5\n",
    "vel_min = 7\n",
    "overlaps = 0\n",
    "\n",
    "for i in range(zoom_size) : \n",
    "    \n",
    "    for j in range(zoom_size) :\n",
    "        \n",
    "        if vel_min < bestparam[1, i, j] < vlsr and bestparam[2, i, j] < width_narrow :\n",
    "                \n",
    "            Line_width_min_blue[i, j] = bestparam[2, i, j]\n",
    "            Vel_min_width_blue[i, j] = bestparam[1, i, j]\n",
    "            Amp_min_blue[i, j] = bestparam[0, i, j]\n",
    "            Image_min_blue[i, j] = Image[i, j]\n",
    "                \n",
    "        if Image[i, j] == 2.0 :\n",
    "            \n",
    "            if vel_min < bestparam[4, i, j] < vlsr and bestparam[5, i, j] < width_narrow :\n",
    "                \n",
    "                if (bestparam[1, i, j] < vlsr and bestparam[4, i, j] > bestparam[1, i, j]) or bestparam[1, i, j] > vlsr :\n",
    "                \n",
    "                    Line_width_min_blue[i, j] = bestparam[5, i, j]\n",
    "                    Vel_min_width_blue[i, j] = bestparam[4, i, j]\n",
    "                    Amp_min_blue[i, j] = bestparam[3, i, j]\n",
    "                    Image_min_blue[i, j] = Image[i, j]\n",
    "                \n",
    "                    if vel_min < bestparam[1, i, j] < vlsr and bestparam[2, i, j] < width_narrow :\n",
    "                    \n",
    "                        overlaps +=1\n",
    "                \n",
    "        if Image[i, j] == 3.0 :\n",
    "            \n",
    "            if vel_min < bestparam[4, i, j] < vlsr and bestparam[5, i, j] < width_narrow :\n",
    "                \n",
    "                if (bestparam[1, i, j] < vlsr and bestparam[4, i, j] > bestparam[1, i, j]) or bestparam[1, i, j] > vlsr :\n",
    "                \n",
    "                    Line_width_min_blue[i, j] = bestparam[5, i, j]\n",
    "                    Vel_min_width_blue[i, j] = bestparam[4, i, j]\n",
    "                    Amp_min_blue[i, j] = bestparam[3, i, j]\n",
    "                    Image_min_blue[i, j] = Image[i, j]\n",
    "                \n",
    "                    if vel_min < bestparam[7, i, j] < vlsr and bestparam[8, i, j] < width_narrow and bestparam[7, i, j] > bestparam[1, i, j] :\n",
    "                    \n",
    "                        Line_width_min_blue[i, j] = bestparam[8, i, j]\n",
    "                        Vel_min_width_blue[i, j] = bestparam[7, i, j]\n",
    "                        Amp_min_blue[i, j] = bestparam[6, i, j]\n",
    "                    \n",
    "                    overlaps +=1\n",
    "                    \n",
    "            elif vel_min < bestparam[7, i, j] < vlsr and bestparam[8, i, j] < width_narrow :\n",
    "                \n",
    "                if (bestparam[1, i, j] < vlsr and bestparam[7, i, j] > bestparam[1, i, j]) or bestparam[1, i, j] > vlsr :\n",
    "                \n",
    "                    Line_width_min_blue[i, j] = bestparam[8, i, j]\n",
    "                    Vel_min_width_blue[i, j] = bestparam[7, i, j]\n",
    "                    Amp_min_blue[i, j] = bestparam[6, i, j]\n",
    "                    Image_min_blue[i, j] = Image[i, j]\n",
    "                \n",
    "                    if vel_min < bestparam[1, i, j] < vlsr and bestparam[2, i, j] < width_narrow :\n",
    "                    \n",
    "                        overlaps +=1"
   ]
  },
  {
   "cell_type": "code",
   "execution_count": 520,
   "id": "19957f40",
   "metadata": {},
   "outputs": [
    {
     "data": {
      "text/plain": [
       "99"
      ]
     },
     "execution_count": 520,
     "metadata": {},
     "output_type": "execute_result"
    }
   ],
   "source": [
    "overlaps"
   ]
  },
  {
   "cell_type": "code",
   "execution_count": 582,
   "id": "d4c47496",
   "metadata": {},
   "outputs": [],
   "source": [
    "Line_width_min_red = bestparam[0, :, :] * np.nan\n",
    "Vel_min_width_red = bestparam[0, :, :] * np.nan\n",
    "Amp_min_red = bestparam[0, :, :] * np.nan\n",
    "Image_min_red = np.zeros(shape=(zoom_size, zoom_size))\n",
    "width_narrow = 5\n",
    "vel_max = 9.4\n",
    "overlaps = 0\n",
    "\n",
    "for i in range(zoom_size) : \n",
    "    \n",
    "    for j in range(zoom_size) :\n",
    "        \n",
    "            \n",
    "        if vel_max > bestparam[1, i, j] > vlsr and bestparam[2, i, j] < width_narrow :\n",
    "                \n",
    "            Line_width_min_red[i, j] = bestparam[2, i, j]\n",
    "            Vel_min_width_red[i, j] = bestparam[1, i, j]\n",
    "            Amp_min_red[i, j] = bestparam[0, i, j]\n",
    "            Image_min_red[i, j] = Image[i, j]\n",
    "                \n",
    "        if Image[i, j] == 2.0 :\n",
    "            \n",
    "            if vel_max > bestparam[4, i, j] > vlsr and bestparam[5, i, j] < width_narrow :\n",
    "                \n",
    "                if (bestparam[1, i, j] > vlsr and bestparam[4, i, j] < bestparam[1, i, j]) or bestparam[1, i, j] < vlsr :\n",
    "                \n",
    "                    Line_width_min_red[i, j] = bestparam[5, i, j]\n",
    "                    Vel_min_width_red[i, j] = bestparam[4, i, j]\n",
    "                    Amp_min_red[i, j] = bestparam[3, i, j]\n",
    "                    Image_min_red[i, j] = Image[i, j]\n",
    "                \n",
    "                    if vel_max > bestparam[1, i, j] > vlsr and bestparam[2, i, j] < width_narrow :\n",
    "                    \n",
    "                        overlaps +=1\n",
    "                \n",
    "        if Image[i, j] == 3.0 :\n",
    "            \n",
    "            if vel_max > bestparam[4, i, j] > vlsr and bestparam[5, i, j] < width_narrow :\n",
    "                \n",
    "                if (bestparam[1, i, j] > vlsr and bestparam[4, i, j] < bestparam[1, i, j]) or bestparam[1, i, j] < vlsr :\n",
    "                \n",
    "                    Line_width_min_red[i, j] = bestparam[5, i, j]\n",
    "                    Vel_min_width_red[i, j] = bestparam[4, i, j]\n",
    "                    Amp_min_red[i, j] = bestparam[3, i, j]\n",
    "                    Image_min_red[i, j] = Image[i, j]\n",
    "                \n",
    "                    if vel_max > bestparam[7, i, j] > vlsr and bestparam[8, i, j] < width_narrow :\n",
    "                        \n",
    "                        if bestparam[7, i, j] < bestparam[4, i, j] :\n",
    "                    \n",
    "                            Line_width_min_red[i, j] = bestparam[8, i, j]\n",
    "                            Vel_min_width_red[i, j] = bestparam[7, i, j]\n",
    "                            Amp_min_red[i, j] = bestparam[6, i, j]\n",
    "                    \n",
    "                    overlaps +=1\n",
    "                    \n",
    "            elif vel_max > bestparam[7, i, j] > vlsr and bestparam[8, i, j] < width_narrow :\n",
    "                \n",
    "                if (bestparam[1, i, j] > vlsr and bestparam[7, i, j] < bestparam[1, i, j]) or bestparam[1, i, j] < vlsr :\n",
    "                \n",
    "                    Line_width_min_red[i, j] = bestparam[8, i, j]\n",
    "                    Vel_min_width_red[i, j] = bestparam[7, i, j]\n",
    "                    Amp_min_red[i, j] = bestparam[6, i, j]\n",
    "                    Image_min_red[i, j] = Image[i, j]\n",
    "                \n",
    "                    if vel_max > bestparam[1, i, j] > vlsr and bestparam[2, i, j] < width_narrow :\n",
    "                    \n",
    "                        overlaps +=1"
   ]
  },
  {
   "cell_type": "code",
   "execution_count": 417,
   "id": "a79b713a",
   "metadata": {},
   "outputs": [],
   "source": [
    "Line_width_min_red = bestparam[0, :, :] * np.nan\n",
    "Vel_min_width_red = bestparam[0, :, :] * np.nan\n",
    "Amp_min_red = bestparam[0, :, :] * np.nan\n",
    "Image_min_red = np.zeros(shape=(zoom_size, zoom_size))\n",
    "width_narrow = 1.4\n",
    "vel_max = 10\n",
    "overlaps = 0\n",
    "\n",
    "for i in range(zoom_size) : \n",
    "    \n",
    "    for j in range(zoom_size) :\n",
    "        \n",
    "            \n",
    "        if vel_max > bestparam[1, i, j] > vlsr:\n",
    "                \n",
    "            Line_width_min_red[i, j] = bestparam[2, i, j]\n",
    "            Vel_min_width_red[i, j] = bestparam[1, i, j]\n",
    "            Amp_min_red[i, j] = bestparam[0, i, j]\n",
    "            Image_min_red[i, j] = Image[i, j]\n",
    "                \n",
    "        if Image[i, j] == 2.0 :\n",
    "            \n",
    "            if vel_max > bestparam[4, i, j] > vlsr :\n",
    "                \n",
    "                if (bestparam[1, i, j] > vlsr and bestparam[4, i, j] < bestparam[1, i, j]) or bestparam[1, i, j] < vlsr :\n",
    "                \n",
    "                    Line_width_min_red[i, j] = bestparam[5, i, j]\n",
    "                    Vel_min_width_red[i, j] = bestparam[4, i, j]\n",
    "                    Amp_min_red[i, j] = bestparam[3, i, j]\n",
    "                    Image_min_red[i, j] = Image[i, j]\n",
    "                \n",
    "                    if vel_max > bestparam[1, i, j] > vlsr :\n",
    "                    \n",
    "                        overlaps +=1\n",
    "                \n",
    "        if Image[i, j] == 3.0 :\n",
    "            \n",
    "            if vel_max > bestparam[4, i, j] > vlsr :\n",
    "                \n",
    "                if (bestparam[1, i, j] > vlsr and bestparam[4, i, j] < bestparam[1, i, j]) or bestparam[1, i, j] < vlsr :\n",
    "                \n",
    "                    Line_width_min_red[i, j] = bestparam[5, i, j]\n",
    "                    Vel_min_width_red[i, j] = bestparam[4, i, j]\n",
    "                    Amp_min_red[i, j] = bestparam[3, i, j]\n",
    "                    Image_min_red[i, j] = Image[i, j]\n",
    "                \n",
    "                    if vel_max > bestparam[7, i, j] > vlsr :\n",
    "                        \n",
    "                        if bestparam[7, i, j] < bestparam[4, i, j] :\n",
    "                    \n",
    "                            Line_width_min_red[i, j] = bestparam[8, i, j]\n",
    "                            Vel_min_width_red[i, j] = bestparam[7, i, j]\n",
    "                            Amp_min_red[i, j] = bestparam[6, i, j]\n",
    "                    \n",
    "                    overlaps +=1\n",
    "                    \n",
    "            elif vel_max > bestparam[7, i, j] > vlsr :\n",
    "                \n",
    "                if (bestparam[1, i, j] > vlsr and bestparam[7, i, j] < bestparam[1, i, j]) or bestparam[1, i, j] < vlsr :\n",
    "                \n",
    "                    Line_width_min_red[i, j] = bestparam[8, i, j]\n",
    "                    Vel_min_width_red[i, j] = bestparam[7, i, j]\n",
    "                    Amp_min_red[i, j] = bestparam[6, i, j]\n",
    "                    Image_min_red[i, j] = Image[i, j]\n",
    "                \n",
    "                    if vel_max > bestparam[1, i, j] > vlsr :\n",
    "                    \n",
    "                        overlaps +=1"
   ]
  },
  {
   "cell_type": "code",
   "execution_count": 522,
   "id": "ff6aeda7",
   "metadata": {},
   "outputs": [
    {
     "data": {
      "text/plain": [
       "29"
      ]
     },
     "execution_count": 522,
     "metadata": {},
     "output_type": "execute_result"
    }
   ],
   "source": [
    "overlaps"
   ]
  },
  {
   "cell_type": "code",
   "execution_count": 258,
   "id": "18c37456",
   "metadata": {},
   "outputs": [],
   "source": [
    "Line_width_max = bestparam[0, :, :] * np.nan\n",
    "Vel_max_width = bestparam[0, :, :] * np.nan\n",
    "Amp_max = bestparam[0, :, :] * np.nan\n",
    "Image_max = np.zeros(shape=(zoom_size, zoom_size))\n",
    "width_broad = 0.8\n",
    "\n",
    "for i in range(zoom_size) : \n",
    "    \n",
    "    for j in range(zoom_size) :\n",
    "            \n",
    "        if bestparam[2, i, j] > width_broad and 10 > bestparam[1, i, j] > 7 :\n",
    "                \n",
    "            Line_width_max[i, j] = bestparam[2, i, j]\n",
    "            Vel_max_width[i, j] = bestparam[1, i, j]\n",
    "            Amp_max[i, j] = bestparam[0, i, j]\n",
    "            Image_max[i, j] = Image[i, j]\n",
    "            \n",
    "        if Image[i, j] == 2.0 :\n",
    "            \n",
    "            if bestparam[5, i, j] > width_broad and 10 > bestparam[4, i, j] > 7 and bestparam[3, i, j] > bestparam[0, i, j] :\n",
    "                \n",
    "                Line_width_max[i, j] = bestparam[5, i, j]\n",
    "                Vel_max_width[i, j] = bestparam[4, i, j]\n",
    "                Amp_max[i, j] = bestparam[3, i, j]\n",
    "                Image_max[i, j] = Image[i, j]\n",
    "                \n",
    "        if Image[i, j] == 3.0 :\n",
    "            \n",
    "            if bestparam[5, i, j] > width_broad and 10 > bestparam[4, i, j] > 7 and bestparam[3, i, j] > bestparam[0, i, j] :\n",
    "                \n",
    "                Line_width_max[i, j] = bestparam[5, i, j]\n",
    "                Vel_max_width[i, j] = bestparam[4, i, j]\n",
    "                Amp_max[i, j] = bestparam[3, i, j]\n",
    "                Image_max[i, j] = Image[i, j]\n",
    "                \n",
    "                if bestparam[8, i, j] > width_broad and 10 > bestparam[7, i, j] > 7 and bestparam[6, i, j] > bestparam[3, i, j] :\n",
    "                \n",
    "                    Line_width_max[i, j] = bestparam[8, i, j]\n",
    "                    Vel_max_width[i, j] = bestparam[7, i, j]\n",
    "                    Amp_max[i, j] = bestparam[6, i, j]\n",
    "                    Image_max[i, j] = Image[i, j]\n",
    "                \n",
    "            elif bestparam[8, i, j] > width_broad and 10 > bestparam[7, i, j] > 7 and bestparam[6, i, j] > bestparam[0, i, j] :\n",
    "                \n",
    "                Line_width_max[i, j] = bestparam[8, i, j]\n",
    "                Vel_max_width[i, j] = bestparam[7, i, j]\n",
    "                Amp_max[i, j] = bestparam[6, i, j]\n",
    "                Image_max[i, j] = Image[i, j]"
   ]
  },
  {
   "cell_type": "code",
   "execution_count": 406,
   "id": "d0b59cf2",
   "metadata": {},
   "outputs": [],
   "source": [
    "Line_width_max_blue = bestparam[0, :, :] * np.nan\n",
    "Vel_max_width_blue = bestparam[0, :, :] * np.nan\n",
    "Amp_max_blue = bestparam[0, :, :] * np.nan\n",
    "Image_max_blue = np.zeros(shape=(zoom_size, zoom_size))\n",
    "width_narrow = 1\n",
    "vel_max = 7\n",
    "overlaps = 0\n",
    "\n",
    "for i in range(zoom_size) : \n",
    "    \n",
    "    for j in range(zoom_size) :\n",
    "        \n",
    "            \n",
    "        if vel_max < bestparam[1, i, j] < vlsr and bestparam[2, i, j] > width_narrow :\n",
    "                \n",
    "            Line_width_max_blue[i, j] = bestparam[2, i, j]\n",
    "            Vel_max_width_blue[i, j] = bestparam[1, i, j]\n",
    "            Amp_max_blue[i, j] = bestparam[0, i, j]\n",
    "            Image_max_blue[i, j] = Image[i, j]\n",
    "                \n",
    "        if Image[i, j] == 2.0 :\n",
    "            \n",
    "            if vel_max < bestparam[4, i, j] < vlsr and bestparam[5, i, j] > width_narrow :\n",
    "                \n",
    "                if (bestparam[1, i, j] < vlsr and bestparam[4, i, j] > bestparam[1, i, j]) or bestparam[1, i, j] > vlsr :\n",
    "                \n",
    "                    Line_width_max_blue[i, j] = bestparam[5, i, j]\n",
    "                    Vel_max_width_blue[i, j] = bestparam[4, i, j]\n",
    "                    Amp_max_blue[i, j] = bestparam[3, i, j]\n",
    "                    Image_max_blue[i, j] = Image[i, j]\n",
    "                \n",
    "                    if vel_max < bestparam[1, i, j] < vlsr and bestparam[2, i, j] > width_narrow :\n",
    "                    \n",
    "                        overlaps +=1\n",
    "                \n",
    "        if Image[i, j] == 3.0 :\n",
    "            \n",
    "            if vel_max < bestparam[4, i, j] < vlsr and bestparam[5, i, j] > width_narrow :\n",
    "                \n",
    "                if (bestparam[1, i, j] < vlsr and bestparam[4, i, j] > bestparam[1, i, j]) or bestparam[1, i, j] > vlsr :\n",
    "                \n",
    "                    Line_width_max_blue[i, j] = bestparam[5, i, j]\n",
    "                    Vel_max_width_blue[i, j] = bestparam[4, i, j]\n",
    "                    Amp_max_blue[i, j] = bestparam[3, i, j]\n",
    "                    Image_max_blue[i, j] = Image[i, j]\n",
    "                \n",
    "                    if vel_max < bestparam[7, i, j] < vlsr and bestparam[8, i, j] > width_narrow and bestparam[7, i, j] > bestparam[1, i, j] :\n",
    "                    \n",
    "                        Line_width_max_blue[i, j] = bestparam[8, i, j]\n",
    "                        Vel_max_width_blue[i, j] = bestparam[7, i, j]\n",
    "                        Amp_max_blue[i, j] = bestparam[6, i, j]\n",
    "                    \n",
    "                    overlaps +=1\n",
    "                    \n",
    "            elif vel_max < bestparam[7, i, j] < vlsr and bestparam[8, i, j] > width_narrow :\n",
    "                \n",
    "                if (bestparam[1, i, j] < vlsr and bestparam[7, i, j] > bestparam[1, i, j]) or bestparam[1, i, j] > vlsr :\n",
    "                \n",
    "                    Line_width_max_blue[i, j] = bestparam[8, i, j]\n",
    "                    Vel_max_width_blue[i, j] = bestparam[7, i, j]\n",
    "                    Amp_max_blue[i, j] = bestparam[6, i, j]\n",
    "                    Image_max_blue[i, j] = Image[i, j]\n",
    "                \n",
    "                    if vel_max < bestparam[1, i, j] < vlsr and bestparam[2, i, j] > width_narrow :\n",
    "                    \n",
    "                        overlaps +=1"
   ]
  },
  {
   "cell_type": "code",
   "execution_count": 407,
   "id": "803ede2d",
   "metadata": {},
   "outputs": [
    {
     "data": {
      "text/plain": [
       "27"
      ]
     },
     "execution_count": 407,
     "metadata": {},
     "output_type": "execute_result"
    }
   ],
   "source": [
    "overlaps"
   ]
  },
  {
   "cell_type": "code",
   "execution_count": 400,
   "id": "effe83bc",
   "metadata": {},
   "outputs": [],
   "source": [
    "Line_width_max_red = bestparam[0, :, :] * np.nan\n",
    "Vel_max_width_red = bestparam[0, :, :] * np.nan\n",
    "Amp_max_red = bestparam[0, :, :] * np.nan\n",
    "Image_max_red = np.zeros(shape=(zoom_size, zoom_size))\n",
    "width_narrow = 1\n",
    "vel_max = 10\n",
    "overlaps = 0\n",
    "\n",
    "for i in range(zoom_size) : \n",
    "    \n",
    "    for j in range(zoom_size) :\n",
    "        \n",
    "            \n",
    "        if vel_max > bestparam[1, i, j] > vlsr and bestparam[2, i, j] > width_narrow :\n",
    "                \n",
    "            Line_width_max_red[i, j] = bestparam[2, i, j]\n",
    "            Vel_max_width_red[i, j] = bestparam[1, i, j]\n",
    "            Amp_max_red[i, j] = bestparam[0, i, j]\n",
    "            Image_max_red[i, j] = Image[i, j]\n",
    "                \n",
    "        if Image[i, j] == 2.0 :\n",
    "            \n",
    "            if vel_max > bestparam[4, i, j] > vlsr and bestparam[5, i, j] > width_narrow :\n",
    "                \n",
    "                if (bestparam[1, i, j] > vlsr and bestparam[4, i, j] < bestparam[1, i, j]) or bestparam[1, i, j] < vlsr :\n",
    "                \n",
    "                    Line_width_max_red[i, j] = bestparam[5, i, j]\n",
    "                    Vel_max_width_red[i, j] = bestparam[4, i, j]\n",
    "                    Amp_max_red[i, j] = bestparam[3, i, j]\n",
    "                    Image_max_red[i, j] = Image[i, j]\n",
    "                \n",
    "                    if vel_max > bestparam[1, i, j] > vlsr and bestparam[2, i, j] > width_narrow :\n",
    "                    \n",
    "                        overlaps +=1\n",
    "                \n",
    "        if Image[i, j] == 3.0 :\n",
    "            \n",
    "            if vel_max > bestparam[4, i, j] > vlsr and bestparam[5, i, j] > width_narrow :\n",
    "                \n",
    "                if (bestparam[1, i, j] > vlsr and bestparam[4, i, j] < bestparam[1, i, j]) or bestparam[1, i, j] < vlsr :\n",
    "                \n",
    "                    Line_width_max_red[i, j] = bestparam[5, i, j]\n",
    "                    Vel_max_width_red[i, j] = bestparam[4, i, j]\n",
    "                    Amp_max_red[i, j] = bestparam[3, i, j]\n",
    "                    Image_max_red[i, j] = Image[i, j]\n",
    "                \n",
    "                    if vel_max > bestparam[7, i, j] > vlsr and bestparam[8, i, j] > width_narrow :\n",
    "                        \n",
    "                        if bestparam[7, i, j] < bestparam[4, i, j] :\n",
    "                    \n",
    "                            Line_width_max_red[i, j] = bestparam[8, i, j]\n",
    "                            Vel_max_width_red[i, j] = bestparam[7, i, j]\n",
    "                            Amp_max_red[i, j] = bestparam[6, i, j]\n",
    "                    \n",
    "                    overlaps +=1\n",
    "                    \n",
    "            elif vel_max > bestparam[7, i, j] > vlsr and bestparam[8, i, j] > width_narrow :\n",
    "                \n",
    "                if (bestparam[1, i, j] > vlsr and bestparam[7, i, j] < bestparam[1, i, j]) or bestparam[1, i, j] < vlsr :\n",
    "                \n",
    "                    Line_width_max_red[i, j] = bestparam[8, i, j]\n",
    "                    Vel_max_width_red[i, j] = bestparam[7, i, j]\n",
    "                    Amp_max_red[i, j] = bestparam[6, i, j]\n",
    "                    Image_max_red[i, j] = Image[i, j]\n",
    "                \n",
    "                    if vel_max > bestparam[1, i, j] > vlsr and bestparam[2, i, j] > width_narrow :\n",
    "                    \n",
    "                        overlaps +=1"
   ]
  },
  {
   "cell_type": "code",
   "execution_count": 262,
   "id": "ab0c4a72",
   "metadata": {},
   "outputs": [
    {
     "data": {
      "text/plain": [
       "20"
      ]
     },
     "execution_count": 262,
     "metadata": {},
     "output_type": "execute_result"
    }
   ],
   "source": [
    "overlaps"
   ]
  },
  {
   "cell_type": "code",
   "execution_count": 263,
   "id": "b448eed3",
   "metadata": {},
   "outputs": [],
   "source": [
    "Line_width_other = bestparam[0, :, :] * np.nan\n",
    "Vel_other_width = bestparam[0, :, :] * np.nan\n",
    "Amp_other = bestparam[0, :, :] * np.nan\n",
    "Image_other = np.zeros(shape=(zoom_size, zoom_size))\n",
    "width_other = 0.8\n",
    "\n",
    "for i in range(zoom_size) : \n",
    "    \n",
    "    for j in range(zoom_size) :\n",
    "            \n",
    "        if bestparam[2, i, j] != Line_width_max[i, j] and bestparam[2, i, j] != Line_width_min_blue[i, j] and bestparam[2, i, j] != Line_width_min_red[i, j] :\n",
    "                \n",
    "            Line_width_other[i, j] = bestparam[2, i, j]\n",
    "            Vel_other_width[i, j] = bestparam[1, i, j]\n",
    "            Amp_other[i, j] = bestparam[0, i, j]\n",
    "            Image_other[i, j] = Image[i, j]\n",
    "            \n",
    "        if Image[i, j] == 2.0 :\n",
    "            \n",
    "            if bestparam[5, i, j] != Line_width_max[i, j] and bestparam[5, i, j] != Line_width_min_blue[i, j] and bestparam[5, i, j] != Line_width_min_red[i, j] and bestparam[3, i, j] > bestparam[0, i, j] :\n",
    "                \n",
    "                Line_width_other[i, j] = bestparam[5, i, j]\n",
    "                Vel_other_width[i, j] = bestparam[4, i, j]\n",
    "                Amp_other[i, j] = bestparam[3, i, j]\n",
    "                Image_other[i, j] = Image[i, j]\n",
    "                \n",
    "        if Image[i, j] == 3.0 :\n",
    "            \n",
    "            if bestparam[5, i, j] != Line_width_max[i, j] and bestparam[5, i, j] != Line_width_min_blue[i, j] and bestparam[5, i, j] != Line_width_min_red[i, j] and bestparam[3, i, j] > bestparam[0, i, j] :\n",
    "                \n",
    "                Line_width_other[i, j] = bestparam[5, i, j]\n",
    "                Vel_other_width[i, j] = bestparam[4, i, j]\n",
    "                Amp_other[i, j] = bestparam[3, i, j]\n",
    "                Image_other[i, j] = Image[i, j]\n",
    "                \n",
    "                if bestparam[8, i, j] != Line_width_max[i, j] and bestparam[8, i, j] != Line_width_min_blue[i, j] and bestparam[8, i, j] != Line_width_min_red[i, j] and bestparam[6, i, j] > bestparam[3, i, j] :\n",
    "                \n",
    "                    Line_width_other[i, j] = bestparam[8, i, j]\n",
    "                    Vel_other_width[i, j] = bestparam[7, i, j]\n",
    "                    Amp_other[i, j] = bestparam[6, i, j]\n",
    "                    Image_other[i, j] = Image[i, j]\n",
    "                \n",
    "            elif bestparam[8, i, j] != Line_width_max[i, j] and bestparam[8, i, j] != Line_width_min_blue[i, j] and bestparam[8, i, j] != Line_width_min_red[i, j] and bestparam[6, i, j] > bestparam[0, i, j] :\n",
    "                \n",
    "                Line_width_other[i, j] = bestparam[8, i, j]\n",
    "                Vel_other_width[i, j] = bestparam[7, i, j]\n",
    "                Amp_other[i, j] = bestparam[6, i, j]\n",
    "                Image_other[i, j] = Image[i, j]"
   ]
  },
  {
   "cell_type": "code",
   "execution_count": 264,
   "id": "d58bbe8a",
   "metadata": {},
   "outputs": [],
   "source": [
    "file_dv_SO_min_width_blue = 'Documents/SO/B335_SO_vlsr_5snr_min_width_blue.fits'\n",
    "file_dv_SO_min_width_red = 'Documents/SO/B335_SO_vlsr_5snr_min_width_red.fits'\n",
    "file_vc_SO_min_vel_blue = 'Documents/SO/B335_SO_vlsr_5snr_min_vel_blue.fits'\n",
    "file_vc_SO_min_vel_red = 'Documents/SO/B335_SO_vlsr_5snr_min_vel_red.fits'\n",
    "\n",
    "file_dv_SO_max_width_blue = 'Documents/SO/B335_SO_vlsr_5snr_max_width_blue.fits'\n",
    "file_dv_SO_max_width_red = 'Documents/SO/B335_SO_vlsr_5snr_max_width_red.fits'\n",
    "file_vc_SO_max_vel_blue = 'Documents/SO/B335_SO_vlsr_5snr_max_vel_blue.fits'\n",
    "file_vc_SO_max_vel_red = 'Documents/SO/B335_SO_vlsr_5snr_max_vel_red.fits'\n",
    "\n",
    "\n",
    "file_dv_SO_max_width = 'Documents/SO/B335_SO_vlsr_5snr_max_width.fits'\n",
    "file_vc_SO_min_vel = 'Documents/SO/B335_SO_vlsr_5snr_min_vel.fits'\n",
    "file_vc_SO_max_vel = 'Documents/SO/B335_SO_vlsr_5snr_max_vel.fits'\n",
    "file_Image = 'Documents/SO/B335_SO_howmanycomp.fits'\n",
    "file_Image_max = 'Documents/SO/B335_SO_howmanycomp_broad.fits'\n",
    "file_Image_min = 'Documents/SO/B335_SO_howmanycomp_narrow.fits'\n",
    "\n",
    "file_dv_SO_other_width = 'Documents/SO/B335_SO_vlsr_5snr_other_width.fits'\n",
    "file_vc_SO_other_vel = 'Documents/SO/B335_SO_vlsr_5snr_other_vel.fits'\n",
    "file_Image_other = 'Documents/SO/B335_SO_howmanycomp_other.fits'"
   ]
  },
  {
   "cell_type": "code",
   "execution_count": 583,
   "id": "4a84cfed",
   "metadata": {},
   "outputs": [],
   "source": [
    "file = 'Documents/SO/Spec_SO_fit_5snr_3comp_test.fits'\n",
    "file_par = 'Documents/SO/Spec_SO_fit_5snr_3comp_014kms copie.fits'\n",
    "data, hd = fits.getdata(file_par, header=True)\n",
    "hd_2d = hd.copy()\n",
    "key_list = ['NAXIS3', 'CRPIX3', 'SPECSYS', 'CDELT3', 'CUNIT3', 'CTYPE3', 'CRVAL3']\n",
    "for key_i in key_list:\n",
    "    hd_2d.remove(key_i)\n",
    "hd_2d['NAXIS'] = 2\n",
    "hd_2d['WCSAXES'] = 2\n",
    "hd_2d['BITPIX'] = 8\n",
    "hd_2d['BUNIT'] = 'km/s'\n",
    "\n",
    "data[:,:,:] = 0.0\n",
    "\n",
    "for n in range(zoom_size) : \n",
    "    \n",
    "    i = n + 500\n",
    "    \n",
    "    for p in range(zoom_size) :\n",
    "        \n",
    "        j = p + 500\n",
    "        \n",
    "        data[9, i, j] = Image[n, p]\n",
    "        \n",
    "        data[10, i, j] = Line_width_max_red[n, p]\n",
    "        \n",
    "        \n",
    "        \n",
    "            \n",
    "        data[8,i,j] = Vel_min_width_blue[n, p]\n",
    "        data[7,i,j] = Vel_min_width_red[n, p]\n",
    "        \n",
    "        data[4,i,j] = Line_width_other[n, p]\n",
    "        data[3,i,j] = Vel_other_width[n, p]\n",
    "        \n",
    "            \n",
    "        data[2,i,j] = Vel_max_width_blue[n, p]\n",
    "        data[1,i,j] = Vel_max_width_red[n, p]\n",
    "        \n",
    "        data[6,i,j] = Line_width_min_blue[n, p]\n",
    "        data[5,i,j] = Line_width_min_red[n, p]\n",
    "\n",
    "            \n",
    "fits.writeto(file_vc_SO_other_vel, np.squeeze(data[3, :, :]), hd_2d, overwrite=True)    \n",
    "fits.writeto(file_dv_SO_other_width, np.squeeze(data[4, :, :]), hd_2d, overwrite=True)  \n",
    "\n",
    "fits.writeto(file_dv_SO_min_width_blue, np.squeeze(data[6, :, :]), hd_2d, overwrite=True)\n",
    "fits.writeto(file_dv_SO_min_width_red, np.squeeze(data[5, :, :]), hd_2d, overwrite=True)\n",
    "\n",
    "fits.writeto(file_dv_SO_max_width_red, np.squeeze(data[10, :, :]), hd_2d, overwrite=True)\n",
    "\n",
    "fits.writeto(file_vc_SO_min_vel_blue, np.squeeze(data[8,:,:]), hd_2d, overwrite=True)\n",
    "fits.writeto(file_vc_SO_min_vel_red, np.squeeze(data[7,:,:]), hd_2d, overwrite=True)\n",
    "\n",
    "fits.writeto(file_vc_SO_max_vel_blue, np.squeeze(data[2,:,:]), hd_2d, overwrite=True)\n",
    "fits.writeto(file_vc_SO_max_vel_red, np.squeeze(data[1,:,:]), hd_2d, overwrite=True)\n"
   ]
  },
  {
   "cell_type": "code",
   "execution_count": 425,
   "id": "84877e9c",
   "metadata": {},
   "outputs": [
    {
     "data": {
      "image/png": "[encoded data removed]",
      "text/plain": [
       "<Figure size 1008x576 with 1 Axes>"
      ]
     },
     "metadata": {
      "needs_background": "light"
     },
     "output_type": "display_data"
    }
   ],
   "source": [
    "import matplotlib.cm as cm\n",
    "from mpl_toolkits.axes_grid1 import make_axes_locatable\n",
    "\n",
    "fig = plt.figure()\n",
    "ax2 = fig.add_subplot(122)\n",
    "ax2.imshow(Vel_min_width_red, interpolation='nearest', cmap=cm.RdYlBu_r)\n",
    "ax2.invert_yaxis()\n",
    "#plt.ylim(85,90)\n",
    "#plt.xlim(110, 125)\n",
    "\n",
    "#plt.ylim(80,100)\n",
    "#plt.xlim(100,120)"
   ]
  },
  {
   "cell_type": "code",
   "execution_count": 395,
   "id": "84916397",
   "metadata": {},
   "outputs": [
    {
     "data": {
      "text/plain": [
       "array([1.37247152e-02, 7.12057972e+00, 1.53749432e+00, 1.08213949e-02,\n",
       "       8.21305039e+00, 6.36280675e-01, 2.39868922e-03, 1.05205850e+01,\n",
       "       5.10704553e-01, 1.35088403e-03, 2.72740770e-01, 1.17759766e-01,\n",
       "       2.64732299e-03, 4.99780024e-02, 9.29023620e-02])"
      ]
     },
     "execution_count": 395,
     "metadata": {},
     "output_type": "execute_result"
    }
   ],
   "source": [
    "bestparam[:,88,120]"
   ]
  },
  {
   "cell_type": "code",
   "execution_count": 270,
   "id": "a29c6e5f",
   "metadata": {},
   "outputs": [
    {
     "data": {
      "text/plain": [
       "[<matplotlib.lines.Line2D at 0x7fdf8162ab50>]"
      ]
     },
     "execution_count": 270,
     "metadata": {},
     "output_type": "execute_result"
    },
    {
     "data": {
      "image/png": "[encoded data removed]",
      "text/plain": [
       "<Figure size 1008x576 with 1 Axes>"
      ]
     },
     "metadata": {
      "needs_background": "light"
     },
     "output_type": "display_data"
    }
   ],
   "source": [
    "plt.plot(Cube.spectral_axis.value, Gaussian(Cube.spectral_axis.value, bestparam[0,90,109], bestparam[1,90,109], bestparam[2,90,109]))\n",
    "plt.plot(Cube.spectral_axis.value, Gaussian(Cube.spectral_axis.value, bestparam[3,90,109], bestparam[4,90,109], bestparam[5,90,109]))\n",
    "plt.plot(Cube.spectral_axis.value, Gaussian(Cube.spectral_axis.value, bestparam[6,90,109], bestparam[7,90,109], bestparam[8,90,109]))"
   ]
  },
  {
   "cell_type": "code",
   "execution_count": 305,
   "id": "ba329fac",
   "metadata": {},
   "outputs": [],
   "source": [
    "cleaned_min_width = []\n",
    "cleaned_max_width = []\n",
    "cleaned_min_vel = []\n",
    "cleaned_max_vel = []\n",
    "\n",
    "for i in range(len(Line_width_max)) :\n",
    "    \n",
    "    for j in range(len(Line_width_max)) :\n",
    "        \n",
    "        if np.isnan(Line_width_min[i, j]) == False :\n",
    "            \n",
    "            cleaned_min_width.append(np.abs(Line_width_min[i, j]))\n",
    "        \n",
    "        if np.isnan(Line_width_max[i, j]) == False :\n",
    "            \n",
    "            cleaned_max_width.append(np.abs(Line_width_max[i, j]))\n",
    "            \n",
    "        if np.isnan(Vel_max_width[i, j]) == False :\n",
    "            \n",
    "            cleaned_max_vel.append(np.abs(Vel_max_width[i, j]))\n",
    "            \n",
    "        if np.isnan(Vel_min_width[i, j]) == False :\n",
    "            \n",
    "            cleaned_min_vel.append(np.abs(Vel_min_width[i, j]))"
   ]
  },
  {
   "cell_type": "code",
   "execution_count": 306,
   "id": "3c586ade",
   "metadata": {},
   "outputs": [],
   "source": [
    "kde = gaussian_kde(cleaned_min_width)"
   ]
  },
  {
   "cell_type": "code",
   "execution_count": 308,
   "id": "e174cda8",
   "metadata": {},
   "outputs": [
    {
     "data": {
      "text/plain": [
       "[<matplotlib.lines.Line2D at 0x7fdf80ab3490>]"
      ]
     },
     "execution_count": 308,
     "metadata": {},
     "output_type": "execute_result"
    },
    {
     "data": {
      "image/png": "[encoded data removed]",
      "text/plain": [
       "<Figure size 1008x576 with 1 Axes>"
      ]
     },
     "metadata": {
      "needs_background": "light"
     },
     "output_type": "display_data"
    }
   ],
   "source": [
    "t = np.linspace(-0.5,3,100)\n",
    "\n",
    "plt.plot(t,kde.pdf(t))"
   ]
  },
  {
   "cell_type": "code",
   "execution_count": 309,
   "id": "710bff2c",
   "metadata": {},
   "outputs": [
    {
     "data": {
      "text/plain": [
       "<matplotlib.lines.Line2D at 0x7fdf7e7d27c0>"
      ]
     },
     "execution_count": 309,
     "metadata": {},
     "output_type": "execute_result"
    },
    {
     "data": {
      "image/png": "[encoded data removed]",
      "text/plain": [
       "<Figure size 1008x576 with 1 Axes>"
      ]
     },
     "metadata": {
      "needs_background": "light"
     },
     "output_type": "display_data"
    }
   ],
   "source": [
    "s = pd.Series(cleaned_min_width)\n",
    "#t = pd.Series(cleaned_max_width)\n",
    "s.plot.kde()\n",
    "#t.plot.kde()\n",
    "plt.axvline(1.4, linestyle = 'dashed')"
   ]
  },
  {
   "cell_type": "code",
   "execution_count": 551,
   "id": "d7970d5c",
   "metadata": {},
   "outputs": [
    {
     "data": {
      "image/png": "[encoded data removed]",
      "text/plain": [
       "<Figure size 1008x576 with 1 Axes>"
      ]
     },
     "metadata": {
      "needs_background": "light"
     },
     "output_type": "display_data"
    }
   ],
   "source": [
    "fig = plt.figure()\n",
    "\n",
    "#ax = fig.add_subplot(221)\n",
    "#ax.imshow(Line_width_max, cmap=cm.Reds)\n",
    "#ax.invert_yaxis()\n",
    "#ax2 = fig.add_subplot(223)\n",
    "#ax2.imshow(Line_width_min, cmap=cm.Reds)\n",
    "#ax2.invert_yaxis()\n",
    "\n",
    "ax3 = fig.add_subplot(222)\n",
    "ax3.imshow(Vel_min_width, cmap=cm.RdYlBu_r)\n",
    "ax3.invert_yaxis()\n",
    "\n",
    "plt.tight_layout()"
   ]
  },
  {
   "cell_type": "code",
   "execution_count": 574,
   "id": "2af2139a",
   "metadata": {},
   "outputs": [
    {
     "name": "stdout",
     "output_type": "stream",
     "text": [
      "84 111\n",
      "86 111\n",
      "86 112\n",
      "86 113\n",
      "91 104\n",
      "91 105\n",
      "92 101\n",
      "92 102\n",
      "92 104\n",
      "93 103\n",
      "95 118\n",
      "97 105\n",
      "127 112\n"
     ]
    }
   ],
   "source": [
    "width = []\n",
    "\n",
    "for i in range(zoom_size) :\n",
    "    \n",
    "    for j in range(zoom_size) :\n",
    "        \n",
    "        if Image[i, j] == 1.0 :\n",
    "            \n",
    "            if bestparam[2, i, j] > 2 :\n",
    "                \n",
    "                width.append(bestparam[2, i, j])\n",
    "                print(i, j)\n",
    "                \n",
    "        elif Image[i, j] == 2.0 :\n",
    "            \n",
    "            if bestparam[2, i, j] > 2 :\n",
    "                \n",
    "                width.append(bestparam[2, i, j])\n",
    "                print(i, j)\n",
    "                \n",
    "            if bestparam[5, i, j] > 2 :\n",
    "                \n",
    "                width.append(bestparam[5, i, j])\n",
    "                print(i, j)\n",
    "                \n",
    "        elif Image[i, j] == 3.0 :\n",
    "            \n",
    "            if bestparam[2, i, j] > 2 :\n",
    "                \n",
    "                width.append(bestparam[2, i, j])\n",
    "                print(i, j)\n",
    "                \n",
    "            if bestparam[5, i, j] > 2 :\n",
    "                \n",
    "                width.append(bestparam[5, i, j])\n",
    "                print(i, j)\n",
    "                \n",
    "            if bestparam[8, i, j] > 2 :\n",
    "                \n",
    "                width.append(bestparam[8, i, j])\n",
    "                print(i, j)"
   ]
  },
  {
   "cell_type": "code",
   "execution_count": 555,
   "id": "9a5c9e10",
   "metadata": {},
   "outputs": [
    {
     "data": {
      "text/plain": [
       "[5.740118224486489]"
      ]
     },
     "execution_count": 555,
     "metadata": {},
     "output_type": "execute_result"
    }
   ],
   "source": [
    "width"
   ]
  },
  {
   "cell_type": "code",
   "execution_count": 275,
   "id": "213e96b3",
   "metadata": {},
   "outputs": [],
   "source": [
    "data = np.zeros(shape=(170, 1200, 1200))\n",
    "\n",
    "for n in range(zoom_size) :\n",
    "    \n",
    "    i = n + i_zoom\n",
    "    \n",
    "    for p in range(zoom_size) :\n",
    "        \n",
    "        j = p + j_zoom\n",
    "        \n",
    "        if Image[n, p] == 1.0 :\n",
    "            \n",
    "            data[:, i, j] =  Gaussian(Cube.spectral_axis.value, \n",
    "                                      A=bestparam[0, n, p], \n",
    "                                      mu=bestparam[1, n, p], \n",
    "                                      width=bestparam[2, n, p])\n",
    "            \n",
    "        elif Image[n, p] == 2.0 :\n",
    "            \n",
    "            data[:, i, j] =  Gaussian_2comp(Cube.spectral_axis.value, \n",
    "                                      A1=bestparam[0, n, p], \n",
    "                                      mu1=bestparam[1, n, p], \n",
    "                                      width1=bestparam[2, n, p],\n",
    "                                      A2=bestparam[3, n, p], \n",
    "                                      mu2=bestparam[4, n, p], \n",
    "                                      width2=bestparam[5, n, p])\n",
    "            \n",
    "        elif Image[n, p] == 3.0 :\n",
    "            \n",
    "            data[:, i, j] =  Gaussian_3comp(Cube.spectral_axis.value, \n",
    "                                      A1=bestparam[0, n, p], \n",
    "                                      mu1=bestparam[1, n, p], \n",
    "                                      width1=bestparam[2, n, p],\n",
    "                                      A2=bestparam[3, n, p], \n",
    "                                      mu2=bestparam[4, n, p], \n",
    "                                      width2=bestparam[5, n, p],\n",
    "                                      A3=bestparam[6, n, p], \n",
    "                                      mu3=bestparam[7, n, p], \n",
    "                                      width3=bestparam[8, n, p])"
   ]
  },
  {
   "cell_type": "code",
   "execution_count": 276,
   "id": "8221d6f0",
   "metadata": {},
   "outputs": [],
   "source": [
    "data = Gaussian(Cube.spectral_axis.value, A=data_1comp[0,600,600], mu =data_1comp[1,600,600], width=data_1comp[2,600,600])"
   ]
  },
  {
   "cell_type": "code",
   "execution_count": 277,
   "id": "bae59289",
   "metadata": {},
   "outputs": [],
   "source": [
    "wcs = WCS(file_cube)"
   ]
  },
  {
   "cell_type": "code",
   "execution_count": 393,
   "id": "7d8604e6",
   "metadata": {},
   "outputs": [],
   "source": [
    "#Cube_test = SpectralCube(data=data, wcs=wcs)"
   ]
  },
  {
   "cell_type": "code",
   "execution_count": null,
   "id": "cb7c3934",
   "metadata": {},
   "outputs": [],
   "source": [
    "Cube_test.write('Documents/SO/B335_SO_Gaussian_cube.fits', overwrite=True)"
   ]
  },
  {
   "cell_type": "code",
   "execution_count": 460,
   "id": "de64dc51",
   "metadata": {},
   "outputs": [],
   "source": [
    "dv = 1000*u.m/u.s\n",
    "m = 48.06*1.66054e-27*u.kg"
   ]
  },
  {
   "cell_type": "code",
   "execution_count": 461,
   "id": "b1f0b843",
   "metadata": {},
   "outputs": [],
   "source": [
    "T = (dv**2 * m)/(8*np.log(2)*constants.k_B)"
   ]
  },
  {
   "cell_type": "code",
   "execution_count": 463,
   "id": "99c63fc7",
   "metadata": {},
   "outputs": [
    {
     "data": {
      "text/latex": [
       "$1042.3999 \\; \\mathrm{K}$"
      ],
      "text/plain": [
       "<Quantity 1042.39993911 K>"
      ]
     },
     "execution_count": 463,
     "metadata": {},
     "output_type": "execute_result"
    }
   ],
   "source": [
    "T.to(u.K)"
   ]
  }
 ],
 "metadata": {
  "kernelspec": {
   "display_name": "Python 3 (ipykernel)",
   "language": "python",
   "name": "python3"
  },
  "language_info": {
   "codemirror_mode": {
    "name": "ipython",
    "version": 3
   },
   "file_extension": ".py",
   "mimetype": "text/x-python",
   "name": "python",
   "nbconvert_exporter": "python",
   "pygments_lexer": "ipython3",
   "version": "3.9.7"
  }
 },
 "nbformat": 4,
 "nbformat_minor": 5
}
